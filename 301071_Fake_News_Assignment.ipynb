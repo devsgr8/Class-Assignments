{
 "cells": [
  {
   "cell_type": "code",
   "execution_count": 5,
   "id": "d154e911",
   "metadata": {},
   "outputs": [],
   "source": [
    "import numpy as np\n",
    "import pandas as pd\n",
    "from matplotlib import pyplot as plt\n",
    "from sklearn.metrics import confusion_matrix\n",
    "from sklearn.neighbors import KNeighborsClassifier\n",
    "from sklearn.model_selection import train_test_split\n",
    "import seaborn as sns\n",
    "sns.set()"
   ]
  },
  {
   "cell_type": "code",
   "execution_count": 6,
   "id": "fa0b44a8",
   "metadata": {},
   "outputs": [],
   "source": [
    "df  = pd.read_csv(\"/Users/devrajdutta/Downloads/MLP Files/Real_fake_news.csv\")"
   ]
  },
  {
   "cell_type": "code",
   "execution_count": 7,
   "id": "3fbf2766",
   "metadata": {},
   "outputs": [
    {
     "data": {
      "text/html": [
       "<div>\n",
       "<style scoped>\n",
       "    .dataframe tbody tr th:only-of-type {\n",
       "        vertical-align: middle;\n",
       "    }\n",
       "\n",
       "    .dataframe tbody tr th {\n",
       "        vertical-align: top;\n",
       "    }\n",
       "\n",
       "    .dataframe thead th {\n",
       "        text-align: right;\n",
       "    }\n",
       "</style>\n",
       "<table border=\"1\" class=\"dataframe\">\n",
       "  <thead>\n",
       "    <tr style=\"text-align: right;\">\n",
       "      <th></th>\n",
       "      <th>Unnamed: 0</th>\n",
       "      <th>Unnamed: 0.1</th>\n",
       "      <th>author</th>\n",
       "      <th>statement</th>\n",
       "      <th>source</th>\n",
       "      <th>target</th>\n",
       "      <th>BinaryTarget</th>\n",
       "      <th>BinaryNumTarget</th>\n",
       "    </tr>\n",
       "  </thead>\n",
       "  <tbody>\n",
       "    <tr>\n",
       "      <th>0</th>\n",
       "      <td>0</td>\n",
       "      <td>0</td>\n",
       "      <td>Jill Terreri</td>\n",
       "      <td>New York is \"leading the nation with the lowes...</td>\n",
       "      <td>NYS Department of Corrections and Community Su...</td>\n",
       "      <td>True</td>\n",
       "      <td>REAL</td>\n",
       "      <td>1</td>\n",
       "    </tr>\n",
       "    <tr>\n",
       "      <th>1</th>\n",
       "      <td>1</td>\n",
       "      <td>1</td>\n",
       "      <td>Eleanor Hildebrandt</td>\n",
       "      <td>“Iowa ranks 45th in the U.S. for internet conn...</td>\n",
       "      <td>Cindy Axne</td>\n",
       "      <td>True</td>\n",
       "      <td>REAL</td>\n",
       "      <td>1</td>\n",
       "    </tr>\n",
       "    <tr>\n",
       "      <th>2</th>\n",
       "      <td>2</td>\n",
       "      <td>2</td>\n",
       "      <td>Emily Zirkelbach</td>\n",
       "      <td>“FUN FACT: West Virginia is home to zero billi...</td>\n",
       "      <td>David Gura</td>\n",
       "      <td>True</td>\n",
       "      <td>REAL</td>\n",
       "      <td>1</td>\n",
       "    </tr>\n",
       "  </tbody>\n",
       "</table>\n",
       "</div>"
      ],
      "text/plain": [
       "   Unnamed: 0  Unnamed: 0.1               author  \\\n",
       "0           0             0         Jill Terreri   \n",
       "1           1             1  Eleanor Hildebrandt   \n",
       "2           2             2     Emily Zirkelbach   \n",
       "\n",
       "                                           statement  \\\n",
       "0  New York is \"leading the nation with the lowes...   \n",
       "1  “Iowa ranks 45th in the U.S. for internet conn...   \n",
       "2  “FUN FACT: West Virginia is home to zero billi...   \n",
       "\n",
       "                                              source  target BinaryTarget  \\\n",
       "0  NYS Department of Corrections and Community Su...    True         REAL   \n",
       "1                                         Cindy Axne    True         REAL   \n",
       "2                                         David Gura    True         REAL   \n",
       "\n",
       "   BinaryNumTarget  \n",
       "0                1  \n",
       "1                1  \n",
       "2                1  "
      ]
     },
     "execution_count": 7,
     "metadata": {},
     "output_type": "execute_result"
    }
   ],
   "source": [
    "df.head(3)"
   ]
  },
  {
   "cell_type": "code",
   "execution_count": 8,
   "id": "e2f43413",
   "metadata": {},
   "outputs": [
    {
     "name": "stdout",
     "output_type": "stream",
     "text": [
      "Unnamed: 0         0\n",
      "Unnamed: 0.1       0\n",
      "author             0\n",
      "statement          0\n",
      "source             0\n",
      "target             0\n",
      "BinaryTarget       0\n",
      "BinaryNumTarget    0\n",
      "dtype: int64\n"
     ]
    }
   ],
   "source": [
    "## DATA PRE-PROCESSING\n",
    "\n",
    "#Finding out missing values in each column\n",
    "print(df.isna().sum())\n",
    "missing_status=df.isna().sum()\n",
    "##print(df.isnull().sum())"
   ]
  },
  {
   "cell_type": "code",
   "execution_count": 9,
   "id": "853eaacb",
   "metadata": {},
   "outputs": [
    {
     "data": {
      "text/html": [
       "<div>\n",
       "<style scoped>\n",
       "    .dataframe tbody tr th:only-of-type {\n",
       "        vertical-align: middle;\n",
       "    }\n",
       "\n",
       "    .dataframe tbody tr th {\n",
       "        vertical-align: top;\n",
       "    }\n",
       "\n",
       "    .dataframe thead th {\n",
       "        text-align: right;\n",
       "    }\n",
       "</style>\n",
       "<table border=\"1\" class=\"dataframe\">\n",
       "  <thead>\n",
       "    <tr style=\"text-align: right;\">\n",
       "      <th></th>\n",
       "      <th>Unnamed: 0</th>\n",
       "      <th>Unnamed: 0.1</th>\n",
       "      <th>author</th>\n",
       "      <th>statement</th>\n",
       "      <th>source</th>\n",
       "      <th>target</th>\n",
       "      <th>BinaryTarget</th>\n",
       "      <th>BinaryNumTarget</th>\n",
       "    </tr>\n",
       "  </thead>\n",
       "  <tbody>\n",
       "  </tbody>\n",
       "</table>\n",
       "</div>"
      ],
      "text/plain": [
       "Empty DataFrame\n",
       "Columns: [Unnamed: 0, Unnamed: 0.1, author, statement, source, target, BinaryTarget, BinaryNumTarget]\n",
       "Index: []"
      ]
     },
     "execution_count": 9,
     "metadata": {},
     "output_type": "execute_result"
    }
   ],
   "source": [
    "df[df.duplicated(keep = 'last')] "
   ]
  },
  {
   "cell_type": "code",
   "execution_count": 10,
   "id": "8d652ac7",
   "metadata": {},
   "outputs": [
    {
     "data": {
      "text/plain": [
       "Index(['Unnamed: 0', 'Unnamed: 0.1', 'author', 'statement', 'source', 'target',\n",
       "       'BinaryTarget', 'BinaryNumTarget'],\n",
       "      dtype='object')"
      ]
     },
     "execution_count": 10,
     "metadata": {},
     "output_type": "execute_result"
    }
   ],
   "source": [
    "df.columns"
   ]
  },
  {
   "cell_type": "code",
   "execution_count": 11,
   "id": "dc441eb9",
   "metadata": {},
   "outputs": [
    {
     "data": {
      "text/html": [
       "<div>\n",
       "<style scoped>\n",
       "    .dataframe tbody tr th:only-of-type {\n",
       "        vertical-align: middle;\n",
       "    }\n",
       "\n",
       "    .dataframe tbody tr th {\n",
       "        vertical-align: top;\n",
       "    }\n",
       "\n",
       "    .dataframe thead th {\n",
       "        text-align: right;\n",
       "    }\n",
       "</style>\n",
       "<table border=\"1\" class=\"dataframe\">\n",
       "  <thead>\n",
       "    <tr style=\"text-align: right;\">\n",
       "      <th></th>\n",
       "      <th>Unnamed: 0</th>\n",
       "      <th>Unnamed: 0.1</th>\n",
       "      <th>author</th>\n",
       "      <th>statement</th>\n",
       "      <th>source</th>\n",
       "      <th>target</th>\n",
       "      <th>BinaryTarget</th>\n",
       "      <th>BinaryNumTarget</th>\n",
       "    </tr>\n",
       "  </thead>\n",
       "  <tbody>\n",
       "    <tr>\n",
       "      <th>0</th>\n",
       "      <td>0</td>\n",
       "      <td>0</td>\n",
       "      <td>128</td>\n",
       "      <td>New York is \"leading the nation with the lowes...</td>\n",
       "      <td>1035</td>\n",
       "      <td>True</td>\n",
       "      <td>REAL</td>\n",
       "      <td>1</td>\n",
       "    </tr>\n",
       "    <tr>\n",
       "      <th>1</th>\n",
       "      <td>1</td>\n",
       "      <td>1</td>\n",
       "      <td>82</td>\n",
       "      <td>“Iowa ranks 45th in the U.S. for internet conn...</td>\n",
       "      <td>247</td>\n",
       "      <td>True</td>\n",
       "      <td>REAL</td>\n",
       "      <td>1</td>\n",
       "    </tr>\n",
       "    <tr>\n",
       "      <th>2</th>\n",
       "      <td>2</td>\n",
       "      <td>2</td>\n",
       "      <td>87</td>\n",
       "      <td>“FUN FACT: West Virginia is home to zero billi...</td>\n",
       "      <td>321</td>\n",
       "      <td>True</td>\n",
       "      <td>REAL</td>\n",
       "      <td>1</td>\n",
       "    </tr>\n",
       "  </tbody>\n",
       "</table>\n",
       "</div>"
      ],
      "text/plain": [
       "   Unnamed: 0  Unnamed: 0.1  author  \\\n",
       "0           0             0     128   \n",
       "1           1             1      82   \n",
       "2           2             2      87   \n",
       "\n",
       "                                           statement  source  target  \\\n",
       "0  New York is \"leading the nation with the lowes...    1035    True   \n",
       "1  “Iowa ranks 45th in the U.S. for internet conn...     247    True   \n",
       "2  “FUN FACT: West Virginia is home to zero billi...     321    True   \n",
       "\n",
       "  BinaryTarget  BinaryNumTarget  \n",
       "0         REAL                1  \n",
       "1         REAL                1  \n",
       "2         REAL                1  "
      ]
     },
     "execution_count": 11,
     "metadata": {},
     "output_type": "execute_result"
    }
   ],
   "source": [
    "from sklearn.neighbors import KNeighborsClassifier\n",
    "from sklearn.preprocessing import LabelEncoder\n",
    "le = LabelEncoder()\n",
    "df.author = le.fit_transform(df.author)\n",
    "df.source = le.fit_transform(df.source)\n",
    "df.head(3)"
   ]
  },
  {
   "cell_type": "code",
   "execution_count": 12,
   "id": "fc9e0591",
   "metadata": {},
   "outputs": [],
   "source": [
    "X=df[['author','source']]\n",
    "Y=df[['BinaryNumTarget']]\n",
    "X_train, X_test, Y_train, Y_test = train_test_split(X, Y, random_state=1)"
   ]
  },
  {
   "cell_type": "code",
   "execution_count": 13,
   "id": "86b318fe",
   "metadata": {},
   "outputs": [
    {
     "data": {
      "text/plain": [
       "Unnamed: 0         2436\n",
       "Unnamed: 0.1       2436\n",
       "author              318\n",
       "statement          4866\n",
       "source             1493\n",
       "target                2\n",
       "BinaryTarget          2\n",
       "BinaryNumTarget       2\n",
       "dtype: int64"
      ]
     },
     "execution_count": 13,
     "metadata": {},
     "output_type": "execute_result"
    }
   ],
   "source": [
    "df.nunique()"
   ]
  },
  {
   "cell_type": "code",
   "execution_count": 14,
   "id": "94f16158",
   "metadata": {},
   "outputs": [
    {
     "name": "stderr",
     "output_type": "stream",
     "text": [
      "/Users/devrajdutta/opt/anaconda3/lib/python3.9/site-packages/sklearn/neighbors/_classification.py:179: DataConversionWarning: A column-vector y was passed when a 1d array was expected. Please change the shape of y to (n_samples,), for example using ravel().\n",
      "  return self._fit(X, y)\n"
     ]
    },
    {
     "data": {
      "text/plain": [
       "KNeighborsClassifier(metric='euclidean')"
      ]
     },
     "execution_count": 14,
     "metadata": {},
     "output_type": "execute_result"
    }
   ],
   "source": [
    "knn = KNeighborsClassifier(n_neighbors=5, metric='euclidean')\n",
    "knn.fit(X_train, Y_train)"
   ]
  },
  {
   "cell_type": "code",
   "execution_count": 15,
   "id": "e3d576f9",
   "metadata": {},
   "outputs": [],
   "source": [
    "Y_pred = knn.predict(X_test)"
   ]
  },
  {
   "cell_type": "code",
   "execution_count": 16,
   "id": "c8266898",
   "metadata": {},
   "outputs": [
    {
     "data": {
      "text/plain": [
       "array([[477, 128],\n",
       "       [ 81, 532]])"
      ]
     },
     "execution_count": 16,
     "metadata": {},
     "output_type": "execute_result"
    }
   ],
   "source": [
    "confusion_matrix(Y_test, Y_pred)"
   ]
  },
  {
   "cell_type": "code",
   "execution_count": 17,
   "id": "57f2b68b",
   "metadata": {},
   "outputs": [
    {
     "data": {
      "text/plain": [
       "0.8284072249589491"
      ]
     },
     "execution_count": 17,
     "metadata": {},
     "output_type": "execute_result"
    }
   ],
   "source": [
    "from sklearn.metrics import accuracy_score\n",
    "accuracy_score(Y_test, Y_pred)"
   ]
  },
  {
   "cell_type": "code",
   "execution_count": 18,
   "id": "79e3dded",
   "metadata": {},
   "outputs": [
    {
     "name": "stderr",
     "output_type": "stream",
     "text": [
      "/Users/devrajdutta/opt/anaconda3/lib/python3.9/site-packages/sklearn/neighbors/_classification.py:179: DataConversionWarning: A column-vector y was passed when a 1d array was expected. Please change the shape of y to (n_samples,), for example using ravel().\n",
      "  return self._fit(X, y)\n"
     ]
    },
    {
     "data": {
      "text/plain": [
       "KNeighborsClassifier(n_neighbors=1)"
      ]
     },
     "execution_count": 18,
     "metadata": {},
     "output_type": "execute_result"
    },
    {
     "name": "stderr",
     "output_type": "stream",
     "text": [
      "/Users/devrajdutta/opt/anaconda3/lib/python3.9/site-packages/sklearn/neighbors/_classification.py:179: DataConversionWarning: A column-vector y was passed when a 1d array was expected. Please change the shape of y to (n_samples,), for example using ravel().\n",
      "  return self._fit(X, y)\n"
     ]
    },
    {
     "data": {
      "text/plain": [
       "KNeighborsClassifier(n_neighbors=2)"
      ]
     },
     "execution_count": 18,
     "metadata": {},
     "output_type": "execute_result"
    },
    {
     "name": "stderr",
     "output_type": "stream",
     "text": [
      "/Users/devrajdutta/opt/anaconda3/lib/python3.9/site-packages/sklearn/neighbors/_classification.py:179: DataConversionWarning: A column-vector y was passed when a 1d array was expected. Please change the shape of y to (n_samples,), for example using ravel().\n",
      "  return self._fit(X, y)\n"
     ]
    },
    {
     "data": {
      "text/plain": [
       "KNeighborsClassifier(n_neighbors=3)"
      ]
     },
     "execution_count": 18,
     "metadata": {},
     "output_type": "execute_result"
    },
    {
     "name": "stderr",
     "output_type": "stream",
     "text": [
      "/Users/devrajdutta/opt/anaconda3/lib/python3.9/site-packages/sklearn/neighbors/_classification.py:179: DataConversionWarning: A column-vector y was passed when a 1d array was expected. Please change the shape of y to (n_samples,), for example using ravel().\n",
      "  return self._fit(X, y)\n"
     ]
    },
    {
     "data": {
      "text/plain": [
       "KNeighborsClassifier(n_neighbors=4)"
      ]
     },
     "execution_count": 18,
     "metadata": {},
     "output_type": "execute_result"
    },
    {
     "name": "stderr",
     "output_type": "stream",
     "text": [
      "/Users/devrajdutta/opt/anaconda3/lib/python3.9/site-packages/sklearn/neighbors/_classification.py:179: DataConversionWarning: A column-vector y was passed when a 1d array was expected. Please change the shape of y to (n_samples,), for example using ravel().\n",
      "  return self._fit(X, y)\n"
     ]
    },
    {
     "data": {
      "text/plain": [
       "KNeighborsClassifier()"
      ]
     },
     "execution_count": 18,
     "metadata": {},
     "output_type": "execute_result"
    },
    {
     "name": "stderr",
     "output_type": "stream",
     "text": [
      "/Users/devrajdutta/opt/anaconda3/lib/python3.9/site-packages/sklearn/neighbors/_classification.py:179: DataConversionWarning: A column-vector y was passed when a 1d array was expected. Please change the shape of y to (n_samples,), for example using ravel().\n",
      "  return self._fit(X, y)\n"
     ]
    },
    {
     "data": {
      "text/plain": [
       "KNeighborsClassifier(n_neighbors=6)"
      ]
     },
     "execution_count": 18,
     "metadata": {},
     "output_type": "execute_result"
    },
    {
     "name": "stderr",
     "output_type": "stream",
     "text": [
      "/Users/devrajdutta/opt/anaconda3/lib/python3.9/site-packages/sklearn/neighbors/_classification.py:179: DataConversionWarning: A column-vector y was passed when a 1d array was expected. Please change the shape of y to (n_samples,), for example using ravel().\n",
      "  return self._fit(X, y)\n"
     ]
    },
    {
     "data": {
      "text/plain": [
       "KNeighborsClassifier(n_neighbors=7)"
      ]
     },
     "execution_count": 18,
     "metadata": {},
     "output_type": "execute_result"
    },
    {
     "name": "stderr",
     "output_type": "stream",
     "text": [
      "/Users/devrajdutta/opt/anaconda3/lib/python3.9/site-packages/sklearn/neighbors/_classification.py:179: DataConversionWarning: A column-vector y was passed when a 1d array was expected. Please change the shape of y to (n_samples,), for example using ravel().\n",
      "  return self._fit(X, y)\n"
     ]
    },
    {
     "data": {
      "text/plain": [
       "KNeighborsClassifier(n_neighbors=8)"
      ]
     },
     "execution_count": 18,
     "metadata": {},
     "output_type": "execute_result"
    },
    {
     "name": "stderr",
     "output_type": "stream",
     "text": [
      "/Users/devrajdutta/opt/anaconda3/lib/python3.9/site-packages/sklearn/neighbors/_classification.py:179: DataConversionWarning: A column-vector y was passed when a 1d array was expected. Please change the shape of y to (n_samples,), for example using ravel().\n",
      "  return self._fit(X, y)\n"
     ]
    },
    {
     "data": {
      "text/plain": [
       "KNeighborsClassifier(n_neighbors=9)"
      ]
     },
     "execution_count": 18,
     "metadata": {},
     "output_type": "execute_result"
    },
    {
     "name": "stderr",
     "output_type": "stream",
     "text": [
      "/Users/devrajdutta/opt/anaconda3/lib/python3.9/site-packages/sklearn/neighbors/_classification.py:179: DataConversionWarning: A column-vector y was passed when a 1d array was expected. Please change the shape of y to (n_samples,), for example using ravel().\n",
      "  return self._fit(X, y)\n"
     ]
    },
    {
     "data": {
      "text/plain": [
       "KNeighborsClassifier(n_neighbors=10)"
      ]
     },
     "execution_count": 18,
     "metadata": {},
     "output_type": "execute_result"
    },
    {
     "name": "stderr",
     "output_type": "stream",
     "text": [
      "/Users/devrajdutta/opt/anaconda3/lib/python3.9/site-packages/sklearn/neighbors/_classification.py:179: DataConversionWarning: A column-vector y was passed when a 1d array was expected. Please change the shape of y to (n_samples,), for example using ravel().\n",
      "  return self._fit(X, y)\n"
     ]
    },
    {
     "data": {
      "text/plain": [
       "KNeighborsClassifier(n_neighbors=11)"
      ]
     },
     "execution_count": 18,
     "metadata": {},
     "output_type": "execute_result"
    },
    {
     "name": "stderr",
     "output_type": "stream",
     "text": [
      "/Users/devrajdutta/opt/anaconda3/lib/python3.9/site-packages/sklearn/neighbors/_classification.py:179: DataConversionWarning: A column-vector y was passed when a 1d array was expected. Please change the shape of y to (n_samples,), for example using ravel().\n",
      "  return self._fit(X, y)\n"
     ]
    },
    {
     "data": {
      "text/plain": [
       "KNeighborsClassifier(n_neighbors=12)"
      ]
     },
     "execution_count": 18,
     "metadata": {},
     "output_type": "execute_result"
    },
    {
     "name": "stderr",
     "output_type": "stream",
     "text": [
      "/Users/devrajdutta/opt/anaconda3/lib/python3.9/site-packages/sklearn/neighbors/_classification.py:179: DataConversionWarning: A column-vector y was passed when a 1d array was expected. Please change the shape of y to (n_samples,), for example using ravel().\n",
      "  return self._fit(X, y)\n"
     ]
    },
    {
     "data": {
      "text/plain": [
       "KNeighborsClassifier(n_neighbors=13)"
      ]
     },
     "execution_count": 18,
     "metadata": {},
     "output_type": "execute_result"
    },
    {
     "name": "stderr",
     "output_type": "stream",
     "text": [
      "/Users/devrajdutta/opt/anaconda3/lib/python3.9/site-packages/sklearn/neighbors/_classification.py:179: DataConversionWarning: A column-vector y was passed when a 1d array was expected. Please change the shape of y to (n_samples,), for example using ravel().\n",
      "  return self._fit(X, y)\n"
     ]
    },
    {
     "data": {
      "text/plain": [
       "KNeighborsClassifier(n_neighbors=14)"
      ]
     },
     "execution_count": 18,
     "metadata": {},
     "output_type": "execute_result"
    },
    {
     "name": "stderr",
     "output_type": "stream",
     "text": [
      "/Users/devrajdutta/opt/anaconda3/lib/python3.9/site-packages/sklearn/neighbors/_classification.py:179: DataConversionWarning: A column-vector y was passed when a 1d array was expected. Please change the shape of y to (n_samples,), for example using ravel().\n",
      "  return self._fit(X, y)\n"
     ]
    },
    {
     "data": {
      "text/plain": [
       "KNeighborsClassifier(n_neighbors=15)"
      ]
     },
     "execution_count": 18,
     "metadata": {},
     "output_type": "execute_result"
    },
    {
     "name": "stderr",
     "output_type": "stream",
     "text": [
      "/Users/devrajdutta/opt/anaconda3/lib/python3.9/site-packages/sklearn/neighbors/_classification.py:179: DataConversionWarning: A column-vector y was passed when a 1d array was expected. Please change the shape of y to (n_samples,), for example using ravel().\n",
      "  return self._fit(X, y)\n"
     ]
    },
    {
     "data": {
      "text/plain": [
       "KNeighborsClassifier(n_neighbors=16)"
      ]
     },
     "execution_count": 18,
     "metadata": {},
     "output_type": "execute_result"
    },
    {
     "name": "stderr",
     "output_type": "stream",
     "text": [
      "/Users/devrajdutta/opt/anaconda3/lib/python3.9/site-packages/sklearn/neighbors/_classification.py:179: DataConversionWarning: A column-vector y was passed when a 1d array was expected. Please change the shape of y to (n_samples,), for example using ravel().\n",
      "  return self._fit(X, y)\n"
     ]
    },
    {
     "data": {
      "text/plain": [
       "KNeighborsClassifier(n_neighbors=17)"
      ]
     },
     "execution_count": 18,
     "metadata": {},
     "output_type": "execute_result"
    },
    {
     "name": "stderr",
     "output_type": "stream",
     "text": [
      "/Users/devrajdutta/opt/anaconda3/lib/python3.9/site-packages/sklearn/neighbors/_classification.py:179: DataConversionWarning: A column-vector y was passed when a 1d array was expected. Please change the shape of y to (n_samples,), for example using ravel().\n",
      "  return self._fit(X, y)\n"
     ]
    },
    {
     "data": {
      "text/plain": [
       "KNeighborsClassifier(n_neighbors=18)"
      ]
     },
     "execution_count": 18,
     "metadata": {},
     "output_type": "execute_result"
    },
    {
     "name": "stderr",
     "output_type": "stream",
     "text": [
      "/Users/devrajdutta/opt/anaconda3/lib/python3.9/site-packages/sklearn/neighbors/_classification.py:179: DataConversionWarning: A column-vector y was passed when a 1d array was expected. Please change the shape of y to (n_samples,), for example using ravel().\n",
      "  return self._fit(X, y)\n"
     ]
    },
    {
     "data": {
      "text/plain": [
       "KNeighborsClassifier(n_neighbors=19)"
      ]
     },
     "execution_count": 18,
     "metadata": {},
     "output_type": "execute_result"
    },
    {
     "name": "stderr",
     "output_type": "stream",
     "text": [
      "/Users/devrajdutta/opt/anaconda3/lib/python3.9/site-packages/sklearn/neighbors/_classification.py:179: DataConversionWarning: A column-vector y was passed when a 1d array was expected. Please change the shape of y to (n_samples,), for example using ravel().\n",
      "  return self._fit(X, y)\n"
     ]
    },
    {
     "data": {
      "text/plain": [
       "KNeighborsClassifier(n_neighbors=20)"
      ]
     },
     "execution_count": 18,
     "metadata": {},
     "output_type": "execute_result"
    },
    {
     "name": "stderr",
     "output_type": "stream",
     "text": [
      "/Users/devrajdutta/opt/anaconda3/lib/python3.9/site-packages/sklearn/neighbors/_classification.py:179: DataConversionWarning: A column-vector y was passed when a 1d array was expected. Please change the shape of y to (n_samples,), for example using ravel().\n",
      "  return self._fit(X, y)\n"
     ]
    },
    {
     "data": {
      "text/plain": [
       "KNeighborsClassifier(n_neighbors=21)"
      ]
     },
     "execution_count": 18,
     "metadata": {},
     "output_type": "execute_result"
    },
    {
     "name": "stderr",
     "output_type": "stream",
     "text": [
      "/Users/devrajdutta/opt/anaconda3/lib/python3.9/site-packages/sklearn/neighbors/_classification.py:179: DataConversionWarning: A column-vector y was passed when a 1d array was expected. Please change the shape of y to (n_samples,), for example using ravel().\n",
      "  return self._fit(X, y)\n"
     ]
    },
    {
     "data": {
      "text/plain": [
       "KNeighborsClassifier(n_neighbors=22)"
      ]
     },
     "execution_count": 18,
     "metadata": {},
     "output_type": "execute_result"
    },
    {
     "name": "stderr",
     "output_type": "stream",
     "text": [
      "/Users/devrajdutta/opt/anaconda3/lib/python3.9/site-packages/sklearn/neighbors/_classification.py:179: DataConversionWarning: A column-vector y was passed when a 1d array was expected. Please change the shape of y to (n_samples,), for example using ravel().\n",
      "  return self._fit(X, y)\n"
     ]
    },
    {
     "data": {
      "text/plain": [
       "KNeighborsClassifier(n_neighbors=23)"
      ]
     },
     "execution_count": 18,
     "metadata": {},
     "output_type": "execute_result"
    },
    {
     "name": "stderr",
     "output_type": "stream",
     "text": [
      "/Users/devrajdutta/opt/anaconda3/lib/python3.9/site-packages/sklearn/neighbors/_classification.py:179: DataConversionWarning: A column-vector y was passed when a 1d array was expected. Please change the shape of y to (n_samples,), for example using ravel().\n",
      "  return self._fit(X, y)\n"
     ]
    },
    {
     "data": {
      "text/plain": [
       "KNeighborsClassifier(n_neighbors=24)"
      ]
     },
     "execution_count": 18,
     "metadata": {},
     "output_type": "execute_result"
    },
    {
     "name": "stderr",
     "output_type": "stream",
     "text": [
      "/Users/devrajdutta/opt/anaconda3/lib/python3.9/site-packages/sklearn/neighbors/_classification.py:179: DataConversionWarning: A column-vector y was passed when a 1d array was expected. Please change the shape of y to (n_samples,), for example using ravel().\n",
      "  return self._fit(X, y)\n"
     ]
    },
    {
     "data": {
      "text/plain": [
       "KNeighborsClassifier(n_neighbors=25)"
      ]
     },
     "execution_count": 18,
     "metadata": {},
     "output_type": "execute_result"
    },
    {
     "name": "stderr",
     "output_type": "stream",
     "text": [
      "/Users/devrajdutta/opt/anaconda3/lib/python3.9/site-packages/sklearn/neighbors/_classification.py:179: DataConversionWarning: A column-vector y was passed when a 1d array was expected. Please change the shape of y to (n_samples,), for example using ravel().\n",
      "  return self._fit(X, y)\n"
     ]
    },
    {
     "data": {
      "text/plain": [
       "KNeighborsClassifier(n_neighbors=26)"
      ]
     },
     "execution_count": 18,
     "metadata": {},
     "output_type": "execute_result"
    },
    {
     "name": "stderr",
     "output_type": "stream",
     "text": [
      "/Users/devrajdutta/opt/anaconda3/lib/python3.9/site-packages/sklearn/neighbors/_classification.py:179: DataConversionWarning: A column-vector y was passed when a 1d array was expected. Please change the shape of y to (n_samples,), for example using ravel().\n",
      "  return self._fit(X, y)\n"
     ]
    },
    {
     "data": {
      "text/plain": [
       "KNeighborsClassifier(n_neighbors=27)"
      ]
     },
     "execution_count": 18,
     "metadata": {},
     "output_type": "execute_result"
    },
    {
     "name": "stderr",
     "output_type": "stream",
     "text": [
      "/Users/devrajdutta/opt/anaconda3/lib/python3.9/site-packages/sklearn/neighbors/_classification.py:179: DataConversionWarning: A column-vector y was passed when a 1d array was expected. Please change the shape of y to (n_samples,), for example using ravel().\n",
      "  return self._fit(X, y)\n"
     ]
    },
    {
     "data": {
      "text/plain": [
       "KNeighborsClassifier(n_neighbors=28)"
      ]
     },
     "execution_count": 18,
     "metadata": {},
     "output_type": "execute_result"
    },
    {
     "name": "stderr",
     "output_type": "stream",
     "text": [
      "/Users/devrajdutta/opt/anaconda3/lib/python3.9/site-packages/sklearn/neighbors/_classification.py:179: DataConversionWarning: A column-vector y was passed when a 1d array was expected. Please change the shape of y to (n_samples,), for example using ravel().\n",
      "  return self._fit(X, y)\n"
     ]
    },
    {
     "data": {
      "text/plain": [
       "KNeighborsClassifier(n_neighbors=29)"
      ]
     },
     "execution_count": 18,
     "metadata": {},
     "output_type": "execute_result"
    },
    {
     "name": "stderr",
     "output_type": "stream",
     "text": [
      "/Users/devrajdutta/opt/anaconda3/lib/python3.9/site-packages/sklearn/neighbors/_classification.py:179: DataConversionWarning: A column-vector y was passed when a 1d array was expected. Please change the shape of y to (n_samples,), for example using ravel().\n",
      "  return self._fit(X, y)\n"
     ]
    },
    {
     "data": {
      "text/plain": [
       "KNeighborsClassifier(n_neighbors=30)"
      ]
     },
     "execution_count": 18,
     "metadata": {},
     "output_type": "execute_result"
    },
    {
     "name": "stderr",
     "output_type": "stream",
     "text": [
      "/Users/devrajdutta/opt/anaconda3/lib/python3.9/site-packages/sklearn/neighbors/_classification.py:179: DataConversionWarning: A column-vector y was passed when a 1d array was expected. Please change the shape of y to (n_samples,), for example using ravel().\n",
      "  return self._fit(X, y)\n"
     ]
    },
    {
     "data": {
      "text/plain": [
       "KNeighborsClassifier(n_neighbors=31)"
      ]
     },
     "execution_count": 18,
     "metadata": {},
     "output_type": "execute_result"
    },
    {
     "name": "stderr",
     "output_type": "stream",
     "text": [
      "/Users/devrajdutta/opt/anaconda3/lib/python3.9/site-packages/sklearn/neighbors/_classification.py:179: DataConversionWarning: A column-vector y was passed when a 1d array was expected. Please change the shape of y to (n_samples,), for example using ravel().\n",
      "  return self._fit(X, y)\n"
     ]
    },
    {
     "data": {
      "text/plain": [
       "KNeighborsClassifier(n_neighbors=32)"
      ]
     },
     "execution_count": 18,
     "metadata": {},
     "output_type": "execute_result"
    },
    {
     "name": "stderr",
     "output_type": "stream",
     "text": [
      "/Users/devrajdutta/opt/anaconda3/lib/python3.9/site-packages/sklearn/neighbors/_classification.py:179: DataConversionWarning: A column-vector y was passed when a 1d array was expected. Please change the shape of y to (n_samples,), for example using ravel().\n",
      "  return self._fit(X, y)\n"
     ]
    },
    {
     "data": {
      "text/plain": [
       "KNeighborsClassifier(n_neighbors=33)"
      ]
     },
     "execution_count": 18,
     "metadata": {},
     "output_type": "execute_result"
    },
    {
     "name": "stderr",
     "output_type": "stream",
     "text": [
      "/Users/devrajdutta/opt/anaconda3/lib/python3.9/site-packages/sklearn/neighbors/_classification.py:179: DataConversionWarning: A column-vector y was passed when a 1d array was expected. Please change the shape of y to (n_samples,), for example using ravel().\n",
      "  return self._fit(X, y)\n"
     ]
    },
    {
     "data": {
      "text/plain": [
       "KNeighborsClassifier(n_neighbors=34)"
      ]
     },
     "execution_count": 18,
     "metadata": {},
     "output_type": "execute_result"
    },
    {
     "name": "stderr",
     "output_type": "stream",
     "text": [
      "/Users/devrajdutta/opt/anaconda3/lib/python3.9/site-packages/sklearn/neighbors/_classification.py:179: DataConversionWarning: A column-vector y was passed when a 1d array was expected. Please change the shape of y to (n_samples,), for example using ravel().\n",
      "  return self._fit(X, y)\n"
     ]
    },
    {
     "data": {
      "text/plain": [
       "KNeighborsClassifier(n_neighbors=35)"
      ]
     },
     "execution_count": 18,
     "metadata": {},
     "output_type": "execute_result"
    },
    {
     "name": "stderr",
     "output_type": "stream",
     "text": [
      "/Users/devrajdutta/opt/anaconda3/lib/python3.9/site-packages/sklearn/neighbors/_classification.py:179: DataConversionWarning: A column-vector y was passed when a 1d array was expected. Please change the shape of y to (n_samples,), for example using ravel().\n",
      "  return self._fit(X, y)\n"
     ]
    },
    {
     "data": {
      "text/plain": [
       "KNeighborsClassifier(n_neighbors=36)"
      ]
     },
     "execution_count": 18,
     "metadata": {},
     "output_type": "execute_result"
    },
    {
     "name": "stderr",
     "output_type": "stream",
     "text": [
      "/Users/devrajdutta/opt/anaconda3/lib/python3.9/site-packages/sklearn/neighbors/_classification.py:179: DataConversionWarning: A column-vector y was passed when a 1d array was expected. Please change the shape of y to (n_samples,), for example using ravel().\n",
      "  return self._fit(X, y)\n"
     ]
    },
    {
     "data": {
      "text/plain": [
       "KNeighborsClassifier(n_neighbors=37)"
      ]
     },
     "execution_count": 18,
     "metadata": {},
     "output_type": "execute_result"
    },
    {
     "name": "stderr",
     "output_type": "stream",
     "text": [
      "/Users/devrajdutta/opt/anaconda3/lib/python3.9/site-packages/sklearn/neighbors/_classification.py:179: DataConversionWarning: A column-vector y was passed when a 1d array was expected. Please change the shape of y to (n_samples,), for example using ravel().\n",
      "  return self._fit(X, y)\n"
     ]
    },
    {
     "data": {
      "text/plain": [
       "KNeighborsClassifier(n_neighbors=38)"
      ]
     },
     "execution_count": 18,
     "metadata": {},
     "output_type": "execute_result"
    },
    {
     "name": "stderr",
     "output_type": "stream",
     "text": [
      "/Users/devrajdutta/opt/anaconda3/lib/python3.9/site-packages/sklearn/neighbors/_classification.py:179: DataConversionWarning: A column-vector y was passed when a 1d array was expected. Please change the shape of y to (n_samples,), for example using ravel().\n",
      "  return self._fit(X, y)\n"
     ]
    },
    {
     "data": {
      "text/plain": [
       "KNeighborsClassifier(n_neighbors=39)"
      ]
     },
     "execution_count": 18,
     "metadata": {},
     "output_type": "execute_result"
    },
    {
     "data": {
      "text/plain": [
       "<Figure size 720x432 with 0 Axes>"
      ]
     },
     "execution_count": 18,
     "metadata": {},
     "output_type": "execute_result"
    },
    {
     "data": {
      "text/plain": [
       "[<matplotlib.lines.Line2D at 0x7fca5c09baf0>]"
      ]
     },
     "execution_count": 18,
     "metadata": {},
     "output_type": "execute_result"
    },
    {
     "data": {
      "text/plain": [
       "Text(0.5, 1.0, 'Error Rate vs. K Value')"
      ]
     },
     "execution_count": 18,
     "metadata": {},
     "output_type": "execute_result"
    },
    {
     "data": {
      "text/plain": [
       "Text(0.5, 0, 'K')"
      ]
     },
     "execution_count": 18,
     "metadata": {},
     "output_type": "execute_result"
    },
    {
     "data": {
      "text/plain": [
       "Text(0, 0.5, 'Error Rate')"
      ]
     },
     "execution_count": 18,
     "metadata": {},
     "output_type": "execute_result"
    },
    {
     "data": {
      "image/png": "[encoded data removed]",
      "text/plain": [
       "<Figure size 720x432 with 1 Axes>"
      ]
     },
     "metadata": {},
     "output_type": "display_data"
    },
    {
     "name": "stdout",
     "output_type": "stream",
     "text": [
      "Minimum error:- 0.17159277504105086 at K = 5\n"
     ]
    }
   ],
   "source": [
    "error_rate = []\n",
    "for i in range(1,40):\n",
    " knn = KNeighborsClassifier(n_neighbors=i)\n",
    " knn.fit(X_train,Y_train)\n",
    " pred_i = knn.predict(X_test)\n",
    " #print (pred_i)\n",
    " #print (1-accuracy_score(y_test, pred_i))\n",
    " error_rate.append(1-accuracy_score(Y_test, pred_i))\n",
    "\n",
    "plt.figure(figsize=(10,6))\n",
    "plt.plot(range(1,40),error_rate,color='blue', linestyle='dashed', \n",
    "         marker='o',markerfacecolor='red', markersize=10)\n",
    "plt.title('Error Rate vs. K Value')\n",
    "plt.xlabel('K')\n",
    "plt.ylabel('Error Rate')\n",
    "plt.show()\n",
    "print(\"Minimum error:-\",min(error_rate),\"at K =\",error_rate.index(min(error_rate))+1)"
   ]
  },
  {
   "cell_type": "code",
   "execution_count": 19,
   "id": "2782869a",
   "metadata": {},
   "outputs": [],
   "source": [
    "from sklearn.preprocessing import StandardScaler\n",
    "from sklearn.tree import DecisionTreeClassifier as dtree\n",
    "from sklearn.tree import export_graphviz\n",
    "import graphviz"
   ]
  },
  {
   "cell_type": "code",
   "execution_count": 20,
   "id": "b5fc0c59",
   "metadata": {},
   "outputs": [],
   "source": [
    "from IPython.core.interactiveshell import InteractiveShell\n",
    "InteractiveShell.ast_node_interactivity = \"all\""
   ]
  },
  {
   "cell_type": "code",
   "execution_count": 23,
   "id": "52b66f77",
   "metadata": {},
   "outputs": [],
   "source": [
    "X=df[['author','source']]\n",
    "Y=df[['BinaryNumTarget']]"
   ]
  },
  {
   "cell_type": "code",
   "execution_count": 24,
   "id": "44e6d5b2",
   "metadata": {},
   "outputs": [
    {
     "data": {
      "text/plain": [
       "StandardScaler()"
      ]
     },
     "execution_count": 24,
     "metadata": {},
     "output_type": "execute_result"
    }
   ],
   "source": [
    "ss = StandardScaler()\n",
    "ss.fit(X)\n",
    "X = ss.transform(X)"
   ]
  },
  {
   "cell_type": "code",
   "execution_count": 25,
   "id": "7d452b1e",
   "metadata": {},
   "outputs": [],
   "source": [
    "X_train, X_test, Y_train, Y_test = train_test_split(\n",
    "                                                     X,\n",
    "                                                     Y,\n",
    "                                                     test_size = 0.3,\n",
    "                                                     shuffle = True,\n",
    "                                                     stratify = Y\n",
    "                                                    )\n"
   ]
  },
  {
   "cell_type": "code",
   "execution_count": 26,
   "id": "d822499b",
   "metadata": {},
   "outputs": [
    {
     "data": {
      "text/plain": [
       "(3409, 2)"
      ]
     },
     "execution_count": 26,
     "metadata": {},
     "output_type": "execute_result"
    },
    {
     "name": "stdout",
     "output_type": "stream",
     "text": [
      "\n"
     ]
    },
    {
     "data": {
      "text/plain": [
       "(1461, 2)"
      ]
     },
     "execution_count": 26,
     "metadata": {},
     "output_type": "execute_result"
    },
    {
     "name": "stdout",
     "output_type": "stream",
     "text": [
      "\n"
     ]
    }
   ],
   "source": [
    "X_train.shape \n",
    "print()\n",
    "\n",
    "X_test.shape  \n",
    "print()"
   ]
  },
  {
   "cell_type": "code",
   "execution_count": 27,
   "id": "a61ada6c",
   "metadata": {},
   "outputs": [],
   "source": [
    "ct = dtree(\n",
    "           criterion=\"gini\",    \n",
    "           max_depth=None      \n",
    "           )"
   ]
  },
  {
   "cell_type": "code",
   "execution_count": 28,
   "id": "c784719f",
   "metadata": {},
   "outputs": [
    {
     "data": {
      "text/plain": [
       "DecisionTreeClassifier()"
      ]
     },
     "execution_count": 28,
     "metadata": {},
     "output_type": "execute_result"
    }
   ],
   "source": [
    "ct.fit(X_train,Y_train)"
   ]
  },
  {
   "cell_type": "code",
   "execution_count": 29,
   "id": "5c8de849",
   "metadata": {},
   "outputs": [],
   "source": [
    "Y_pred = ct.predict(X_test)"
   ]
  },
  {
   "cell_type": "code",
   "execution_count": 30,
   "id": "ac74b229",
   "metadata": {},
   "outputs": [
    {
     "name": "stdout",
     "output_type": "stream",
     "text": [
      "Accuracy: 0.8521560574948666\n"
     ]
    }
   ],
   "source": [
    "print(\"Accuracy:\",accuracy_score(Y_test, Y_pred))"
   ]
  },
  {
   "cell_type": "code",
   "execution_count": 31,
   "id": "3b6f36e5",
   "metadata": {},
   "outputs": [
    {
     "data": {
      "text/plain": [
       "<Figure size 864x504 with 0 Axes>"
      ]
     },
     "execution_count": 31,
     "metadata": {},
     "output_type": "execute_result"
    },
    {
     "data": {
      "text/plain": [
       "[Text(497.2107741416117, 373.95931034482754, 'X[1] <= 1.535\\ngini = 0.5\\nsamples = 3409\\nvalue = [1704, 1705]'),\n",
       " Text(350.9597802005597, 360.8379310344827, 'X[1] <= -0.381\\ngini = 0.493\\nsamples = 2958\\nvalue = [1308, 1650]'),\n",
       " Text(162.99082502152697, 347.7165517241379, 'X[1] <= -0.741\\ngini = 0.485\\nsamples = 1729\\nvalue = [1016, 713]'),\n",
       " Text(63.3620891934558, 334.5951724137931, 'X[1] <= -1.307\\ngini = 0.418\\nsamples = 681\\nvalue = [203, 478]'),\n",
       " Text(24.888978185993114, 321.47379310344826, 'X[1] <= -1.526\\ngini = 0.22\\nsamples = 247\\nvalue = [31, 216]'),\n",
       " Text(7.687715269804823, 308.35241379310344, 'X[0] <= -0.931\\ngini = 0.492\\nsamples = 39\\nvalue = [17, 22]'),\n",
       " Text(3.075086107921929, 295.2310344827586, 'X[1] <= -1.573\\ngini = 0.188\\nsamples = 19\\nvalue = [2, 17]'),\n",
       " Text(1.5375430539609645, 282.1096551724138, 'gini = 0.0\\nsamples = 1\\nvalue = [1, 0]'),\n",
       " Text(4.612629161882893, 282.1096551724138, 'X[0] <= -1.264\\ngini = 0.105\\nsamples = 18\\nvalue = [1, 17]'),\n",
       " Text(3.075086107921929, 268.988275862069, 'gini = 0.0\\nsamples = 15\\nvalue = [0, 15]'),\n",
       " Text(6.150172215843858, 268.988275862069, 'X[0] <= -1.108\\ngini = 0.444\\nsamples = 3\\nvalue = [1, 2]'),\n",
       " Text(4.612629161882893, 255.86689655172412, 'gini = 0.0\\nsamples = 1\\nvalue = [1, 0]'),\n",
       " Text(7.687715269804823, 255.86689655172412, 'gini = 0.0\\nsamples = 2\\nvalue = [0, 2]'),\n",
       " Text(12.300344431687716, 295.2310344827586, 'X[1] <= -1.539\\ngini = 0.375\\nsamples = 20\\nvalue = [15, 5]'),\n",
       " Text(10.76280137772675, 282.1096551724138, 'X[0] <= -0.343\\ngini = 0.486\\nsamples = 12\\nvalue = [7, 5]'),\n",
       " Text(9.225258323765786, 268.988275862069, 'gini = 0.0\\nsamples = 3\\nvalue = [3, 0]'),\n",
       " Text(12.300344431687716, 268.988275862069, 'X[1] <= -1.59\\ngini = 0.494\\nsamples = 9\\nvalue = [4, 5]'),\n",
       " Text(10.76280137772675, 255.86689655172412, 'gini = 0.0\\nsamples = 1\\nvalue = [1, 0]'),\n",
       " Text(13.83788748564868, 255.86689655172412, 'X[0] <= 0.51\\ngini = 0.469\\nsamples = 8\\nvalue = [3, 5]'),\n",
       " Text(12.300344431687716, 242.7455172413793, 'gini = 0.0\\nsamples = 3\\nvalue = [0, 3]'),\n",
       " Text(15.375430539609646, 242.7455172413793, 'X[1] <= -1.581\\ngini = 0.48\\nsamples = 5\\nvalue = [3, 2]'),\n",
       " Text(13.83788748564868, 229.62413793103448, 'gini = 0.0\\nsamples = 1\\nvalue = [0, 1]'),\n",
       " Text(16.91297359357061, 229.62413793103448, 'X[1] <= -1.552\\ngini = 0.375\\nsamples = 4\\nvalue = [3, 1]'),\n",
       " Text(15.375430539609646, 216.50275862068966, 'gini = 0.0\\nsamples = 2\\nvalue = [2, 0]'),\n",
       " Text(18.450516647531572, 216.50275862068966, 'gini = 0.5\\nsamples = 2\\nvalue = [1, 1]'),\n",
       " Text(13.83788748564868, 282.1096551724138, 'gini = 0.0\\nsamples = 8\\nvalue = [8, 0]'),\n",
       " Text(42.0902411021814, 308.35241379310344, 'X[0] <= 1.566\\ngini = 0.126\\nsamples = 208\\nvalue = [14, 194]'),\n",
       " Text(36.51664753157291, 295.2310344827586, 'X[1] <= -1.385\\ngini = 0.111\\nsamples = 204\\nvalue = [12, 192]'),\n",
       " Text(29.982089552238808, 282.1096551724138, 'X[1] <= -1.462\\ngini = 0.067\\nsamples = 143\\nvalue = [5, 138]'),\n",
       " Text(28.44454649827784, 268.988275862069, 'X[1] <= -1.471\\ngini = 0.234\\nsamples = 37\\nvalue = [5, 32]'),\n",
       " Text(24.60068886337543, 255.86689655172412, 'X[0] <= 1.405\\ngini = 0.161\\nsamples = 34\\nvalue = [3, 31]'),\n",
       " Text(21.5256027554535, 242.7455172413793, 'X[1] <= -1.48\\ngini = 0.117\\nsamples = 32\\nvalue = [2, 30]'),\n",
       " Text(19.98805970149254, 229.62413793103448, 'gini = 0.0\\nsamples = 19\\nvalue = [0, 19]'),\n",
       " Text(23.06314580941447, 229.62413793103448, 'X[1] <= -1.473\\ngini = 0.26\\nsamples = 13\\nvalue = [2, 11]'),\n",
       " Text(21.5256027554535, 216.50275862068966, 'X[0] <= -0.702\\ngini = 0.444\\nsamples = 3\\nvalue = [2, 1]'),\n",
       " Text(19.98805970149254, 203.3813793103448, 'gini = 0.0\\nsamples = 1\\nvalue = [0, 1]'),\n",
       " Text(23.06314580941447, 203.3813793103448, 'gini = 0.0\\nsamples = 2\\nvalue = [2, 0]'),\n",
       " Text(24.60068886337543, 216.50275862068966, 'gini = 0.0\\nsamples = 10\\nvalue = [0, 10]'),\n",
       " Text(27.67577497129736, 242.7455172413793, 'X[1] <= -1.5\\ngini = 0.5\\nsamples = 2\\nvalue = [1, 1]'),\n",
       " Text(26.138231917336395, 229.62413793103448, 'gini = 0.0\\nsamples = 1\\nvalue = [0, 1]'),\n",
       " Text(29.213318025258324, 229.62413793103448, 'gini = 0.0\\nsamples = 1\\nvalue = [1, 0]'),\n",
       " Text(32.28840413318025, 255.86689655172412, 'X[0] <= 0.718\\ngini = 0.444\\nsamples = 3\\nvalue = [2, 1]'),\n",
       " Text(30.75086107921929, 242.7455172413793, 'gini = 0.0\\nsamples = 2\\nvalue = [2, 0]'),\n",
       " Text(33.82594718714122, 242.7455172413793, 'gini = 0.0\\nsamples = 1\\nvalue = [0, 1]'),\n",
       " Text(31.51963260619977, 268.988275862069, 'gini = 0.0\\nsamples = 106\\nvalue = [0, 106]'),\n",
       " Text(43.051205510907, 282.1096551724138, 'X[0] <= 0.187\\ngini = 0.203\\nsamples = 61\\nvalue = [7, 54]'),\n",
       " Text(39.97611940298508, 268.988275862069, 'X[1] <= -1.343\\ngini = 0.397\\nsamples = 22\\nvalue = [6, 16]'),\n",
       " Text(38.43857634902411, 255.86689655172412, 'X[1] <= -1.35\\ngini = 0.48\\nsamples = 10\\nvalue = [6, 4]'),\n",
       " Text(36.901033295063144, 242.7455172413793, 'X[0] <= 0.057\\ngini = 0.5\\nsamples = 8\\nvalue = [4, 4]'),\n",
       " Text(35.363490241102184, 229.62413793103448, 'X[1] <= -1.362\\ngini = 0.49\\nsamples = 7\\nvalue = [3, 4]'),\n",
       " Text(33.82594718714122, 216.50275862068966, 'gini = 0.0\\nsamples = 1\\nvalue = [1, 0]'),\n",
       " Text(36.901033295063144, 216.50275862068966, 'X[0] <= -0.062\\ngini = 0.444\\nsamples = 6\\nvalue = [2, 4]'),\n",
       " Text(35.363490241102184, 203.3813793103448, 'X[1] <= -1.357\\ngini = 0.48\\nsamples = 5\\nvalue = [2, 3]'),\n",
       " Text(33.82594718714122, 190.26, 'X[0] <= -1.009\\ngini = 0.5\\nsamples = 4\\nvalue = [2, 2]'),\n",
       " Text(32.28840413318025, 177.13862068965517, 'gini = 0.0\\nsamples = 1\\nvalue = [1, 0]'),\n",
       " Text(35.363490241102184, 177.13862068965517, 'X[0] <= -0.375\\ngini = 0.444\\nsamples = 3\\nvalue = [1, 2]'),\n",
       " Text(33.82594718714122, 164.01724137931035, 'gini = 0.0\\nsamples = 1\\nvalue = [0, 1]'),\n",
       " Text(36.901033295063144, 164.01724137931035, 'gini = 0.5\\nsamples = 2\\nvalue = [1, 1]'),\n",
       " Text(36.901033295063144, 190.26, 'gini = 0.0\\nsamples = 1\\nvalue = [0, 1]'),\n",
       " Text(38.43857634902411, 203.3813793103448, 'gini = 0.0\\nsamples = 1\\nvalue = [0, 1]'),\n",
       " Text(38.43857634902411, 229.62413793103448, 'gini = 0.0\\nsamples = 1\\nvalue = [1, 0]'),\n",
       " Text(39.97611940298508, 242.7455172413793, 'gini = 0.0\\nsamples = 2\\nvalue = [2, 0]'),\n",
       " Text(41.513662456946044, 255.86689655172412, 'gini = 0.0\\nsamples = 12\\nvalue = [0, 12]'),\n",
       " Text(46.12629161882894, 268.988275862069, 'X[1] <= -1.383\\ngini = 0.05\\nsamples = 39\\nvalue = [1, 38]'),\n",
       " Text(44.58874856486797, 255.86689655172412, 'gini = 0.0\\nsamples = 1\\nvalue = [1, 0]'),\n",
       " Text(47.663834672789896, 255.86689655172412, 'gini = 0.0\\nsamples = 38\\nvalue = [0, 38]'),\n",
       " Text(47.663834672789896, 295.2310344827586, 'X[0] <= 1.628\\ngini = 0.5\\nsamples = 4\\nvalue = [2, 2]'),\n",
       " Text(46.12629161882894, 282.1096551724138, 'gini = 0.0\\nsamples = 2\\nvalue = [2, 0]'),\n",
       " Text(49.20137772675086, 282.1096551724138, 'gini = 0.0\\nsamples = 2\\nvalue = [0, 2]'),\n",
       " Text(101.8352002009185, 321.47379310344826, 'X[1] <= -1.297\\ngini = 0.478\\nsamples = 434\\nvalue = [172, 262]'),\n",
       " Text(58.042250287026405, 308.35241379310344, 'X[0] <= -1.353\\ngini = 0.123\\nsamples = 121\\nvalue = [113, 8]'),\n",
       " Text(53.814006888633756, 295.2310344827586, 'X[0] <= -1.446\\ngini = 0.5\\nsamples = 2\\nvalue = [1, 1]'),\n",
       " Text(52.27646383467279, 282.1096551724138, 'gini = 0.0\\nsamples = 1\\nvalue = [1, 0]'),\n",
       " Text(55.35154994259472, 282.1096551724138, 'gini = 0.0\\nsamples = 1\\nvalue = [0, 1]'),\n",
       " Text(62.27049368541906, 295.2310344827586, 'X[1] <= -1.301\\ngini = 0.111\\nsamples = 119\\nvalue = [112, 7]'),\n",
       " Text(58.42663605051665, 282.1096551724138, 'X[0] <= 0.401\\ngini = 0.5\\nsamples = 2\\nvalue = [1, 1]'),\n",
       " Text(56.88909299655568, 268.988275862069, 'gini = 0.0\\nsamples = 1\\nvalue = [0, 1]'),\n",
       " Text(59.964179104477616, 268.988275862069, 'gini = 0.0\\nsamples = 1\\nvalue = [1, 0]'),\n",
       " Text(66.11435132032148, 282.1096551724138, 'X[0] <= -0.806\\ngini = 0.097\\nsamples = 117\\nvalue = [111, 6]'),\n",
       " Text(63.03926521239954, 268.988275862069, 'X[0] <= -0.999\\ngini = 0.034\\nsamples = 57\\nvalue = [56, 1]'),\n",
       " Text(61.50172215843858, 255.86689655172412, 'gini = 0.0\\nsamples = 13\\nvalue = [13, 0]'),\n",
       " Text(64.5768082663605, 255.86689655172412, 'X[0] <= -0.921\\ngini = 0.044\\nsamples = 44\\nvalue = [43, 1]'),\n",
       " Text(63.03926521239954, 242.7455172413793, 'gini = 0.05\\nsamples = 39\\nvalue = [38, 1]'),\n",
       " Text(66.11435132032148, 242.7455172413793, 'gini = 0.0\\nsamples = 5\\nvalue = [5, 0]'),\n",
       " Text(69.1894374282434, 268.988275862069, 'X[0] <= -0.14\\ngini = 0.153\\nsamples = 60\\nvalue = [55, 5]'),\n",
       " Text(67.65189437428243, 255.86689655172412, 'gini = 0.0\\nsamples = 2\\nvalue = [0, 2]'),\n",
       " Text(70.72698048220437, 255.86689655172412, 'X[0] <= 0.135\\ngini = 0.098\\nsamples = 58\\nvalue = [55, 3]'),\n",
       " Text(69.1894374282434, 242.7455172413793, 'gini = 0.0\\nsamples = 14\\nvalue = [14, 0]'),\n",
       " Text(72.26452353616533, 242.7455172413793, 'X[0] <= 0.245\\ngini = 0.127\\nsamples = 44\\nvalue = [41, 3]'),\n",
       " Text(70.72698048220437, 229.62413793103448, 'gini = 0.444\\nsamples = 3\\nvalue = [2, 1]'),\n",
       " Text(73.80206659012629, 229.62413793103448, 'X[0] <= 1.202\\ngini = 0.093\\nsamples = 41\\nvalue = [39, 2]'),\n",
       " Text(70.72698048220437, 216.50275862068966, 'X[0] <= 0.723\\ngini = 0.061\\nsamples = 32\\nvalue = [31, 1]'),\n",
       " Text(69.1894374282434, 203.3813793103448, 'X[0] <= 0.588\\ngini = 0.111\\nsamples = 17\\nvalue = [16, 1]'),\n",
       " Text(67.65189437428243, 190.26, 'gini = 0.0\\nsamples = 7\\nvalue = [7, 0]'),\n",
       " Text(70.72698048220437, 190.26, 'gini = 0.18\\nsamples = 10\\nvalue = [9, 1]'),\n",
       " Text(72.26452353616533, 203.3813793103448, 'gini = 0.0\\nsamples = 15\\nvalue = [15, 0]'),\n",
       " Text(76.87715269804822, 216.50275862068966, 'X[0] <= 1.347\\ngini = 0.198\\nsamples = 9\\nvalue = [8, 1]'),\n",
       " Text(75.33960964408726, 203.3813793103448, 'gini = 0.0\\nsamples = 1\\nvalue = [0, 1]'),\n",
       " Text(78.4146957520092, 203.3813793103448, 'gini = 0.0\\nsamples = 8\\nvalue = [8, 0]'),\n",
       " Text(145.62815011481058, 308.35241379310344, 'X[1] <= -0.926\\ngini = 0.306\\nsamples = 313\\nvalue = [59, 254]'),\n",
       " Text(125.58603616532722, 295.2310344827586, 'X[1] <= -0.968\\ngini = 0.354\\nsamples = 222\\nvalue = [51, 171]'),\n",
       " Text(105.48986796785304, 282.1096551724138, 'X[0] <= -0.832\\ngini = 0.302\\nsamples = 200\\nvalue = [37, 163]'),\n",
       " Text(91.48381171067739, 268.988275862069, 'X[0] <= -1.165\\ngini = 0.172\\nsamples = 63\\nvalue = [6, 57]'),\n",
       " Text(86.102411021814, 255.86689655172412, 'X[0] <= -1.191\\ngini = 0.257\\nsamples = 33\\nvalue = [5, 28]'),\n",
       " Text(83.02732491389209, 242.7455172413793, 'X[1] <= -1.17\\ngini = 0.069\\nsamples = 28\\nvalue = [1, 27]'),\n",
       " Text(81.48978185993111, 229.62413793103448, 'X[1] <= -1.185\\ngini = 0.245\\nsamples = 7\\nvalue = [1, 6]'),\n",
       " Text(79.95223880597015, 216.50275862068966, 'gini = 0.0\\nsamples = 6\\nvalue = [0, 6]'),\n",
       " Text(83.02732491389209, 216.50275862068966, 'gini = 0.0\\nsamples = 1\\nvalue = [1, 0]'),\n",
       " Text(84.56486796785305, 229.62413793103448, 'gini = 0.0\\nsamples = 21\\nvalue = [0, 21]'),\n",
       " Text(89.17749712973594, 242.7455172413793, 'X[1] <= -1.105\\ngini = 0.32\\nsamples = 5\\nvalue = [4, 1]'),\n",
       " Text(87.63995407577498, 229.62413793103448, 'gini = 0.0\\nsamples = 2\\nvalue = [2, 0]'),\n",
       " Text(90.7150401836969, 229.62413793103448, 'X[1] <= -1.083\\ngini = 0.444\\nsamples = 3\\nvalue = [2, 1]'),\n",
       " Text(89.17749712973594, 216.50275862068966, 'gini = 0.0\\nsamples = 1\\nvalue = [0, 1]'),\n",
       " Text(92.25258323765787, 216.50275862068966, 'gini = 0.0\\nsamples = 2\\nvalue = [2, 0]'),\n",
       " Text(96.86521239954077, 255.86689655172412, 'X[1] <= -1.245\\ngini = 0.064\\nsamples = 30\\nvalue = [1, 29]'),\n",
       " Text(95.32766934557979, 242.7455172413793, 'X[0] <= -0.988\\ngini = 0.5\\nsamples = 2\\nvalue = [1, 1]'),\n",
       " Text(93.79012629161883, 229.62413793103448, 'gini = 0.0\\nsamples = 1\\nvalue = [0, 1]'),\n",
       " Text(96.86521239954077, 229.62413793103448, 'gini = 0.0\\nsamples = 1\\nvalue = [1, 0]'),\n",
       " Text(98.40275545350173, 242.7455172413793, 'gini = 0.0\\nsamples = 28\\nvalue = [0, 28]'),\n",
       " Text(119.4959242250287, 268.988275862069, 'X[0] <= -0.749\\ngini = 0.35\\nsamples = 137\\nvalue = [31, 106]'),\n",
       " Text(117.95838117106774, 255.86689655172412, 'gini = 0.0\\nsamples = 6\\nvalue = [6, 0]'),\n",
       " Text(121.03346727898968, 255.86689655172412, 'X[1] <= -1.017\\ngini = 0.309\\nsamples = 131\\nvalue = [25, 106]'),\n",
       " Text(107.14753157290471, 242.7455172413793, 'X[0] <= -0.577\\ngini = 0.264\\nsamples = 115\\nvalue = [18, 97]'),\n",
       " Text(99.94029850746269, 229.62413793103448, 'X[0] <= -0.656\\ngini = 0.5\\nsamples = 4\\nvalue = [2, 2]'),\n",
       " Text(98.40275545350173, 216.50275862068966, 'gini = 0.0\\nsamples = 1\\nvalue = [0, 1]'),\n",
       " Text(101.47784156142366, 216.50275862068966, 'X[1] <= -1.131\\ngini = 0.444\\nsamples = 3\\nvalue = [2, 1]'),\n",
       " Text(99.94029850746269, 203.3813793103448, 'gini = 0.0\\nsamples = 1\\nvalue = [1, 0]'),\n",
       " Text(103.01538461538462, 203.3813793103448, 'gini = 0.5\\nsamples = 2\\nvalue = [1, 1]'),\n",
       " Text(114.35476463834674, 229.62413793103448, 'X[0] <= -0.208\\ngini = 0.247\\nsamples = 111\\nvalue = [16, 95]'),\n",
       " Text(112.81722158438576, 216.50275862068966, 'gini = 0.0\\nsamples = 27\\nvalue = [0, 27]'),\n",
       " Text(115.8923076923077, 216.50275862068966, 'X[0] <= -0.156\\ngini = 0.308\\nsamples = 84\\nvalue = [16, 68]'),\n",
       " Text(106.09047072330655, 203.3813793103448, 'X[1] <= -1.164\\ngini = 0.408\\nsamples = 7\\nvalue = [5, 2]'),\n",
       " Text(104.55292766934558, 190.26, 'gini = 0.0\\nsamples = 2\\nvalue = [2, 0]'),\n",
       " Text(107.62801377726751, 190.26, 'X[1] <= -1.116\\ngini = 0.48\\nsamples = 5\\nvalue = [3, 2]'),\n",
       " Text(106.09047072330655, 177.13862068965517, 'gini = 0.0\\nsamples = 1\\nvalue = [0, 1]'),\n",
       " Text(109.16555683122847, 177.13862068965517, 'X[1] <= -1.095\\ngini = 0.375\\nsamples = 4\\nvalue = [3, 1]'),\n",
       " Text(107.62801377726751, 164.01724137931035, 'gini = 0.0\\nsamples = 2\\nvalue = [2, 0]'),\n",
       " Text(110.70309988518945, 164.01724137931035, 'gini = 0.5\\nsamples = 2\\nvalue = [1, 1]'),\n",
       " Text(125.69414466130884, 203.3813793103448, 'X[1] <= -1.054\\ngini = 0.245\\nsamples = 77\\nvalue = [11, 66]'),\n",
       " Text(124.15660160734788, 190.26, 'X[1] <= -1.066\\ngini = 0.281\\nsamples = 65\\nvalue = [11, 54]'),\n",
       " Text(119.15958668197474, 177.13862068965517, 'X[0] <= 0.661\\ngini = 0.252\\nsamples = 61\\nvalue = [9, 52]'),\n",
       " Text(113.77818599311136, 164.01724137931035, 'X[1] <= -1.189\\ngini = 0.124\\nsamples = 30\\nvalue = [2, 28]'),\n",
       " Text(112.2406429391504, 150.89586206896553, 'gini = 0.0\\nsamples = 10\\nvalue = [0, 10]'),\n",
       " Text(115.31572904707234, 150.89586206896553, 'X[1] <= -1.182\\ngini = 0.18\\nsamples = 20\\nvalue = [2, 18]'),\n",
       " Text(113.77818599311136, 137.7744827586207, 'gini = 0.0\\nsamples = 1\\nvalue = [1, 0]'),\n",
       " Text(116.8532721010333, 137.7744827586207, 'X[0] <= 0.265\\ngini = 0.1\\nsamples = 19\\nvalue = [1, 18]'),\n",
       " Text(115.31572904707234, 124.65310344827586, 'gini = 0.0\\nsamples = 12\\nvalue = [0, 12]'),\n",
       " Text(118.39081515499426, 124.65310344827586, 'X[1] <= -1.115\\ngini = 0.245\\nsamples = 7\\nvalue = [1, 6]'),\n",
       " Text(116.8532721010333, 111.53172413793106, 'X[1] <= -1.137\\ngini = 0.375\\nsamples = 4\\nvalue = [1, 3]'),\n",
       " Text(115.31572904707234, 98.41034482758619, 'gini = 0.0\\nsamples = 2\\nvalue = [0, 2]'),\n",
       " Text(118.39081515499426, 98.41034482758619, 'gini = 0.5\\nsamples = 2\\nvalue = [1, 1]'),\n",
       " Text(119.92835820895523, 111.53172413793106, 'gini = 0.0\\nsamples = 3\\nvalue = [0, 3]'),\n",
       " Text(124.54098737083812, 164.01724137931035, 'X[0] <= 0.744\\ngini = 0.35\\nsamples = 31\\nvalue = [7, 24]'),\n",
       " Text(123.00344431687716, 150.89586206896553, 'gini = 0.0\\nsamples = 3\\nvalue = [3, 0]'),\n",
       " Text(126.07853042479908, 150.89586206896553, 'X[1] <= -1.281\\ngini = 0.245\\nsamples = 28\\nvalue = [4, 24]'),\n",
       " Text(123.00344431687716, 137.7744827586207, 'X[0] <= 1.249\\ngini = 0.5\\nsamples = 2\\nvalue = [1, 1]'),\n",
       " Text(121.46590126291619, 124.65310344827586, 'gini = 0.0\\nsamples = 1\\nvalue = [0, 1]'),\n",
       " Text(124.54098737083812, 124.65310344827586, 'gini = 0.0\\nsamples = 1\\nvalue = [1, 0]'),\n",
       " Text(129.153616532721, 137.7744827586207, 'X[1] <= -1.15\\ngini = 0.204\\nsamples = 26\\nvalue = [3, 23]'),\n",
       " Text(127.61607347876006, 124.65310344827586, 'gini = 0.0\\nsamples = 14\\nvalue = [0, 14]'),\n",
       " Text(130.69115958668198, 124.65310344827586, 'X[1] <= -1.142\\ngini = 0.375\\nsamples = 12\\nvalue = [3, 9]'),\n",
       " Text(129.153616532721, 111.53172413793106, 'gini = 0.0\\nsamples = 1\\nvalue = [1, 0]'),\n",
       " Text(132.22870264064295, 111.53172413793106, 'X[1] <= -1.12\\ngini = 0.298\\nsamples = 11\\nvalue = [2, 9]'),\n",
       " Text(130.69115958668198, 98.41034482758619, 'X[1] <= -1.14\\ngini = 0.444\\nsamples = 6\\nvalue = [2, 4]'),\n",
       " Text(129.153616532721, 85.28896551724137, 'gini = 0.0\\nsamples = 3\\nvalue = [0, 3]'),\n",
       " Text(132.22870264064295, 85.28896551724137, 'X[0] <= 1.165\\ngini = 0.444\\nsamples = 3\\nvalue = [2, 1]'),\n",
       " Text(130.69115958668198, 72.16758620689654, 'gini = 0.0\\nsamples = 2\\nvalue = [2, 0]'),\n",
       " Text(133.7662456946039, 72.16758620689654, 'gini = 0.0\\nsamples = 1\\nvalue = [0, 1]'),\n",
       " Text(133.7662456946039, 98.41034482758619, 'gini = 0.0\\nsamples = 5\\nvalue = [0, 5]'),\n",
       " Text(129.153616532721, 177.13862068965517, 'X[0] <= 0.359\\ngini = 0.5\\nsamples = 4\\nvalue = [2, 2]'),\n",
       " Text(127.61607347876006, 164.01724137931035, 'gini = 0.0\\nsamples = 2\\nvalue = [2, 0]'),\n",
       " Text(130.69115958668198, 164.01724137931035, 'gini = 0.0\\nsamples = 2\\nvalue = [0, 2]'),\n",
       " Text(127.23168771526981, 190.26, 'gini = 0.0\\nsamples = 12\\nvalue = [0, 12]'),\n",
       " Text(134.91940298507464, 242.7455172413793, 'X[1] <= -0.992\\ngini = 0.492\\nsamples = 16\\nvalue = [7, 9]'),\n",
       " Text(131.8443168771527, 229.62413793103448, 'X[1] <= -1.003\\ngini = 0.278\\nsamples = 6\\nvalue = [5, 1]'),\n",
       " Text(130.30677382319175, 216.50275862068966, 'X[1] <= -1.009\\ngini = 0.5\\nsamples = 2\\nvalue = [1, 1]'),\n",
       " Text(128.76923076923077, 203.3813793103448, 'gini = 0.0\\nsamples = 1\\nvalue = [1, 0]'),\n",
       " Text(131.8443168771527, 203.3813793103448, 'gini = 0.0\\nsamples = 1\\nvalue = [0, 1]'),\n",
       " Text(133.38185993111367, 216.50275862068966, 'gini = 0.0\\nsamples = 4\\nvalue = [4, 0]'),\n",
       " Text(137.99448909299656, 229.62413793103448, 'X[0] <= 0.042\\ngini = 0.32\\nsamples = 10\\nvalue = [2, 8]'),\n",
       " Text(136.45694603903559, 216.50275862068966, 'X[0] <= -0.245\\ngini = 0.48\\nsamples = 5\\nvalue = [2, 3]'),\n",
       " Text(134.91940298507464, 203.3813793103448, 'gini = 0.0\\nsamples = 3\\nvalue = [0, 3]'),\n",
       " Text(137.99448909299656, 203.3813793103448, 'gini = 0.0\\nsamples = 2\\nvalue = [2, 0]'),\n",
       " Text(139.53203214695753, 216.50275862068966, 'gini = 0.0\\nsamples = 5\\nvalue = [0, 5]'),\n",
       " Text(145.68220436280137, 282.1096551724138, 'X[0] <= 0.931\\ngini = 0.463\\nsamples = 22\\nvalue = [14, 8]'),\n",
       " Text(142.60711825487945, 268.988275862069, 'X[1] <= -0.957\\ngini = 0.36\\nsamples = 17\\nvalue = [13, 4]'),\n",
       " Text(141.06957520091848, 255.86689655172412, 'gini = 0.0\\nsamples = 6\\nvalue = [6, 0]'),\n",
       " Text(144.14466130884043, 255.86689655172412, 'X[0] <= -0.437\\ngini = 0.463\\nsamples = 11\\nvalue = [7, 4]'),\n",
       " Text(142.60711825487945, 242.7455172413793, 'gini = 0.0\\nsamples = 3\\nvalue = [3, 0]'),\n",
       " Text(145.68220436280137, 242.7455172413793, 'X[1] <= -0.933\\ngini = 0.5\\nsamples = 8\\nvalue = [4, 4]'),\n",
       " Text(144.14466130884043, 229.62413793103448, 'X[1] <= -0.95\\ngini = 0.444\\nsamples = 6\\nvalue = [2, 4]'),\n",
       " Text(142.60711825487945, 216.50275862068966, 'gini = 0.444\\nsamples = 3\\nvalue = [2, 1]'),\n",
       " Text(145.68220436280137, 216.50275862068966, 'gini = 0.0\\nsamples = 3\\nvalue = [0, 3]'),\n",
       " Text(147.21974741676235, 229.62413793103448, 'gini = 0.0\\nsamples = 2\\nvalue = [2, 0]'),\n",
       " Text(148.75729047072332, 268.988275862069, 'X[1] <= -0.939\\ngini = 0.32\\nsamples = 5\\nvalue = [1, 4]'),\n",
       " Text(147.21974741676235, 255.86689655172412, 'gini = 0.0\\nsamples = 4\\nvalue = [0, 4]'),\n",
       " Text(150.29483352468426, 255.86689655172412, 'gini = 0.0\\nsamples = 1\\nvalue = [1, 0]'),\n",
       " Text(165.67026406429392, 295.2310344827586, 'X[0] <= -0.182\\ngini = 0.16\\nsamples = 91\\nvalue = [8, 83]'),\n",
       " Text(157.9825487944891, 282.1096551724138, 'X[1] <= -0.791\\ngini = 0.264\\nsamples = 32\\nvalue = [5, 27]'),\n",
       " Text(154.90746268656716, 268.988275862069, 'X[0] <= -0.302\\ngini = 0.137\\nsamples = 27\\nvalue = [2, 25]'),\n",
       " Text(153.3699196326062, 255.86689655172412, 'X[0] <= -0.89\\ngini = 0.074\\nsamples = 26\\nvalue = [1, 25]'),\n",
       " Text(151.83237657864524, 242.7455172413793, 'gini = 0.0\\nsamples = 19\\nvalue = [0, 19]'),\n",
       " Text(154.90746268656716, 242.7455172413793, 'X[0] <= -0.843\\ngini = 0.245\\nsamples = 7\\nvalue = [1, 6]'),\n",
       " Text(153.3699196326062, 229.62413793103448, 'gini = 0.0\\nsamples = 1\\nvalue = [1, 0]'),\n",
       " Text(156.44500574052813, 229.62413793103448, 'gini = 0.0\\nsamples = 6\\nvalue = [0, 6]'),\n",
       " Text(156.44500574052813, 255.86689655172412, 'gini = 0.0\\nsamples = 1\\nvalue = [1, 0]'),\n",
       " Text(161.05763490241102, 268.988275862069, 'X[1] <= -0.766\\ngini = 0.48\\nsamples = 5\\nvalue = [3, 2]'),\n",
       " Text(159.52009184845005, 255.86689655172412, 'gini = 0.0\\nsamples = 2\\nvalue = [2, 0]'),\n",
       " Text(162.595177956372, 255.86689655172412, 'X[0] <= -1.02\\ngini = 0.444\\nsamples = 3\\nvalue = [1, 2]'),\n",
       " Text(161.05763490241102, 242.7455172413793, 'gini = 0.0\\nsamples = 2\\nvalue = [0, 2]'),\n",
       " Text(164.13272101033294, 242.7455172413793, 'gini = 0.0\\nsamples = 1\\nvalue = [1, 0]'),\n",
       " Text(173.35797933409876, 282.1096551724138, 'X[1] <= -0.835\\ngini = 0.097\\nsamples = 59\\nvalue = [3, 56]'),\n",
       " Text(171.82043628013778, 268.988275862069, 'X[1] <= -0.838\\ngini = 0.204\\nsamples = 26\\nvalue = [3, 23]'),\n",
       " Text(170.2828932261768, 255.86689655172412, 'X[0] <= 1.566\\ngini = 0.147\\nsamples = 25\\nvalue = [2, 23]'),\n",
       " Text(167.2078071182549, 242.7455172413793, 'X[1] <= -0.872\\ngini = 0.087\\nsamples = 22\\nvalue = [1, 21]'),\n",
       " Text(165.67026406429392, 229.62413793103448, 'gini = 0.0\\nsamples = 17\\nvalue = [0, 17]'),\n",
       " Text(168.74535017221584, 229.62413793103448, 'X[1] <= -0.867\\ngini = 0.32\\nsamples = 5\\nvalue = [1, 4]'),\n",
       " Text(167.2078071182549, 216.50275862068966, 'gini = 0.0\\nsamples = 1\\nvalue = [1, 0]'),\n",
       " Text(170.2828932261768, 216.50275862068966, 'gini = 0.0\\nsamples = 4\\nvalue = [0, 4]'),\n",
       " Text(173.35797933409876, 242.7455172413793, 'X[1] <= -0.899\\ngini = 0.444\\nsamples = 3\\nvalue = [1, 2]'),\n",
       " Text(171.82043628013778, 229.62413793103448, 'gini = 0.0\\nsamples = 1\\nvalue = [1, 0]'),\n",
       " Text(174.8955223880597, 229.62413793103448, 'gini = 0.0\\nsamples = 2\\nvalue = [0, 2]'),\n",
       " Text(173.35797933409876, 255.86689655172412, 'gini = 0.0\\nsamples = 1\\nvalue = [1, 0]'),\n",
       " Text(174.8955223880597, 268.988275862069, 'gini = 0.0\\nsamples = 33\\nvalue = [0, 33]'),\n",
       " Text(262.6195608495982, 334.5951724137931, 'X[1] <= -0.614\\ngini = 0.348\\nsamples = 1048\\nvalue = [813, 235]'),\n",
       " Text(228.87769804822045, 321.47379310344826, 'X[1] <= -0.619\\ngini = 0.225\\nsamples = 804\\nvalue = [700, 104]'),\n",
       " Text(209.15390355912746, 308.35241379310344, 'X[1] <= -0.736\\ngini = 0.483\\nsamples = 211\\nvalue = [125, 86]'),\n",
       " Text(195.74845005740528, 295.2310344827586, 'X[0] <= 0.068\\ngini = 0.317\\nsamples = 147\\nvalue = [118, 29]'),\n",
       " Text(186.42709529276695, 282.1096551724138, 'X[0] <= -0.203\\ngini = 0.236\\nsamples = 66\\nvalue = [57, 9]'),\n",
       " Text(182.58323765786454, 268.988275862069, 'X[0] <= -0.832\\ngini = 0.193\\nsamples = 37\\nvalue = [33, 4]'),\n",
       " Text(181.04569460390357, 255.86689655172412, 'X[0] <= -0.879\\ngini = 0.245\\nsamples = 28\\nvalue = [24, 4]'),\n",
       " Text(179.5081515499426, 242.7455172413793, 'X[0] <= -1.015\\ngini = 0.198\\nsamples = 27\\nvalue = [24, 3]'),\n",
       " Text(177.97060849598165, 229.62413793103448, 'X[0] <= -1.124\\ngini = 0.236\\nsamples = 22\\nvalue = [19, 3]'),\n",
       " Text(176.43306544202068, 216.50275862068966, 'X[0] <= -1.264\\ngini = 0.172\\nsamples = 21\\nvalue = [19, 2]'),\n",
       " Text(174.8955223880597, 203.3813793103448, 'X[1] <= -0.738\\ngini = 0.245\\nsamples = 14\\nvalue = [12, 2]'),\n",
       " Text(173.35797933409876, 190.26, 'gini = 0.26\\nsamples = 13\\nvalue = [11, 2]'),\n",
       " Text(176.43306544202068, 190.26, 'gini = 0.0\\nsamples = 1\\nvalue = [1, 0]'),\n",
       " Text(177.97060849598165, 203.3813793103448, 'gini = 0.0\\nsamples = 7\\nvalue = [7, 0]'),\n",
       " Text(179.5081515499426, 216.50275862068966, 'gini = 0.0\\nsamples = 1\\nvalue = [0, 1]'),\n",
       " Text(181.04569460390357, 229.62413793103448, 'gini = 0.0\\nsamples = 5\\nvalue = [5, 0]'),\n",
       " Text(182.58323765786454, 242.7455172413793, 'gini = 0.0\\nsamples = 1\\nvalue = [0, 1]'),\n",
       " Text(184.1207807118255, 255.86689655172412, 'gini = 0.0\\nsamples = 9\\nvalue = [9, 0]'),\n",
       " Text(190.27095292766936, 268.988275862069, 'X[0] <= -0.14\\ngini = 0.285\\nsamples = 29\\nvalue = [24, 5]'),\n",
       " Text(187.19586681974744, 255.86689655172412, 'X[0] <= -0.187\\ngini = 0.48\\nsamples = 5\\nvalue = [3, 2]'),\n",
       " Text(185.65832376578646, 242.7455172413793, 'X[1] <= -0.738\\ngini = 0.375\\nsamples = 4\\nvalue = [3, 1]'),\n",
       " Text(184.1207807118255, 229.62413793103448, 'gini = 0.444\\nsamples = 3\\nvalue = [2, 1]'),\n",
       " Text(187.19586681974744, 229.62413793103448, 'gini = 0.0\\nsamples = 1\\nvalue = [1, 0]'),\n",
       " Text(188.73340987370838, 242.7455172413793, 'gini = 0.0\\nsamples = 1\\nvalue = [0, 1]'),\n",
       " Text(193.34603903559128, 255.86689655172412, 'X[0] <= -0.094\\ngini = 0.219\\nsamples = 24\\nvalue = [21, 3]'),\n",
       " Text(191.80849598163033, 242.7455172413793, 'gini = 0.0\\nsamples = 3\\nvalue = [3, 0]'),\n",
       " Text(194.88358208955225, 242.7455172413793, 'gini = 0.245\\nsamples = 21\\nvalue = [18, 3]'),\n",
       " Text(205.06980482204364, 282.1096551724138, 'X[0] <= 0.291\\ngini = 0.372\\nsamples = 81\\nvalue = [61, 20]'),\n",
       " Text(203.53226176808266, 268.988275862069, 'gini = 0.0\\nsamples = 3\\nvalue = [0, 3]'),\n",
       " Text(206.6073478760046, 268.988275862069, 'X[0] <= 1.493\\ngini = 0.341\\nsamples = 78\\nvalue = [61, 17]'),\n",
       " Text(202.18691159586683, 255.86689655172412, 'X[0] <= 0.89\\ngini = 0.327\\nsamples = 73\\nvalue = [58, 15]'),\n",
       " Text(197.95866819747417, 242.7455172413793, 'X[0] <= 0.739\\ngini = 0.352\\nsamples = 57\\nvalue = [44, 13]'),\n",
       " Text(194.11481056257176, 229.62413793103448, 'X[0] <= 0.437\\ngini = 0.311\\nsamples = 52\\nvalue = [42, 10]'),\n",
       " Text(191.03972445464984, 216.50275862068966, 'X[0] <= 0.359\\ngini = 0.26\\nsamples = 26\\nvalue = [22, 4]'),\n",
       " Text(189.50218140068887, 203.3813793103448, 'gini = 0.269\\nsamples = 25\\nvalue = [21, 4]'),\n",
       " Text(192.5772675086108, 203.3813793103448, 'gini = 0.0\\nsamples = 1\\nvalue = [1, 0]'),\n",
       " Text(197.18989667049368, 216.50275862068966, 'X[0] <= 0.666\\ngini = 0.355\\nsamples = 26\\nvalue = [20, 6]'),\n",
       " Text(195.65235361653274, 203.3813793103448, 'X[0] <= 0.479\\ngini = 0.5\\nsamples = 6\\nvalue = [3, 3]'),\n",
       " Text(194.11481056257176, 190.26, 'gini = 0.375\\nsamples = 4\\nvalue = [3, 1]'),\n",
       " Text(197.18989667049368, 190.26, 'gini = 0.0\\nsamples = 2\\nvalue = [0, 2]'),\n",
       " Text(198.72743972445465, 203.3813793103448, 'gini = 0.255\\nsamples = 20\\nvalue = [17, 3]'),\n",
       " Text(201.80252583237657, 229.62413793103448, 'X[0] <= 0.806\\ngini = 0.48\\nsamples = 5\\nvalue = [2, 3]'),\n",
       " Text(200.26498277841563, 216.50275862068966, 'gini = 0.0\\nsamples = 2\\nvalue = [0, 2]'),\n",
       " Text(203.34006888633755, 216.50275862068966, 'X[0] <= 0.864\\ngini = 0.444\\nsamples = 3\\nvalue = [2, 1]'),\n",
       " Text(201.80252583237657, 203.3813793103448, 'gini = 0.0\\nsamples = 2\\nvalue = [2, 0]'),\n",
       " Text(204.87761194029852, 203.3813793103448, 'gini = 0.0\\nsamples = 1\\nvalue = [0, 1]'),\n",
       " Text(206.41515499425947, 242.7455172413793, 'X[0] <= 1.155\\ngini = 0.219\\nsamples = 16\\nvalue = [14, 2]'),\n",
       " Text(204.87761194029852, 229.62413793103448, 'gini = 0.0\\nsamples = 5\\nvalue = [5, 0]'),\n",
       " Text(207.95269804822044, 229.62413793103448, 'X[0] <= 1.223\\ngini = 0.298\\nsamples = 11\\nvalue = [9, 2]'),\n",
       " Text(206.41515499425947, 216.50275862068966, 'gini = 0.0\\nsamples = 1\\nvalue = [0, 1]'),\n",
       " Text(209.49024110218141, 216.50275862068966, 'X[0] <= 1.368\\ngini = 0.18\\nsamples = 10\\nvalue = [9, 1]'),\n",
       " Text(207.95269804822044, 203.3813793103448, 'gini = 0.0\\nsamples = 4\\nvalue = [4, 0]'),\n",
       " Text(211.02778415614236, 203.3813793103448, 'gini = 0.278\\nsamples = 6\\nvalue = [5, 1]'),\n",
       " Text(211.02778415614236, 255.86689655172412, 'X[0] <= 1.535\\ngini = 0.48\\nsamples = 5\\nvalue = [3, 2]'),\n",
       " Text(209.49024110218141, 242.7455172413793, 'gini = 0.0\\nsamples = 1\\nvalue = [0, 1]'),\n",
       " Text(212.56532721010333, 242.7455172413793, 'X[0] <= 1.556\\ngini = 0.375\\nsamples = 4\\nvalue = [3, 1]'),\n",
       " Text(211.02778415614236, 229.62413793103448, 'gini = 0.0\\nsamples = 2\\nvalue = [2, 0]'),\n",
       " Text(214.1028702640643, 229.62413793103448, 'gini = 0.5\\nsamples = 2\\nvalue = [1, 1]'),\n",
       " Text(222.5593570608496, 295.2310344827586, 'X[0] <= -1.124\\ngini = 0.195\\nsamples = 64\\nvalue = [7, 57]'),\n",
       " Text(217.17795637198623, 282.1096551724138, 'X[1] <= -0.699\\ngini = 0.5\\nsamples = 8\\nvalue = [4, 4]'),\n",
       " Text(215.64041331802525, 268.988275862069, 'gini = 0.0\\nsamples = 2\\nvalue = [0, 2]'),\n",
       " Text(218.7154994259472, 268.988275862069, 'X[1] <= -0.648\\ngini = 0.444\\nsamples = 6\\nvalue = [4, 2]'),\n",
       " Text(217.17795637198623, 255.86689655172412, 'X[1] <= -0.684\\ngini = 0.5\\nsamples = 4\\nvalue = [2, 2]'),\n",
       " Text(215.64041331802525, 242.7455172413793, 'gini = 0.0\\nsamples = 1\\nvalue = [1, 0]'),\n",
       " Text(218.7154994259472, 242.7455172413793, 'X[1] <= -0.678\\ngini = 0.444\\nsamples = 3\\nvalue = [1, 2]'),\n",
       " Text(217.17795637198623, 229.62413793103448, 'gini = 0.0\\nsamples = 1\\nvalue = [0, 1]'),\n",
       " Text(220.25304247990815, 229.62413793103448, 'X[1] <= -0.662\\ngini = 0.5\\nsamples = 2\\nvalue = [1, 1]'),\n",
       " Text(218.7154994259472, 216.50275862068966, 'gini = 0.0\\nsamples = 1\\nvalue = [1, 0]'),\n",
       " Text(221.79058553386912, 216.50275862068966, 'gini = 0.0\\nsamples = 1\\nvalue = [0, 1]'),\n",
       " Text(220.25304247990815, 255.86689655172412, 'gini = 0.0\\nsamples = 2\\nvalue = [2, 0]'),\n",
       " Text(227.940757749713, 282.1096551724138, 'X[1] <= -0.712\\ngini = 0.101\\nsamples = 56\\nvalue = [3, 53]'),\n",
       " Text(224.86567164179107, 268.988275862069, 'X[1] <= -0.714\\ngini = 0.298\\nsamples = 11\\nvalue = [2, 9]'),\n",
       " Text(223.3281285878301, 255.86689655172412, 'X[0] <= 1.03\\ngini = 0.18\\nsamples = 10\\nvalue = [1, 9]'),\n",
       " Text(221.79058553386912, 242.7455172413793, 'gini = 0.0\\nsamples = 6\\nvalue = [0, 6]'),\n",
       " Text(224.86567164179107, 242.7455172413793, 'X[0] <= 1.509\\ngini = 0.375\\nsamples = 4\\nvalue = [1, 3]'),\n",
       " Text(223.3281285878301, 229.62413793103448, 'gini = 0.0\\nsamples = 1\\nvalue = [1, 0]'),\n",
       " Text(226.403214695752, 229.62413793103448, 'gini = 0.0\\nsamples = 3\\nvalue = [0, 3]'),\n",
       " Text(226.403214695752, 255.86689655172412, 'gini = 0.0\\nsamples = 1\\nvalue = [1, 0]'),\n",
       " Text(231.0158438576349, 268.988275862069, 'X[1] <= -0.668\\ngini = 0.043\\nsamples = 45\\nvalue = [1, 44]'),\n",
       " Text(229.47830080367396, 255.86689655172412, 'gini = 0.0\\nsamples = 21\\nvalue = [0, 21]'),\n",
       " Text(232.55338691159588, 255.86689655172412, 'X[1] <= -0.665\\ngini = 0.08\\nsamples = 24\\nvalue = [1, 23]'),\n",
       " Text(231.0158438576349, 242.7455172413793, 'X[0] <= 0.468\\ngini = 0.245\\nsamples = 7\\nvalue = [1, 6]'),\n",
       " Text(229.47830080367396, 229.62413793103448, 'X[0] <= 0.114\\ngini = 0.444\\nsamples = 3\\nvalue = [1, 2]'),\n",
       " Text(227.940757749713, 216.50275862068966, 'gini = 0.0\\nsamples = 1\\nvalue = [0, 1]'),\n",
       " Text(231.0158438576349, 216.50275862068966, 'gini = 0.5\\nsamples = 2\\nvalue = [1, 1]'),\n",
       " Text(232.55338691159588, 229.62413793103448, 'gini = 0.0\\nsamples = 4\\nvalue = [0, 4]'),\n",
       " Text(234.09092996555685, 242.7455172413793, 'gini = 0.0\\nsamples = 17\\nvalue = [0, 17]'),\n",
       " Text(248.60149253731345, 308.35241379310344, 'X[0] <= 1.556\\ngini = 0.059\\nsamples = 593\\nvalue = [575, 18]'),\n",
       " Text(242.73960964408727, 295.2310344827586, 'X[0] <= -1.275\\ngini = 0.056\\nsamples = 591\\nvalue = [574, 17]'),\n",
       " Text(235.6284730195178, 282.1096551724138, 'X[0] <= -1.436\\ngini = 0.219\\nsamples = 32\\nvalue = [28, 4]'),\n",
       " Text(234.09092996555685, 268.988275862069, 'gini = 0.0\\nsamples = 2\\nvalue = [2, 0]'),\n",
       " Text(237.16601607347877, 268.988275862069, 'X[0] <= -1.342\\ngini = 0.231\\nsamples = 30\\nvalue = [26, 4]'),\n",
       " Text(235.6284730195178, 255.86689655172412, 'gini = 0.255\\nsamples = 20\\nvalue = [17, 3]'),\n",
       " Text(238.70355912743975, 255.86689655172412, 'gini = 0.18\\nsamples = 10\\nvalue = [9, 1]'),\n",
       " Text(249.85074626865674, 282.1096551724138, 'X[0] <= 0.328\\ngini = 0.045\\nsamples = 559\\nvalue = [546, 13]'),\n",
       " Text(245.62250287026407, 268.988275862069, 'X[0] <= -0.609\\ngini = 0.077\\nsamples = 275\\nvalue = [264, 11]'),\n",
       " Text(241.77864523536167, 255.86689655172412, 'X[0] <= -1.067\\ngini = 0.018\\nsamples = 220\\nvalue = [218, 2]'),\n",
       " Text(238.70355912743975, 242.7455172413793, 'X[0] <= -1.197\\ngini = 0.056\\nsamples = 35\\nvalue = [34, 1]'),\n",
       " Text(237.16601607347877, 229.62413793103448, 'gini = 0.0\\nsamples = 2\\nvalue = [2, 0]'),\n",
       " Text(240.2411021814007, 229.62413793103448, 'gini = 0.059\\nsamples = 33\\nvalue = [32, 1]'),\n",
       " Text(244.85373134328358, 242.7455172413793, 'X[0] <= -0.838\\ngini = 0.011\\nsamples = 185\\nvalue = [184, 1]'),\n",
       " Text(243.31618828932264, 229.62413793103448, 'gini = 0.0\\nsamples = 115\\nvalue = [115, 0]'),\n",
       " Text(246.39127439724456, 229.62413793103448, 'X[0] <= -0.734\\ngini = 0.028\\nsamples = 70\\nvalue = [69, 1]'),\n",
       " Text(244.85373134328358, 216.50275862068966, 'gini = 0.033\\nsamples = 60\\nvalue = [59, 1]'),\n",
       " Text(247.92881745120553, 216.50275862068966, 'gini = 0.0\\nsamples = 10\\nvalue = [10, 0]'),\n",
       " Text(249.46636050516648, 255.86689655172412, 'X[0] <= -0.546\\ngini = 0.274\\nsamples = 55\\nvalue = [46, 9]'),\n",
       " Text(247.92881745120553, 242.7455172413793, 'gini = 0.5\\nsamples = 8\\nvalue = [4, 4]'),\n",
       " Text(251.00390355912745, 242.7455172413793, 'X[0] <= -0.349\\ngini = 0.19\\nsamples = 47\\nvalue = [42, 5]'),\n",
       " Text(249.46636050516648, 229.62413793103448, 'gini = 0.0\\nsamples = 12\\nvalue = [12, 0]'),\n",
       " Text(252.54144661308843, 229.62413793103448, 'X[0] <= -0.286\\ngini = 0.245\\nsamples = 35\\nvalue = [30, 5]'),\n",
       " Text(251.00390355912745, 216.50275862068966, 'gini = 0.0\\nsamples = 1\\nvalue = [0, 1]'),\n",
       " Text(254.07898966704937, 216.50275862068966, 'X[0] <= 0.255\\ngini = 0.208\\nsamples = 34\\nvalue = [30, 4]'),\n",
       " Text(251.00390355912745, 203.3813793103448, 'X[0] <= -0.203\\ngini = 0.111\\nsamples = 17\\nvalue = [16, 1]'),\n",
       " Text(249.46636050516648, 190.26, 'X[0] <= -0.229\\ngini = 0.278\\nsamples = 6\\nvalue = [5, 1]'),\n",
       " Text(247.92881745120553, 177.13862068965517, 'gini = 0.0\\nsamples = 5\\nvalue = [5, 0]'),\n",
       " Text(251.00390355912745, 177.13862068965517, 'gini = 0.0\\nsamples = 1\\nvalue = [0, 1]'),\n",
       " Text(252.54144661308843, 190.26, 'gini = 0.0\\nsamples = 11\\nvalue = [11, 0]'),\n",
       " Text(257.1540757749713, 203.3813793103448, 'X[0] <= 0.291\\ngini = 0.291\\nsamples = 17\\nvalue = [14, 3]'),\n",
       " Text(255.61653272101034, 190.26, 'gini = 0.0\\nsamples = 1\\nvalue = [0, 1]'),\n",
       " Text(258.6916188289323, 190.26, 'gini = 0.219\\nsamples = 16\\nvalue = [14, 2]'),\n",
       " Text(254.07898966704937, 268.988275862069, 'X[0] <= 0.791\\ngini = 0.014\\nsamples = 284\\nvalue = [282, 2]'),\n",
       " Text(252.54144661308843, 255.86689655172412, 'gini = 0.0\\nsamples = 62\\nvalue = [62, 0]'),\n",
       " Text(255.61653272101034, 255.86689655172412, 'X[0] <= 0.864\\ngini = 0.018\\nsamples = 222\\nvalue = [220, 2]'),\n",
       " Text(254.07898966704937, 242.7455172413793, 'gini = 0.117\\nsamples = 16\\nvalue = [15, 1]'),\n",
       " Text(257.1540757749713, 242.7455172413793, 'X[0] <= 1.321\\ngini = 0.01\\nsamples = 206\\nvalue = [205, 1]'),\n",
       " Text(255.61653272101034, 229.62413793103448, 'gini = 0.0\\nsamples = 116\\nvalue = [116, 0]'),\n",
       " Text(258.6916188289323, 229.62413793103448, 'X[0] <= 1.498\\ngini = 0.022\\nsamples = 90\\nvalue = [89, 1]'),\n",
       " Text(257.1540757749713, 216.50275862068966, 'gini = 0.022\\nsamples = 88\\nvalue = [87, 1]'),\n",
       " Text(260.2291618828932, 216.50275862068966, 'gini = 0.0\\nsamples = 2\\nvalue = [2, 0]'),\n",
       " Text(254.46337543053963, 295.2310344827586, 'X[0] <= 1.623\\ngini = 0.5\\nsamples = 2\\nvalue = [1, 1]'),\n",
       " Text(252.92583237657865, 282.1096551724138, 'gini = 0.0\\nsamples = 1\\nvalue = [0, 1]'),\n",
       " Text(256.0009184845006, 282.1096551724138, 'gini = 0.0\\nsamples = 1\\nvalue = [1, 0]'),\n",
       " Text(296.3614236509759, 321.47379310344826, 'X[1] <= -0.4\\ngini = 0.497\\nsamples = 244\\nvalue = [113, 131]'),\n",
       " Text(286.36739380022965, 308.35241379310344, 'X[1] <= -0.468\\ngini = 0.323\\nsamples = 163\\nvalue = [33, 130]'),\n",
       " Text(275.6045924225029, 295.2310344827586, 'X[1] <= -0.502\\ngini = 0.412\\nsamples = 100\\nvalue = [29, 71]'),\n",
       " Text(267.9168771526981, 282.1096551724138, 'X[1] <= -0.532\\ngini = 0.242\\nsamples = 64\\nvalue = [9, 55]'),\n",
       " Text(266.3793340987371, 268.988275862069, 'X[1] <= -0.535\\ngini = 0.325\\nsamples = 44\\nvalue = [9, 35]'),\n",
       " Text(264.84179104477613, 255.86689655172412, 'X[1] <= -0.599\\ngini = 0.303\\nsamples = 43\\nvalue = [8, 35]'),\n",
       " Text(263.30424799081516, 242.7455172413793, 'gini = 0.0\\nsamples = 8\\nvalue = [0, 8]'),\n",
       " Text(266.3793340987371, 242.7455172413793, 'X[1] <= -0.596\\ngini = 0.353\\nsamples = 35\\nvalue = [8, 27]'),\n",
       " Text(264.84179104477613, 229.62413793103448, 'gini = 0.0\\nsamples = 1\\nvalue = [1, 0]'),\n",
       " Text(267.9168771526981, 229.62413793103448, 'X[1] <= -0.546\\ngini = 0.327\\nsamples = 34\\nvalue = [7, 27]'),\n",
       " Text(264.84179104477613, 216.50275862068966, 'X[1] <= -0.548\\ngini = 0.397\\nsamples = 22\\nvalue = [6, 16]'),\n",
       " Text(263.30424799081516, 203.3813793103448, 'X[0] <= -0.988\\ngini = 0.363\\nsamples = 21\\nvalue = [5, 16]'),\n",
       " Text(261.7667049368542, 190.26, 'gini = 0.0\\nsamples = 3\\nvalue = [0, 3]'),\n",
       " Text(264.84179104477613, 190.26, 'X[0] <= 1.618\\ngini = 0.401\\nsamples = 18\\nvalue = [5, 13]'),\n",
       " Text(263.30424799081516, 177.13862068965517, 'X[0] <= 1.566\\ngini = 0.43\\nsamples = 16\\nvalue = [5, 11]'),\n",
       " Text(261.7667049368542, 164.01724137931035, 'X[0] <= 1.056\\ngini = 0.391\\nsamples = 15\\nvalue = [4, 11]'),\n",
       " Text(260.2291618828932, 150.89586206896553, 'X[0] <= 0.702\\ngini = 0.444\\nsamples = 12\\nvalue = [4, 8]'),\n",
       " Text(258.6916188289323, 137.7744827586207, 'X[1] <= -0.585\\ngini = 0.397\\nsamples = 11\\nvalue = [3, 8]'),\n",
       " Text(255.61653272101034, 124.65310344827586, 'X[1] <= -0.593\\ngini = 0.444\\nsamples = 3\\nvalue = [2, 1]'),\n",
       " Text(254.07898966704937, 111.53172413793106, 'gini = 0.0\\nsamples = 1\\nvalue = [0, 1]'),\n",
       " Text(257.1540757749713, 111.53172413793106, 'gini = 0.0\\nsamples = 2\\nvalue = [2, 0]'),\n",
       " Text(261.7667049368542, 124.65310344827586, 'X[0] <= -0.567\\ngini = 0.219\\nsamples = 8\\nvalue = [1, 7]'),\n",
       " Text(260.2291618828932, 111.53172413793106, 'gini = 0.32\\nsamples = 5\\nvalue = [1, 4]'),\n",
       " Text(263.30424799081516, 111.53172413793106, 'gini = 0.0\\nsamples = 3\\nvalue = [0, 3]'),\n",
       " Text(261.7667049368542, 137.7744827586207, 'gini = 0.0\\nsamples = 1\\nvalue = [1, 0]'),\n",
       " Text(263.30424799081516, 150.89586206896553, 'gini = 0.0\\nsamples = 3\\nvalue = [0, 3]'),\n",
       " Text(264.84179104477613, 164.01724137931035, 'gini = 0.0\\nsamples = 1\\nvalue = [1, 0]'),\n",
       " Text(266.3793340987371, 177.13862068965517, 'gini = 0.0\\nsamples = 2\\nvalue = [0, 2]'),\n",
       " Text(266.3793340987371, 203.3813793103448, 'gini = 0.0\\nsamples = 1\\nvalue = [1, 0]'),\n",
       " Text(270.99196326061997, 216.50275862068966, 'X[0] <= -0.77\\ngini = 0.153\\nsamples = 12\\nvalue = [1, 11]'),\n",
       " Text(269.454420206659, 203.3813793103448, 'X[1] <= -0.537\\ngini = 0.444\\nsamples = 3\\nvalue = [1, 2]'),\n",
       " Text(267.9168771526981, 190.26, 'gini = 0.0\\nsamples = 1\\nvalue = [1, 0]'),\n",
       " Text(270.99196326061997, 190.26, 'gini = 0.0\\nsamples = 2\\nvalue = [0, 2]'),\n",
       " Text(272.52950631458094, 203.3813793103448, 'gini = 0.0\\nsamples = 9\\nvalue = [0, 9]'),\n",
       " Text(267.9168771526981, 255.86689655172412, 'gini = 0.0\\nsamples = 1\\nvalue = [1, 0]'),\n",
       " Text(269.454420206659, 268.988275862069, 'gini = 0.0\\nsamples = 20\\nvalue = [0, 20]'),\n",
       " Text(283.2923076923077, 282.1096551724138, 'X[0] <= -0.884\\ngini = 0.494\\nsamples = 36\\nvalue = [20, 16]'),\n",
       " Text(281.7547646383467, 268.988275862069, 'gini = 0.0\\nsamples = 11\\nvalue = [11, 0]'),\n",
       " Text(284.8298507462687, 268.988275862069, 'X[0] <= 1.566\\ngini = 0.461\\nsamples = 25\\nvalue = [9, 16]'),\n",
       " Text(283.2923076923077, 255.86689655172412, 'X[0] <= 1.145\\ngini = 0.423\\nsamples = 23\\nvalue = [7, 16]'),\n",
       " Text(280.21722158438575, 242.7455172413793, 'X[0] <= 0.614\\ngini = 0.497\\nsamples = 13\\nvalue = [6, 7]'),\n",
       " Text(278.67967853042484, 229.62413793103448, 'X[0] <= 0.525\\ngini = 0.463\\nsamples = 11\\nvalue = [4, 7]'),\n",
       " Text(277.14213547646386, 216.50275862068966, 'X[0] <= 0.265\\ngini = 0.48\\nsamples = 10\\nvalue = [4, 6]'),\n",
       " Text(275.6045924225029, 203.3813793103448, 'X[0] <= -0.395\\ngini = 0.444\\nsamples = 9\\nvalue = [3, 6]'),\n",
       " Text(274.0670493685419, 190.26, 'X[0] <= -0.645\\ngini = 0.49\\nsamples = 7\\nvalue = [3, 4]'),\n",
       " Text(270.99196326061997, 177.13862068965517, 'X[0] <= -0.822\\ngini = 0.375\\nsamples = 4\\nvalue = [1, 3]'),\n",
       " Text(269.454420206659, 164.01724137931035, 'gini = 0.5\\nsamples = 2\\nvalue = [1, 1]'),\n",
       " Text(272.52950631458094, 164.01724137931035, 'gini = 0.0\\nsamples = 2\\nvalue = [0, 2]'),\n",
       " Text(277.14213547646386, 177.13862068965517, 'X[0] <= -0.52\\ngini = 0.444\\nsamples = 3\\nvalue = [2, 1]'),\n",
       " Text(275.6045924225029, 164.01724137931035, 'gini = 0.0\\nsamples = 1\\nvalue = [1, 0]'),\n",
       " Text(278.67967853042484, 164.01724137931035, 'X[1] <= -0.497\\ngini = 0.5\\nsamples = 2\\nvalue = [1, 1]'),\n",
       " Text(277.14213547646386, 150.89586206896553, 'gini = 0.0\\nsamples = 1\\nvalue = [1, 0]'),\n",
       " Text(280.21722158438575, 150.89586206896553, 'gini = 0.0\\nsamples = 1\\nvalue = [0, 1]'),\n",
       " Text(277.14213547646386, 190.26, 'gini = 0.0\\nsamples = 2\\nvalue = [0, 2]'),\n",
       " Text(278.67967853042484, 203.3813793103448, 'gini = 0.0\\nsamples = 1\\nvalue = [1, 0]'),\n",
       " Text(280.21722158438575, 216.50275862068966, 'gini = 0.0\\nsamples = 1\\nvalue = [0, 1]'),\n",
       " Text(281.7547646383467, 229.62413793103448, 'gini = 0.0\\nsamples = 2\\nvalue = [2, 0]'),\n",
       " Text(286.36739380022965, 242.7455172413793, 'X[0] <= 1.509\\ngini = 0.18\\nsamples = 10\\nvalue = [1, 9]'),\n",
       " Text(284.8298507462687, 229.62413793103448, 'gini = 0.0\\nsamples = 4\\nvalue = [0, 4]'),\n",
       " Text(287.9049368541906, 229.62413793103448, 'gini = 0.278\\nsamples = 6\\nvalue = [1, 5]'),\n",
       " Text(286.36739380022965, 255.86689655172412, 'gini = 0.0\\nsamples = 2\\nvalue = [2, 0]'),\n",
       " Text(297.1301951779564, 295.2310344827586, 'X[1] <= -0.414\\ngini = 0.119\\nsamples = 63\\nvalue = [4, 59]'),\n",
       " Text(294.05510907003446, 282.1096551724138, 'X[1] <= -0.42\\ngini = 0.067\\nsamples = 58\\nvalue = [2, 56]'),\n",
       " Text(292.5175660160735, 268.988275862069, 'X[1] <= -0.425\\ngini = 0.208\\nsamples = 17\\nvalue = [2, 15]'),\n",
       " Text(290.9800229621125, 255.86689655172412, 'X[0] <= 0.848\\ngini = 0.117\\nsamples = 16\\nvalue = [1, 15]'),\n",
       " Text(289.44247990815154, 242.7455172413793, 'gini = 0.0\\nsamples = 11\\nvalue = [0, 11]'),\n",
       " Text(292.5175660160735, 242.7455172413793, 'X[0] <= 0.973\\ngini = 0.32\\nsamples = 5\\nvalue = [1, 4]'),\n",
       " Text(290.9800229621125, 229.62413793103448, 'gini = 0.0\\nsamples = 1\\nvalue = [1, 0]'),\n",
       " Text(294.05510907003446, 229.62413793103448, 'gini = 0.0\\nsamples = 4\\nvalue = [0, 4]'),\n",
       " Text(294.05510907003446, 255.86689655172412, 'gini = 0.0\\nsamples = 1\\nvalue = [1, 0]'),\n",
       " Text(295.59265212399544, 268.988275862069, 'gini = 0.0\\nsamples = 41\\nvalue = [0, 41]'),\n",
       " Text(300.2052812858783, 282.1096551724138, 'X[1] <= -0.406\\ngini = 0.48\\nsamples = 5\\nvalue = [2, 3]'),\n",
       " Text(298.6677382319173, 268.988275862069, 'X[1] <= -0.412\\ngini = 0.444\\nsamples = 3\\nvalue = [2, 1]'),\n",
       " Text(297.1301951779564, 255.86689655172412, 'gini = 0.0\\nsamples = 1\\nvalue = [1, 0]'),\n",
       " Text(300.2052812858783, 255.86689655172412, 'X[0] <= -0.094\\ngini = 0.5\\nsamples = 2\\nvalue = [1, 1]'),\n",
       " Text(298.6677382319173, 242.7455172413793, 'gini = 0.0\\nsamples = 1\\nvalue = [1, 0]'),\n",
       " Text(301.7428243398393, 242.7455172413793, 'gini = 0.0\\nsamples = 1\\nvalue = [0, 1]'),\n",
       " Text(301.7428243398393, 268.988275862069, 'gini = 0.0\\nsamples = 2\\nvalue = [0, 2]'),\n",
       " Text(306.3554535017222, 308.35241379310344, 'X[0] <= -0.442\\ngini = 0.024\\nsamples = 81\\nvalue = [80, 1]'),\n",
       " Text(304.8179104477612, 295.2310344827586, 'X[0] <= -0.484\\ngini = 0.056\\nsamples = 35\\nvalue = [34, 1]'),\n",
       " Text(303.28036739380025, 282.1096551724138, 'gini = 0.0\\nsamples = 34\\nvalue = [34, 0]'),\n",
       " Text(306.3554535017222, 282.1096551724138, 'gini = 0.0\\nsamples = 1\\nvalue = [0, 1]'),\n",
       " Text(307.8929965556831, 295.2310344827586, 'gini = 0.0\\nsamples = 46\\nvalue = [46, 0]'),\n",
       " Text(538.9287353795925, 347.7165517241379, 'X[1] <= 1.445\\ngini = 0.362\\nsamples = 1229\\nvalue = [292, 937]'),\n",
       " Text(483.98146616676235, 334.5951724137931, 'X[0] <= -1.389\\ngini = 0.35\\nsamples = 1159\\nvalue = [262, 897]'),\n",
       " Text(482.4439231128014, 321.47379310344826, 'gini = 0.0\\nsamples = 36\\nvalue = [0, 36]'),\n",
       " Text(485.5190092207233, 321.47379310344826, 'X[0] <= 0.921\\ngini = 0.358\\nsamples = 1123\\nvalue = [262, 861]'),\n",
       " Text(438.91899217853046, 308.35241379310344, 'X[0] <= 0.801\\ngini = 0.386\\nsamples = 810\\nvalue = [212, 598]'),\n",
       " Text(384.2866640355913, 295.2310344827586, 'X[1] <= 0.253\\ngini = 0.373\\nsamples = 782\\nvalue = [194, 588]'),\n",
       " Text(361.65895522388064, 282.1096551724138, 'X[1] <= 0.191\\ngini = 0.438\\nsamples = 265\\nvalue = [86, 179]'),\n",
       " Text(343.16039035591274, 268.988275862069, 'X[0] <= 0.114\\ngini = 0.412\\nsamples = 245\\nvalue = [71, 174]'),\n",
       " Text(323.84500574052817, 255.86689655172412, 'X[1] <= -0.022\\ngini = 0.363\\nsamples = 168\\nvalue = [40, 128]'),\n",
       " Text(309.8149253731343, 242.7455172413793, 'X[1] <= -0.109\\ngini = 0.417\\nsamples = 98\\nvalue = [29, 69]'),\n",
       " Text(297.1301951779564, 229.62413793103448, 'X[0] <= -0.577\\ngini = 0.299\\nsamples = 60\\nvalue = [11, 49]'),\n",
       " Text(293.28633754305395, 216.50275862068966, 'X[0] <= -0.65\\ngini = 0.382\\nsamples = 35\\nvalue = [9, 26]'),\n",
       " Text(291.74879448909303, 203.3813793103448, 'X[1] <= -0.327\\ngini = 0.334\\nsamples = 33\\nvalue = [7, 26]'),\n",
       " Text(288.6737083811711, 190.26, 'X[1] <= -0.361\\ngini = 0.5\\nsamples = 4\\nvalue = [2, 2]'),\n",
       " Text(287.1361653272101, 177.13862068965517, 'gini = 0.0\\nsamples = 2\\nvalue = [0, 2]'),\n",
       " Text(290.21125143513206, 177.13862068965517, 'gini = 0.0\\nsamples = 2\\nvalue = [2, 0]'),\n",
       " Text(294.8238805970149, 190.26, 'X[0] <= -1.228\\ngini = 0.285\\nsamples = 29\\nvalue = [5, 24]'),\n",
       " Text(293.28633754305395, 177.13862068965517, 'gini = 0.0\\nsamples = 7\\nvalue = [0, 7]'),\n",
       " Text(296.3614236509759, 177.13862068965517, 'X[0] <= -1.165\\ngini = 0.351\\nsamples = 22\\nvalue = [5, 17]'),\n",
       " Text(294.8238805970149, 164.01724137931035, 'gini = 0.0\\nsamples = 2\\nvalue = [2, 0]'),\n",
       " Text(297.89896670493687, 164.01724137931035, 'X[1] <= -0.183\\ngini = 0.255\\nsamples = 20\\nvalue = [3, 17]'),\n",
       " Text(296.3614236509759, 150.89586206896553, 'X[1] <= -0.193\\ngini = 0.375\\nsamples = 12\\nvalue = [3, 9]'),\n",
       " Text(294.8238805970149, 137.7744827586207, 'X[0] <= -0.942\\ngini = 0.298\\nsamples = 11\\nvalue = [2, 9]'),\n",
       " Text(293.28633754305395, 124.65310344827586, 'X[0] <= -1.015\\ngini = 0.48\\nsamples = 5\\nvalue = [2, 3]'),\n",
       " Text(291.74879448909303, 111.53172413793106, 'gini = 0.0\\nsamples = 3\\nvalue = [0, 3]'),\n",
       " Text(294.8238805970149, 111.53172413793106, 'gini = 0.0\\nsamples = 2\\nvalue = [2, 0]'),\n",
       " Text(296.3614236509759, 124.65310344827586, 'gini = 0.0\\nsamples = 6\\nvalue = [0, 6]'),\n",
       " Text(297.89896670493687, 137.7744827586207, 'gini = 0.0\\nsamples = 1\\nvalue = [1, 0]'),\n",
       " Text(299.43650975889784, 150.89586206896553, 'gini = 0.0\\nsamples = 8\\nvalue = [0, 8]'),\n",
       " Text(294.8238805970149, 203.3813793103448, 'gini = 0.0\\nsamples = 2\\nvalue = [2, 0]'),\n",
       " Text(300.9740528128588, 216.50275862068966, 'X[0] <= -0.245\\ngini = 0.147\\nsamples = 25\\nvalue = [2, 23]'),\n",
       " Text(299.43650975889784, 203.3813793103448, 'gini = 0.0\\nsamples = 10\\nvalue = [0, 10]'),\n",
       " Text(302.51159586681973, 203.3813793103448, 'X[0] <= -0.192\\ngini = 0.231\\nsamples = 15\\nvalue = [2, 13]'),\n",
       " Text(300.9740528128588, 190.26, 'gini = 0.0\\nsamples = 1\\nvalue = [1, 0]'),\n",
       " Text(304.0491389207807, 190.26, 'X[1] <= -0.253\\ngini = 0.133\\nsamples = 14\\nvalue = [1, 13]'),\n",
       " Text(302.51159586681973, 177.13862068965517, 'X[0] <= -0.094\\ngini = 0.444\\nsamples = 3\\nvalue = [1, 2]'),\n",
       " Text(300.9740528128588, 164.01724137931035, 'gini = 0.0\\nsamples = 1\\nvalue = [1, 0]'),\n",
       " Text(304.0491389207807, 164.01724137931035, 'gini = 0.0\\nsamples = 2\\nvalue = [0, 2]'),\n",
       " Text(305.5866819747417, 177.13862068965517, 'gini = 0.0\\nsamples = 11\\nvalue = [0, 11]'),\n",
       " Text(322.4996555683123, 229.62413793103448, 'X[1] <= -0.105\\ngini = 0.499\\nsamples = 38\\nvalue = [18, 20]'),\n",
       " Text(314.81194029850747, 216.50275862068966, 'X[0] <= -0.89\\ngini = 0.43\\nsamples = 16\\nvalue = [11, 5]'),\n",
       " Text(311.7368541905855, 203.3813793103448, 'X[0] <= -1.067\\ngini = 0.469\\nsamples = 8\\nvalue = [5, 3]'),\n",
       " Text(310.1993111366246, 190.26, 'X[0] <= -1.264\\ngini = 0.408\\nsamples = 7\\nvalue = [5, 2]'),\n",
       " Text(308.6617680826636, 177.13862068965517, 'gini = 0.48\\nsamples = 5\\nvalue = [3, 2]'),\n",
       " Text(311.7368541905855, 177.13862068965517, 'gini = 0.0\\nsamples = 2\\nvalue = [2, 0]'),\n",
       " Text(313.2743972445465, 190.26, 'gini = 0.0\\nsamples = 1\\nvalue = [0, 1]'),\n",
       " Text(317.8870264064294, 203.3813793103448, 'X[0] <= -0.156\\ngini = 0.375\\nsamples = 8\\nvalue = [6, 2]'),\n",
       " Text(316.34948335246844, 190.26, 'gini = 0.0\\nsamples = 2\\nvalue = [2, 0]'),\n",
       " Text(319.4245694603904, 190.26, 'X[0] <= -0.094\\ngini = 0.444\\nsamples = 6\\nvalue = [4, 2]'),\n",
       " Text(317.8870264064294, 177.13862068965517, 'gini = 0.5\\nsamples = 2\\nvalue = [1, 1]'),\n",
       " Text(320.96211251435136, 177.13862068965517, 'gini = 0.375\\nsamples = 4\\nvalue = [3, 1]'),\n",
       " Text(330.18737083811715, 216.50275862068966, 'X[0] <= -0.094\\ngini = 0.434\\nsamples = 22\\nvalue = [7, 15]'),\n",
       " Text(328.6498277841562, 203.3813793103448, 'X[1] <= -0.06\\ngini = 0.475\\nsamples = 18\\nvalue = [7, 11]'),\n",
       " Text(325.5747416762342, 190.26, 'X[1] <= -0.084\\ngini = 0.375\\nsamples = 12\\nvalue = [3, 9]'),\n",
       " Text(324.03719862227325, 177.13862068965517, 'X[0] <= -0.661\\ngini = 0.5\\nsamples = 6\\nvalue = [3, 3]'),\n",
       " Text(322.4996555683123, 164.01724137931035, 'X[1] <= -0.097\\ngini = 0.375\\nsamples = 4\\nvalue = [1, 3]'),\n",
       " Text(320.96211251435136, 150.89586206896553, 'gini = 0.0\\nsamples = 3\\nvalue = [0, 3]'),\n",
       " Text(324.03719862227325, 150.89586206896553, 'gini = 0.0\\nsamples = 1\\nvalue = [1, 0]'),\n",
       " Text(325.5747416762342, 164.01724137931035, 'gini = 0.0\\nsamples = 2\\nvalue = [2, 0]'),\n",
       " Text(327.1122847301952, 177.13862068965517, 'gini = 0.0\\nsamples = 6\\nvalue = [0, 6]'),\n",
       " Text(331.72491389207806, 190.26, 'X[1] <= -0.047\\ngini = 0.444\\nsamples = 6\\nvalue = [4, 2]'),\n",
       " Text(330.18737083811715, 177.13862068965517, 'gini = 0.0\\nsamples = 2\\nvalue = [2, 0]'),\n",
       " Text(333.26245694603904, 177.13862068965517, 'X[1] <= -0.038\\ngini = 0.5\\nsamples = 4\\nvalue = [2, 2]'),\n",
       " Text(331.72491389207806, 164.01724137931035, 'gini = 0.0\\nsamples = 1\\nvalue = [0, 1]'),\n",
       " Text(334.8, 164.01724137931035, 'X[0] <= -0.541\\ngini = 0.444\\nsamples = 3\\nvalue = [2, 1]'),\n",
       " Text(333.26245694603904, 150.89586206896553, 'gini = 0.0\\nsamples = 2\\nvalue = [2, 0]'),\n",
       " Text(336.337543053961, 150.89586206896553, 'gini = 0.0\\nsamples = 1\\nvalue = [0, 1]'),\n",
       " Text(331.72491389207806, 203.3813793103448, 'gini = 0.0\\nsamples = 4\\nvalue = [0, 4]'),\n",
       " Text(337.87508610792196, 242.7455172413793, 'X[1] <= 0.004\\ngini = 0.265\\nsamples = 70\\nvalue = [11, 59]'),\n",
       " Text(336.337543053961, 229.62413793103448, 'gini = 0.0\\nsamples = 16\\nvalue = [0, 16]'),\n",
       " Text(339.41262916188293, 229.62413793103448, 'X[1] <= 0.014\\ngini = 0.324\\nsamples = 54\\nvalue = [11, 43]'),\n",
       " Text(336.337543053961, 216.50275862068966, 'X[0] <= -0.869\\ngini = 0.444\\nsamples = 3\\nvalue = [2, 1]'),\n",
       " Text(334.8, 203.3813793103448, 'gini = 0.0\\nsamples = 1\\nvalue = [0, 1]'),\n",
       " Text(337.87508610792196, 203.3813793103448, 'gini = 0.0\\nsamples = 2\\nvalue = [2, 0]'),\n",
       " Text(342.4877152698048, 216.50275862068966, 'X[0] <= -1.233\\ngini = 0.291\\nsamples = 51\\nvalue = [9, 42]'),\n",
       " Text(340.95017221584385, 203.3813793103448, 'gini = 0.0\\nsamples = 8\\nvalue = [0, 8]'),\n",
       " Text(344.0252583237658, 203.3813793103448, 'X[0] <= -1.165\\ngini = 0.331\\nsamples = 43\\nvalue = [9, 34]'),\n",
       " Text(340.1814006888634, 190.26, 'X[1] <= 0.033\\ngini = 0.375\\nsamples = 4\\nvalue = [3, 1]'),\n",
       " Text(338.6438576349024, 177.13862068965517, 'gini = 0.0\\nsamples = 1\\nvalue = [0, 1]'),\n",
       " Text(341.71894374282437, 177.13862068965517, 'gini = 0.0\\nsamples = 3\\nvalue = [3, 0]'),\n",
       " Text(347.8691159586682, 190.26, 'X[1] <= 0.09\\ngini = 0.26\\nsamples = 39\\nvalue = [6, 33]'),\n",
       " Text(344.79402985074626, 177.13862068965517, 'X[1] <= 0.04\\ngini = 0.111\\nsamples = 17\\nvalue = [1, 16]'),\n",
       " Text(343.25648679678534, 164.01724137931035, 'X[1] <= 0.035\\ngini = 0.278\\nsamples = 6\\nvalue = [1, 5]'),\n",
       " Text(341.71894374282437, 150.89586206896553, 'gini = 0.0\\nsamples = 5\\nvalue = [0, 5]'),\n",
       " Text(344.79402985074626, 150.89586206896553, 'gini = 0.0\\nsamples = 1\\nvalue = [1, 0]'),\n",
       " Text(346.33157290470723, 164.01724137931035, 'gini = 0.0\\nsamples = 11\\nvalue = [0, 11]'),\n",
       " Text(350.94420206659015, 177.13862068965517, 'X[1] <= 0.096\\ngini = 0.351\\nsamples = 22\\nvalue = [5, 17]'),\n",
       " Text(349.4066590126292, 164.01724137931035, 'gini = 0.444\\nsamples = 3\\nvalue = [2, 1]'),\n",
       " Text(352.4817451205511, 164.01724137931035, 'X[0] <= -0.146\\ngini = 0.266\\nsamples = 19\\nvalue = [3, 16]'),\n",
       " Text(347.8691159586682, 150.89586206896553, 'X[1] <= 0.138\\ngini = 0.133\\nsamples = 14\\nvalue = [1, 13]'),\n",
       " Text(346.33157290470723, 137.7744827586207, 'gini = 0.0\\nsamples = 8\\nvalue = [0, 8]'),\n",
       " Text(349.4066590126292, 137.7744827586207, 'X[1] <= 0.148\\ngini = 0.278\\nsamples = 6\\nvalue = [1, 5]'),\n",
       " Text(347.8691159586682, 124.65310344827586, 'gini = 0.0\\nsamples = 1\\nvalue = [1, 0]'),\n",
       " Text(350.94420206659015, 124.65310344827586, 'gini = 0.0\\nsamples = 5\\nvalue = [0, 5]'),\n",
       " Text(357.094374282434, 150.89586206896553, 'X[0] <= -0.031\\ngini = 0.48\\nsamples = 5\\nvalue = [2, 3]'),\n",
       " Text(355.556831228473, 137.7744827586207, 'X[1] <= 0.129\\ngini = 0.444\\nsamples = 3\\nvalue = [2, 1]'),\n",
       " Text(354.01928817451204, 124.65310344827586, 'gini = 0.0\\nsamples = 1\\nvalue = [1, 0]'),\n",
       " Text(357.094374282434, 124.65310344827586, 'X[1] <= 0.136\\ngini = 0.5\\nsamples = 2\\nvalue = [1, 1]'),\n",
       " Text(355.556831228473, 111.53172413793106, 'gini = 0.0\\nsamples = 1\\nvalue = [0, 1]'),\n",
       " Text(358.63191733639496, 111.53172413793106, 'gini = 0.0\\nsamples = 1\\nvalue = [1, 0]'),\n",
       " Text(358.63191733639496, 137.7744827586207, 'gini = 0.0\\nsamples = 2\\nvalue = [0, 2]'),\n",
       " Text(362.47577497129737, 255.86689655172412, 'X[0] <= 0.224\\ngini = 0.481\\nsamples = 77\\nvalue = [31, 46]'),\n",
       " Text(358.63191733639496, 242.7455172413793, 'X[1] <= -0.216\\ngini = 0.375\\nsamples = 12\\nvalue = [9, 3]'),\n",
       " Text(357.094374282434, 229.62413793103448, 'X[0] <= 0.151\\ngini = 0.5\\nsamples = 6\\nvalue = [3, 3]'),\n",
       " Text(355.556831228473, 216.50275862068966, 'X[1] <= -0.311\\ngini = 0.375\\nsamples = 4\\nvalue = [3, 1]'),\n",
       " Text(354.01928817451204, 203.3813793103448, 'gini = 0.444\\nsamples = 3\\nvalue = [2, 1]'),\n",
       " Text(357.094374282434, 203.3813793103448, 'gini = 0.0\\nsamples = 1\\nvalue = [1, 0]'),\n",
       " Text(358.63191733639496, 216.50275862068966, 'gini = 0.0\\nsamples = 2\\nvalue = [0, 2]'),\n",
       " Text(360.16946039035594, 229.62413793103448, 'gini = 0.0\\nsamples = 6\\nvalue = [6, 0]'),\n",
       " Text(366.3196326061998, 242.7455172413793, 'X[1] <= -0.237\\ngini = 0.448\\nsamples = 65\\nvalue = [22, 43]'),\n",
       " Text(363.2445464982778, 229.62413793103448, 'X[1] <= -0.279\\ngini = 0.236\\nsamples = 22\\nvalue = [3, 19]'),\n",
       " Text(361.7070034443169, 216.50275862068966, 'X[1] <= -0.285\\ngini = 0.337\\nsamples = 14\\nvalue = [3, 11]'),\n",
       " Text(360.16946039035594, 203.3813793103448, 'X[1] <= -0.328\\ngini = 0.26\\nsamples = 13\\nvalue = [2, 11]'),\n",
       " Text(358.63191733639496, 190.26, 'X[1] <= -0.34\\ngini = 0.375\\nsamples = 8\\nvalue = [2, 6]'),\n",
       " Text(357.094374282434, 177.13862068965517, 'X[0] <= 0.702\\ngini = 0.245\\nsamples = 7\\nvalue = [1, 6]'),\n",
       " Text(355.556831228473, 164.01724137931035, 'gini = 0.0\\nsamples = 6\\nvalue = [0, 6]'),\n",
       " Text(358.63191733639496, 164.01724137931035, 'gini = 0.0\\nsamples = 1\\nvalue = [1, 0]'),\n",
       " Text(360.16946039035594, 177.13862068965517, 'gini = 0.0\\nsamples = 1\\nvalue = [1, 0]'),\n",
       " Text(361.7070034443169, 190.26, 'gini = 0.0\\nsamples = 5\\nvalue = [0, 5]'),\n",
       " Text(363.2445464982778, 203.3813793103448, 'gini = 0.0\\nsamples = 1\\nvalue = [1, 0]'),\n",
       " Text(364.7820895522388, 216.50275862068966, 'gini = 0.0\\nsamples = 8\\nvalue = [0, 8]'),\n",
       " Text(369.3947187141217, 229.62413793103448, 'X[1] <= -0.171\\ngini = 0.493\\nsamples = 43\\nvalue = [19, 24]'),\n",
       " Text(367.85717566016075, 216.50275862068966, 'gini = 0.0\\nsamples = 4\\nvalue = [4, 0]'),\n",
       " Text(370.9322617680827, 216.50275862068966, 'X[0] <= 0.479\\ngini = 0.473\\nsamples = 39\\nvalue = [15, 24]'),\n",
       " Text(366.3196326061998, 203.3813793103448, 'X[0] <= 0.411\\ngini = 0.496\\nsamples = 22\\nvalue = [12, 10]'),\n",
       " Text(364.7820895522388, 190.26, 'X[1] <= -0.104\\ngini = 0.494\\nsamples = 18\\nvalue = [8, 10]'),\n",
       " Text(363.2445464982778, 177.13862068965517, 'gini = 0.245\\nsamples = 7\\nvalue = [6, 1]'),\n",
       " Text(366.3196326061998, 177.13862068965517, 'X[1] <= 0.037\\ngini = 0.298\\nsamples = 11\\nvalue = [2, 9]'),\n",
       " Text(364.7820895522388, 164.01724137931035, 'gini = 0.0\\nsamples = 7\\nvalue = [0, 7]'),\n",
       " Text(367.85717566016075, 164.01724137931035, 'X[1] <= 0.088\\ngini = 0.5\\nsamples = 4\\nvalue = [2, 2]'),\n",
       " Text(366.3196326061998, 150.89586206896553, 'gini = 0.0\\nsamples = 1\\nvalue = [1, 0]'),\n",
       " Text(369.3947187141217, 150.89586206896553, 'X[1] <= 0.093\\ngini = 0.444\\nsamples = 3\\nvalue = [1, 2]'),\n",
       " Text(367.85717566016075, 137.7744827586207, 'gini = 0.0\\nsamples = 1\\nvalue = [0, 1]'),\n",
       " Text(370.9322617680827, 137.7744827586207, 'X[1] <= 0.136\\ngini = 0.5\\nsamples = 2\\nvalue = [1, 1]'),\n",
       " Text(369.3947187141217, 124.65310344827586, 'gini = 0.0\\nsamples = 1\\nvalue = [1, 0]'),\n",
       " Text(372.46980482204367, 124.65310344827586, 'gini = 0.0\\nsamples = 1\\nvalue = [0, 1]'),\n",
       " Text(367.85717566016075, 190.26, 'gini = 0.0\\nsamples = 4\\nvalue = [4, 0]'),\n",
       " Text(375.54489092996556, 203.3813793103448, 'X[0] <= 0.702\\ngini = 0.291\\nsamples = 17\\nvalue = [3, 14]'),\n",
       " Text(374.0073478760046, 190.26, 'gini = 0.0\\nsamples = 6\\nvalue = [0, 6]'),\n",
       " Text(377.08243398392653, 190.26, 'X[0] <= 0.713\\ngini = 0.397\\nsamples = 11\\nvalue = [3, 8]'),\n",
       " Text(375.54489092996556, 177.13862068965517, 'X[1] <= 0.033\\ngini = 0.48\\nsamples = 5\\nvalue = [3, 2]'),\n",
       " Text(374.0073478760046, 164.01724137931035, 'X[1] <= -0.067\\ngini = 0.5\\nsamples = 4\\nvalue = [2, 2]'),\n",
       " Text(372.46980482204367, 150.89586206896553, 'gini = 0.444\\nsamples = 3\\nvalue = [2, 1]'),\n",
       " Text(375.54489092996556, 150.89586206896553, 'gini = 0.0\\nsamples = 1\\nvalue = [0, 1]'),\n",
       " Text(377.08243398392653, 164.01724137931035, 'gini = 0.0\\nsamples = 1\\nvalue = [1, 0]'),\n",
       " Text(378.6199770378875, 177.13862068965517, 'gini = 0.0\\nsamples = 6\\nvalue = [0, 6]'),\n",
       " Text(380.1575200918485, 268.988275862069, 'X[0] <= -0.385\\ngini = 0.375\\nsamples = 20\\nvalue = [15, 5]'),\n",
       " Text(378.6199770378875, 255.86689655172412, 'X[1] <= 0.242\\ngini = 0.5\\nsamples = 10\\nvalue = [5, 5]'),\n",
       " Text(377.08243398392653, 242.7455172413793, 'X[0] <= -1.077\\ngini = 0.469\\nsamples = 8\\nvalue = [3, 5]'),\n",
       " Text(375.54489092996556, 229.62413793103448, 'gini = 0.0\\nsamples = 1\\nvalue = [1, 0]'),\n",
       " Text(378.6199770378875, 229.62413793103448, 'X[1] <= 0.193\\ngini = 0.408\\nsamples = 7\\nvalue = [2, 5]'),\n",
       " Text(377.08243398392653, 216.50275862068966, 'gini = 0.0\\nsamples = 1\\nvalue = [1, 0]'),\n",
       " Text(380.1575200918485, 216.50275862068966, 'X[0] <= -0.832\\ngini = 0.278\\nsamples = 6\\nvalue = [1, 5]'),\n",
       " Text(378.6199770378875, 203.3813793103448, 'gini = 0.0\\nsamples = 4\\nvalue = [0, 4]'),\n",
       " Text(381.69506314580946, 203.3813793103448, 'X[1] <= 0.225\\ngini = 0.5\\nsamples = 2\\nvalue = [1, 1]'),\n",
       " Text(380.1575200918485, 190.26, 'gini = 0.0\\nsamples = 1\\nvalue = [0, 1]'),\n",
       " Text(383.2326061997704, 190.26, 'gini = 0.0\\nsamples = 1\\nvalue = [1, 0]'),\n",
       " Text(380.1575200918485, 242.7455172413793, 'gini = 0.0\\nsamples = 2\\nvalue = [2, 0]'),\n",
       " Text(381.69506314580946, 255.86689655172412, 'gini = 0.0\\nsamples = 10\\nvalue = [10, 0]'),\n",
       " Text(406.914372847302, 282.1096551724138, 'X[0] <= -1.337\\ngini = 0.331\\nsamples = 517\\nvalue = [108, 409]'),\n",
       " Text(390.92032146957524, 268.988275862069, 'X[1] <= 1.028\\ngini = 0.497\\nsamples = 28\\nvalue = [15, 13]'),\n",
       " Text(389.38277841561427, 255.86689655172412, 'X[1] <= 0.727\\ngini = 0.455\\nsamples = 20\\nvalue = [7, 13]'),\n",
       " Text(386.3076923076923, 242.7455172413793, 'X[1] <= 0.611\\ngini = 0.494\\nsamples = 9\\nvalue = [5, 4]'),\n",
       " Text(384.77014925373135, 229.62413793103448, 'X[1] <= 0.383\\ngini = 0.49\\nsamples = 7\\nvalue = [3, 4]'),\n",
       " Text(383.2326061997704, 216.50275862068966, 'gini = 0.0\\nsamples = 1\\nvalue = [1, 0]'),\n",
       " Text(386.3076923076923, 216.50275862068966, 'X[0] <= -1.358\\ngini = 0.444\\nsamples = 6\\nvalue = [2, 4]'),\n",
       " Text(384.77014925373135, 203.3813793103448, 'gini = 0.0\\nsamples = 1\\nvalue = [0, 1]'),\n",
       " Text(387.8452353616533, 203.3813793103448, 'X[1] <= 0.492\\ngini = 0.48\\nsamples = 5\\nvalue = [2, 3]'),\n",
       " Text(386.3076923076923, 190.26, 'X[1] <= 0.391\\ngini = 0.375\\nsamples = 4\\nvalue = [1, 3]'),\n",
       " Text(384.77014925373135, 177.13862068965517, 'gini = 0.444\\nsamples = 3\\nvalue = [1, 2]'),\n",
       " Text(387.8452353616533, 177.13862068965517, 'gini = 0.0\\nsamples = 1\\nvalue = [0, 1]'),\n",
       " Text(389.38277841561427, 190.26, 'gini = 0.0\\nsamples = 1\\nvalue = [1, 0]'),\n",
       " Text(387.8452353616533, 229.62413793103448, 'gini = 0.0\\nsamples = 2\\nvalue = [2, 0]'),\n",
       " Text(392.45786452353616, 242.7455172413793, 'X[1] <= 0.902\\ngini = 0.298\\nsamples = 11\\nvalue = [2, 9]'),\n",
       " Text(390.92032146957524, 229.62413793103448, 'gini = 0.0\\nsamples = 5\\nvalue = [0, 5]'),\n",
       " Text(393.99540757749713, 229.62413793103448, 'X[1] <= 0.946\\ngini = 0.444\\nsamples = 6\\nvalue = [2, 4]'),\n",
       " Text(392.45786452353616, 216.50275862068966, 'gini = 0.0\\nsamples = 1\\nvalue = [1, 0]'),\n",
       " Text(395.5329506314581, 216.50275862068966, 'X[1] <= 0.995\\ngini = 0.32\\nsamples = 5\\nvalue = [1, 4]'),\n",
       " Text(393.99540757749713, 203.3813793103448, 'X[1] <= 0.963\\ngini = 0.444\\nsamples = 3\\nvalue = [1, 2]'),\n",
       " Text(392.45786452353616, 190.26, 'gini = 0.0\\nsamples = 1\\nvalue = [0, 1]'),\n",
       " Text(395.5329506314581, 190.26, 'gini = 0.5\\nsamples = 2\\nvalue = [1, 1]'),\n",
       " Text(397.0704936854191, 203.3813793103448, 'gini = 0.0\\nsamples = 2\\nvalue = [0, 2]'),\n",
       " Text(392.45786452353616, 255.86689655172412, 'gini = 0.0\\nsamples = 8\\nvalue = [8, 0]'),\n",
       " Text(422.90842422502874, 268.988275862069, 'X[0] <= -1.181\\ngini = 0.308\\nsamples = 489\\nvalue = [93, 396]'),\n",
       " Text(421.37088117106777, 255.86689655172412, 'gini = 0.0\\nsamples = 38\\nvalue = [0, 38]'),\n",
       " Text(424.44596727898966, 255.86689655172412, 'X[0] <= -1.165\\ngini = 0.327\\nsamples = 451\\nvalue = [93, 358]'),\n",
       " Text(404.7582089552239, 242.7455172413793, 'X[1] <= 1.168\\ngini = 0.375\\nsamples = 16\\nvalue = [12, 4]'),\n",
       " Text(403.2206659012629, 229.62413793103448, 'X[1] <= 0.883\\ngini = 0.245\\nsamples = 14\\nvalue = [12, 2]'),\n",
       " Text(401.68312284730195, 216.50275862068966, 'X[1] <= 0.851\\ngini = 0.375\\nsamples = 8\\nvalue = [6, 2]'),\n",
       " Text(400.145579793341, 203.3813793103448, 'X[1] <= 0.53\\ngini = 0.245\\nsamples = 7\\nvalue = [6, 1]'),\n",
       " Text(398.60803673938005, 190.26, 'gini = 0.0\\nsamples = 3\\nvalue = [3, 0]'),\n",
       " Text(401.68312284730195, 190.26, 'X[1] <= 0.58\\ngini = 0.375\\nsamples = 4\\nvalue = [3, 1]'),\n",
       " Text(400.145579793341, 177.13862068965517, 'gini = 0.0\\nsamples = 1\\nvalue = [0, 1]'),\n",
       " Text(403.2206659012629, 177.13862068965517, 'gini = 0.0\\nsamples = 3\\nvalue = [3, 0]'),\n",
       " Text(403.2206659012629, 203.3813793103448, 'gini = 0.0\\nsamples = 1\\nvalue = [0, 1]'),\n",
       " Text(404.7582089552239, 216.50275862068966, 'gini = 0.0\\nsamples = 6\\nvalue = [6, 0]'),\n",
       " Text(406.29575200918487, 229.62413793103448, 'gini = 0.0\\nsamples = 2\\nvalue = [0, 2]'),\n",
       " Text(444.1337256027555, 242.7455172413793, 'X[0] <= -0.276\\ngini = 0.303\\nsamples = 435\\nvalue = [81, 354]'),\n",
       " Text(419.7492537313433, 229.62413793103448, 'X[0] <= -0.577\\ngini = 0.216\\nsamples = 211\\nvalue = [26, 185]'),\n",
       " Text(413.2146957520092, 216.50275862068966, 'X[0] <= -0.962\\ngini = 0.291\\nsamples = 130\\nvalue = [23, 107]'),\n",
       " Text(409.3708381171068, 203.3813793103448, 'X[0] <= -1.098\\ngini = 0.039\\nsamples = 50\\nvalue = [1, 49]'),\n",
       " Text(407.83329506314584, 190.26, 'X[0] <= -1.134\\ngini = 0.142\\nsamples = 13\\nvalue = [1, 12]'),\n",
       " Text(406.29575200918487, 177.13862068965517, 'gini = 0.0\\nsamples = 12\\nvalue = [0, 12]'),\n",
       " Text(409.3708381171068, 177.13862068965517, 'gini = 0.0\\nsamples = 1\\nvalue = [1, 0]'),\n",
       " Text(410.90838117106773, 190.26, 'gini = 0.0\\nsamples = 37\\nvalue = [0, 37]'),\n",
       " Text(417.0585533869116, 203.3813793103448, 'X[0] <= -0.796\\ngini = 0.399\\nsamples = 80\\nvalue = [22, 58]'),\n",
       " Text(413.9834672789897, 190.26, 'X[0] <= -0.827\\ngini = 0.463\\nsamples = 44\\nvalue = [16, 28]'),\n",
       " Text(412.4459242250287, 177.13862068965517, 'X[0] <= -0.879\\ngini = 0.368\\nsamples = 37\\nvalue = [9, 28]'),\n",
       " Text(410.90838117106773, 164.01724137931035, 'X[0] <= -0.921\\ngini = 0.476\\nsamples = 23\\nvalue = [9, 14]'),\n",
       " Text(409.3708381171068, 150.89586206896553, 'X[1] <= 1.29\\ngini = 0.346\\nsamples = 18\\nvalue = [4, 14]'),\n",
       " Text(407.83329506314584, 137.7744827586207, 'X[1] <= 0.785\\ngini = 0.219\\nsamples = 16\\nvalue = [2, 14]'),\n",
       " Text(406.29575200918487, 124.65310344827586, 'X[1] <= 0.737\\ngini = 0.346\\nsamples = 9\\nvalue = [2, 7]'),\n",
       " Text(404.7582089552239, 111.53172413793106, 'X[0] <= -0.942\\ngini = 0.219\\nsamples = 8\\nvalue = [1, 7]'),\n",
       " Text(403.2206659012629, 98.41034482758619, 'X[1] <= 0.604\\ngini = 0.5\\nsamples = 2\\nvalue = [1, 1]'),\n",
       " Text(401.68312284730195, 85.28896551724137, 'gini = 0.0\\nsamples = 1\\nvalue = [1, 0]'),\n",
       " Text(404.7582089552239, 85.28896551724137, 'gini = 0.0\\nsamples = 1\\nvalue = [0, 1]'),\n",
       " Text(406.29575200918487, 98.41034482758619, 'gini = 0.0\\nsamples = 6\\nvalue = [0, 6]'),\n",
       " Text(407.83329506314584, 111.53172413793106, 'gini = 0.0\\nsamples = 1\\nvalue = [1, 0]'),\n",
       " Text(409.3708381171068, 124.65310344827586, 'gini = 0.0\\nsamples = 7\\nvalue = [0, 7]'),\n",
       " Text(410.90838117106773, 137.7744827586207, 'gini = 0.0\\nsamples = 2\\nvalue = [2, 0]'),\n",
       " Text(412.4459242250287, 150.89586206896553, 'gini = 0.0\\nsamples = 5\\nvalue = [5, 0]'),\n",
       " Text(413.9834672789897, 164.01724137931035, 'gini = 0.0\\nsamples = 14\\nvalue = [0, 14]'),\n",
       " Text(415.52101033295065, 177.13862068965517, 'gini = 0.0\\nsamples = 7\\nvalue = [7, 0]'),\n",
       " Text(420.1336394948335, 190.26, 'X[0] <= -0.77\\ngini = 0.278\\nsamples = 36\\nvalue = [6, 30]'),\n",
       " Text(418.5960964408726, 177.13862068965517, 'gini = 0.0\\nsamples = 18\\nvalue = [0, 18]'),\n",
       " Text(421.6711825487945, 177.13862068965517, 'X[0] <= -0.749\\ngini = 0.444\\nsamples = 18\\nvalue = [6, 12]'),\n",
       " Text(420.1336394948335, 164.01724137931035, 'gini = 0.0\\nsamples = 1\\nvalue = [1, 0]'),\n",
       " Text(423.20872560275546, 164.01724137931035, 'X[1] <= 1.153\\ngini = 0.415\\nsamples = 17\\nvalue = [5, 12]'),\n",
       " Text(417.8273249138921, 150.89586206896553, 'X[1] <= 0.501\\ngini = 0.298\\nsamples = 11\\nvalue = [2, 9]'),\n",
       " Text(414.75223880597014, 137.7744827586207, 'X[1] <= 0.361\\ngini = 0.5\\nsamples = 2\\nvalue = [1, 1]'),\n",
       " Text(413.2146957520092, 124.65310344827586, 'gini = 0.0\\nsamples = 1\\nvalue = [0, 1]'),\n",
       " Text(416.2897818599311, 124.65310344827586, 'gini = 0.0\\nsamples = 1\\nvalue = [1, 0]'),\n",
       " Text(420.90241102181403, 137.7744827586207, 'X[1] <= 1.035\\ngini = 0.198\\nsamples = 9\\nvalue = [1, 8]'),\n",
       " Text(419.36486796785306, 124.65310344827586, 'gini = 0.0\\nsamples = 5\\nvalue = [0, 5]'),\n",
       " Text(422.439954075775, 124.65310344827586, 'X[1] <= 1.07\\ngini = 0.375\\nsamples = 4\\nvalue = [1, 3]'),\n",
       " Text(420.90241102181403, 111.53172413793106, 'gini = 0.0\\nsamples = 1\\nvalue = [1, 0]'),\n",
       " Text(423.977497129736, 111.53172413793106, 'gini = 0.0\\nsamples = 3\\nvalue = [0, 3]'),\n",
       " Text(428.59012629161884, 150.89586206896553, 'X[1] <= 1.3\\ngini = 0.5\\nsamples = 6\\nvalue = [3, 3]'),\n",
       " Text(427.05258323765787, 137.7744827586207, 'X[1] <= 1.204\\ngini = 0.375\\nsamples = 4\\nvalue = [3, 1]'),\n",
       " Text(425.5150401836969, 124.65310344827586, 'gini = 0.0\\nsamples = 1\\nvalue = [1, 0]'),\n",
       " Text(428.59012629161884, 124.65310344827586, 'X[1] <= 1.255\\ngini = 0.444\\nsamples = 3\\nvalue = [2, 1]'),\n",
       " Text(427.05258323765787, 111.53172413793106, 'gini = 0.5\\nsamples = 2\\nvalue = [1, 1]'),\n",
       " Text(430.1276693455798, 111.53172413793106, 'gini = 0.0\\nsamples = 1\\nvalue = [1, 0]'),\n",
       " Text(430.1276693455798, 137.7744827586207, 'gini = 0.0\\nsamples = 2\\nvalue = [0, 2]'),\n",
       " Text(426.2838117106774, 216.50275862068966, 'X[0] <= -0.468\\ngini = 0.071\\nsamples = 81\\nvalue = [3, 78]'),\n",
       " Text(424.74626865671644, 203.3813793103448, 'gini = 0.0\\nsamples = 39\\nvalue = [0, 39]'),\n",
       " Text(427.8213547646384, 203.3813793103448, 'X[0] <= -0.437\\ngini = 0.133\\nsamples = 42\\nvalue = [3, 39]'),\n",
       " Text(426.2838117106774, 190.26, 'gini = 0.0\\nsamples = 2\\nvalue = [2, 0]'),\n",
       " Text(429.3588978185993, 190.26, 'X[1] <= 0.639\\ngini = 0.049\\nsamples = 40\\nvalue = [1, 39]'),\n",
       " Text(427.8213547646384, 177.13862068965517, 'X[1] <= 0.587\\ngini = 0.18\\nsamples = 10\\nvalue = [1, 9]'),\n",
       " Text(426.2838117106774, 164.01724137931035, 'gini = 0.0\\nsamples = 9\\nvalue = [0, 9]'),\n",
       " Text(429.3588978185993, 164.01724137931035, 'gini = 0.0\\nsamples = 1\\nvalue = [1, 0]'),\n",
       " Text(430.8964408725603, 177.13862068965517, 'gini = 0.0\\nsamples = 30\\nvalue = [0, 30]'),\n",
       " Text(468.51819747416766, 229.62413793103448, 'X[0] <= 0.744\\ngini = 0.37\\nsamples = 224\\nvalue = [55, 169]'),\n",
       " Text(466.9806544202067, 216.50275862068966, 'X[0] <= 0.338\\ngini = 0.393\\nsamples = 205\\nvalue = [55, 150]'),\n",
       " Text(443.4850746268657, 203.3813793103448, 'X[0] <= -0.203\\ngini = 0.346\\nsamples = 153\\nvalue = [34, 119]'),\n",
       " Text(435.5090700344432, 190.26, 'X[1] <= 0.719\\ngini = 0.375\\nsamples = 4\\nvalue = [3, 1]'),\n",
       " Text(433.9715269804822, 177.13862068965517, 'gini = 0.0\\nsamples = 2\\nvalue = [2, 0]'),\n",
       " Text(437.0466130884042, 177.13862068965517, 'X[0] <= -0.234\\ngini = 0.5\\nsamples = 2\\nvalue = [1, 1]'),\n",
       " Text(435.5090700344432, 164.01724137931035, 'gini = 0.0\\nsamples = 1\\nvalue = [1, 0]'),\n",
       " Text(438.5841561423651, 164.01724137931035, 'gini = 0.0\\nsamples = 1\\nvalue = [0, 1]'),\n",
       " Text(451.4610792192882, 190.26, 'X[1] <= 0.334\\ngini = 0.33\\nsamples = 149\\nvalue = [31, 118]'),\n",
       " Text(443.196785304248, 177.13862068965517, 'X[1] <= 0.308\\ngini = 0.5\\nsamples = 8\\nvalue = [4, 4]'),\n",
       " Text(441.65924225028704, 164.01724137931035, 'gini = 0.0\\nsamples = 4\\nvalue = [0, 4]'),\n",
       " Text(444.734328358209, 164.01724137931035, 'gini = 0.0\\nsamples = 4\\nvalue = [4, 0]'),\n",
       " Text(459.7253731343284, 177.13862068965517, 'X[1] <= 1.107\\ngini = 0.31\\nsamples = 141\\nvalue = [27, 114]'),\n",
       " Text(447.8094144661309, 164.01724137931035, 'X[0] <= -0.187\\ngini = 0.252\\nsamples = 108\\nvalue = [16, 92]'),\n",
       " Text(440.8904707233066, 150.89586206896553, 'X[1] <= 0.53\\ngini = 0.444\\nsamples = 9\\nvalue = [3, 6]'),\n",
       " Text(439.3529276693456, 137.7744827586207, 'gini = 0.0\\nsamples = 3\\nvalue = [0, 3]'),\n",
       " Text(442.42801377726755, 137.7744827586207, 'X[1] <= 0.615\\ngini = 0.5\\nsamples = 6\\nvalue = [3, 3]'),\n",
       " Text(440.8904707233066, 124.65310344827586, 'gini = 0.0\\nsamples = 2\\nvalue = [2, 0]'),\n",
       " Text(443.96555683122847, 124.65310344827586, 'X[1] <= 0.898\\ngini = 0.375\\nsamples = 4\\nvalue = [1, 3]'),\n",
       " Text(442.42801377726755, 111.53172413793106, 'gini = 0.0\\nsamples = 3\\nvalue = [0, 3]'),\n",
       " Text(445.50309988518944, 111.53172413793106, 'gini = 0.0\\nsamples = 1\\nvalue = [1, 0]'),\n",
       " Text(454.7283582089552, 150.89586206896553, 'X[1] <= 0.415\\ngini = 0.228\\nsamples = 99\\nvalue = [13, 86]'),\n",
       " Text(451.65327210103334, 137.7744827586207, 'X[1] <= 0.39\\ngini = 0.391\\nsamples = 15\\nvalue = [4, 11]'),\n",
       " Text(450.11572904707236, 124.65310344827586, 'X[0] <= -0.036\\ngini = 0.153\\nsamples = 12\\nvalue = [1, 11]'),\n",
       " Text(448.5781859931114, 111.53172413793106, 'X[1] <= 0.373\\ngini = 0.444\\nsamples = 3\\nvalue = [1, 2]'),\n",
       " Text(447.0406429391504, 98.41034482758619, 'gini = 0.0\\nsamples = 2\\nvalue = [0, 2]'),\n",
       " Text(450.11572904707236, 98.41034482758619, 'gini = 0.0\\nsamples = 1\\nvalue = [1, 0]'),\n",
       " Text(451.65327210103334, 111.53172413793106, 'gini = 0.0\\nsamples = 9\\nvalue = [0, 9]'),\n",
       " Text(453.19081515499425, 124.65310344827586, 'gini = 0.0\\nsamples = 3\\nvalue = [3, 0]'),\n",
       " Text(457.8034443168772, 137.7744827586207, 'X[1] <= 0.617\\ngini = 0.191\\nsamples = 84\\nvalue = [9, 75]'),\n",
       " Text(456.2659012629162, 124.65310344827586, 'gini = 0.0\\nsamples = 19\\nvalue = [0, 19]'),\n",
       " Text(459.34098737083815, 124.65310344827586, 'X[1] <= 0.626\\ngini = 0.239\\nsamples = 65\\nvalue = [9, 56]'),\n",
       " Text(457.8034443168772, 111.53172413793106, 'gini = 0.0\\nsamples = 3\\nvalue = [3, 0]'),\n",
       " Text(460.8785304247991, 111.53172413793106, 'X[1] <= 0.69\\ngini = 0.175\\nsamples = 62\\nvalue = [6, 56]'),\n",
       " Text(459.34098737083815, 98.41034482758619, 'gini = 0.0\\nsamples = 11\\nvalue = [0, 11]'),\n",
       " Text(462.41607347876004, 98.41034482758619, 'X[1] <= 0.77\\ngini = 0.208\\nsamples = 51\\nvalue = [6, 45]'),\n",
       " Text(458.57221584385763, 85.28896551724137, 'X[1] <= 0.754\\ngini = 0.444\\nsamples = 6\\nvalue = [2, 4]'),\n",
       " Text(457.03467278989666, 72.16758620689654, 'X[1] <= 0.707\\ngini = 0.32\\nsamples = 5\\nvalue = [1, 4]'),\n",
       " Text(455.49712973593574, 59.04620689655172, 'X[0] <= 0.104\\ngini = 0.5\\nsamples = 2\\nvalue = [1, 1]'),\n",
       " Text(453.95958668197477, 45.9248275862069, 'gini = 0.0\\nsamples = 1\\nvalue = [1, 0]'),\n",
       " Text(457.03467278989666, 45.9248275862069, 'gini = 0.0\\nsamples = 1\\nvalue = [0, 1]'),\n",
       " Text(458.57221584385763, 59.04620689655172, 'gini = 0.0\\nsamples = 3\\nvalue = [0, 3]'),\n",
       " Text(460.1097588978186, 72.16758620689654, 'gini = 0.0\\nsamples = 1\\nvalue = [1, 0]'),\n",
       " Text(466.25993111366245, 85.28896551724137, 'X[0] <= -0.047\\ngini = 0.162\\nsamples = 45\\nvalue = [4, 41]'),\n",
       " Text(463.18484500574056, 72.16758620689654, 'X[0] <= -0.068\\ngini = 0.298\\nsamples = 11\\nvalue = [2, 9]'),\n",
       " Text(461.6473019517796, 59.04620689655172, 'X[1] <= 0.96\\ngini = 0.18\\nsamples = 10\\nvalue = [1, 9]'),\n",
       " Text(460.1097588978186, 45.9248275862069, 'gini = 0.0\\nsamples = 5\\nvalue = [0, 5]'),\n",
       " Text(463.18484500574056, 45.9248275862069, 'X[1] <= 0.984\\ngini = 0.32\\nsamples = 5\\nvalue = [1, 4]'),\n",
       " Text(461.6473019517796, 32.80344827586208, 'gini = 0.0\\nsamples = 1\\nvalue = [1, 0]'),\n",
       " Text(464.72238805970153, 32.80344827586208, 'gini = 0.0\\nsamples = 4\\nvalue = [0, 4]'),\n",
       " Text(464.72238805970153, 59.04620689655172, 'gini = 0.0\\nsamples = 1\\nvalue = [1, 0]'),\n",
       " Text(469.3350172215844, 72.16758620689654, 'X[1] <= 0.915\\ngini = 0.111\\nsamples = 34\\nvalue = [2, 32]'),\n",
       " Text(467.7974741676234, 59.04620689655172, 'gini = 0.0\\nsamples = 12\\nvalue = [0, 12]'),\n",
       " Text(470.87256027554537, 59.04620689655172, 'X[1] <= 0.939\\ngini = 0.165\\nsamples = 22\\nvalue = [2, 20]'),\n",
       " Text(469.3350172215844, 45.9248275862069, 'gini = 0.0\\nsamples = 1\\nvalue = [1, 0]'),\n",
       " Text(472.41010332950634, 45.9248275862069, 'X[0] <= 0.291\\ngini = 0.091\\nsamples = 21\\nvalue = [1, 20]'),\n",
       " Text(470.87256027554537, 32.80344827586208, 'gini = 0.0\\nsamples = 12\\nvalue = [0, 12]'),\n",
       " Text(473.9476463834673, 32.80344827586208, 'X[1] <= 1.032\\ngini = 0.198\\nsamples = 9\\nvalue = [1, 8]'),\n",
       " Text(472.41010332950634, 19.68206896551726, 'gini = 0.0\\nsamples = 6\\nvalue = [0, 6]'),\n",
       " Text(475.4851894374283, 19.68206896551726, 'X[1] <= 1.057\\ngini = 0.444\\nsamples = 3\\nvalue = [1, 2]'),\n",
       " Text(473.9476463834673, 6.560689655172439, 'gini = 0.0\\nsamples = 1\\nvalue = [1, 0]'),\n",
       " Text(477.0227324913892, 6.560689655172439, 'gini = 0.0\\nsamples = 2\\nvalue = [0, 2]'),\n",
       " Text(471.6413318025258, 164.01724137931035, 'X[1] <= 1.193\\ngini = 0.444\\nsamples = 33\\nvalue = [11, 22]'),\n",
       " Text(466.25993111366245, 150.89586206896553, 'X[0] <= -0.078\\ngini = 0.444\\nsamples = 6\\nvalue = [4, 2]'),\n",
       " Text(464.72238805970153, 137.7744827586207, 'gini = 0.0\\nsamples = 2\\nvalue = [2, 0]'),\n",
       " Text(467.7974741676234, 137.7744827586207, 'X[0] <= 0.177\\ngini = 0.5\\nsamples = 4\\nvalue = [2, 2]'),\n",
       " Text(466.25993111366245, 124.65310344827586, 'gini = 0.0\\nsamples = 2\\nvalue = [0, 2]'),\n",
       " Text(469.3350172215844, 124.65310344827586, 'gini = 0.0\\nsamples = 2\\nvalue = [2, 0]'),\n",
       " Text(477.0227324913892, 150.89586206896553, 'X[1] <= 1.409\\ngini = 0.384\\nsamples = 27\\nvalue = [7, 20]'),\n",
       " Text(475.4851894374283, 137.7744827586207, 'X[0] <= 0.213\\ngini = 0.355\\nsamples = 26\\nvalue = [6, 20]'),\n",
       " Text(472.41010332950634, 124.65310344827586, 'X[0] <= 0.177\\ngini = 0.444\\nsamples = 15\\nvalue = [5, 10]'),\n",
       " Text(470.87256027554537, 111.53172413793106, 'X[1] <= 1.279\\ngini = 0.408\\nsamples = 14\\nvalue = [4, 10]'),\n",
       " Text(469.3350172215844, 98.41034482758619, 'gini = 0.0\\nsamples = 6\\nvalue = [0, 6]'),\n",
       " Text(472.41010332950634, 98.41034482758619, 'X[1] <= 1.335\\ngini = 0.5\\nsamples = 8\\nvalue = [4, 4]'),\n",
       " Text(470.87256027554537, 85.28896551724137, 'gini = 0.0\\nsamples = 3\\nvalue = [3, 0]'),\n",
       " Text(473.9476463834673, 85.28896551724137, 'X[0] <= 0.114\\ngini = 0.32\\nsamples = 5\\nvalue = [1, 4]'),\n",
       " Text(472.41010332950634, 72.16758620689654, 'gini = 0.0\\nsamples = 3\\nvalue = [0, 3]'),\n",
       " Text(475.4851894374283, 72.16758620689654, 'X[1] <= 1.383\\ngini = 0.5\\nsamples = 2\\nvalue = [1, 1]'),\n",
       " Text(473.9476463834673, 59.04620689655172, 'gini = 0.0\\nsamples = 1\\nvalue = [1, 0]'),\n",
       " Text(477.0227324913892, 59.04620689655172, 'gini = 0.0\\nsamples = 1\\nvalue = [0, 1]'),\n",
       " Text(473.9476463834673, 111.53172413793106, 'gini = 0.0\\nsamples = 1\\nvalue = [1, 0]'),\n",
       " Text(478.5602755453502, 124.65310344827586, 'X[1] <= 1.387\\ngini = 0.165\\nsamples = 11\\nvalue = [1, 10]'),\n",
       " Text(477.0227324913892, 111.53172413793106, 'gini = 0.0\\nsamples = 6\\nvalue = [0, 6]'),\n",
       " Text(480.09781859931115, 111.53172413793106, 'X[0] <= 0.291\\ngini = 0.32\\nsamples = 5\\nvalue = [1, 4]'),\n",
       " Text(478.5602755453502, 98.41034482758619, 'gini = 0.0\\nsamples = 4\\nvalue = [0, 4]'),\n",
       " Text(481.6353616532721, 98.41034482758619, 'gini = 0.0\\nsamples = 1\\nvalue = [1, 0]'),\n",
       " Text(478.5602755453502, 137.7744827586207, 'gini = 0.0\\nsamples = 1\\nvalue = [1, 0]'),\n",
       " Text(490.4762342135477, 203.3813793103448, 'X[1] <= 0.377\\ngini = 0.482\\nsamples = 52\\nvalue = [21, 31]'),\n",
       " Text(488.9386911595867, 190.26, 'gini = 0.0\\nsamples = 7\\nvalue = [0, 7]'),\n",
       " Text(492.01377726750866, 190.26, 'X[1] <= 0.641\\ngini = 0.498\\nsamples = 45\\nvalue = [21, 24]'),\n",
       " Text(483.1729047072331, 177.13862068965517, 'X[0] <= 0.713\\ngini = 0.355\\nsamples = 13\\nvalue = [10, 3]'),\n",
       " Text(481.6353616532721, 164.01724137931035, 'X[1] <= 0.5\\ngini = 0.278\\nsamples = 12\\nvalue = [10, 2]'),\n",
       " Text(480.09781859931115, 150.89586206896553, 'gini = 0.0\\nsamples = 5\\nvalue = [5, 0]'),\n",
       " Text(483.1729047072331, 150.89586206896553, 'X[1] <= 0.537\\ngini = 0.408\\nsamples = 7\\nvalue = [5, 2]'),\n",
       " Text(481.6353616532721, 137.7744827586207, 'gini = 0.0\\nsamples = 1\\nvalue = [0, 1]'),\n",
       " Text(484.7104477611941, 137.7744827586207, 'X[0] <= 0.557\\ngini = 0.278\\nsamples = 6\\nvalue = [5, 1]'),\n",
       " Text(483.1729047072331, 124.65310344827586, 'gini = 0.0\\nsamples = 2\\nvalue = [2, 0]'),\n",
       " Text(486.247990815155, 124.65310344827586, 'X[1] <= 0.625\\ngini = 0.375\\nsamples = 4\\nvalue = [3, 1]'),\n",
       " Text(484.7104477611941, 111.53172413793106, 'gini = 0.444\\nsamples = 3\\nvalue = [2, 1]'),\n",
       " Text(487.78553386911597, 111.53172413793106, 'gini = 0.0\\nsamples = 1\\nvalue = [1, 0]'),\n",
       " Text(484.7104477611941, 164.01724137931035, 'gini = 0.0\\nsamples = 1\\nvalue = [0, 1]'),\n",
       " Text(500.85464982778416, 177.13862068965517, 'X[0] <= 0.458\\ngini = 0.451\\nsamples = 32\\nvalue = [11, 21]'),\n",
       " Text(495.4732491389208, 164.01724137931035, 'X[1] <= 1.304\\ngini = 0.444\\nsamples = 9\\nvalue = [6, 3]'),\n",
       " Text(492.3981630309989, 150.89586206896553, 'X[1] <= 0.903\\ngini = 0.278\\nsamples = 6\\nvalue = [5, 1]'),\n",
       " Text(490.8606199770379, 137.7744827586207, 'X[0] <= 0.421\\ngini = 0.5\\nsamples = 2\\nvalue = [1, 1]'),\n",
       " Text(489.32307692307694, 124.65310344827586, 'gini = 0.0\\nsamples = 1\\nvalue = [0, 1]'),\n",
       " Text(492.3981630309989, 124.65310344827586, 'gini = 0.0\\nsamples = 1\\nvalue = [1, 0]'),\n",
       " Text(493.93570608495986, 137.7744827586207, 'gini = 0.0\\nsamples = 4\\nvalue = [4, 0]'),\n",
       " Text(498.5483352468427, 150.89586206896553, 'X[1] <= 1.392\\ngini = 0.444\\nsamples = 3\\nvalue = [1, 2]'),\n",
       " Text(497.01079219288175, 137.7744827586207, 'gini = 0.0\\nsamples = 2\\nvalue = [0, 2]'),\n",
       " Text(500.0858783008037, 137.7744827586207, 'gini = 0.0\\nsamples = 1\\nvalue = [1, 0]'),\n",
       " Text(506.23605051664754, 164.01724137931035, 'X[0] <= 0.734\\ngini = 0.34\\nsamples = 23\\nvalue = [5, 18]'),\n",
       " Text(504.69850746268656, 150.89586206896553, 'X[0] <= 0.614\\ngini = 0.245\\nsamples = 21\\nvalue = [3, 18]'),\n",
       " Text(503.16096440872565, 137.7744827586207, 'gini = 0.0\\nsamples = 8\\nvalue = [0, 8]'),\n",
       " Text(506.23605051664754, 137.7744827586207, 'X[0] <= 0.713\\ngini = 0.355\\nsamples = 13\\nvalue = [3, 10]'),\n",
       " Text(504.69850746268656, 124.65310344827586, 'X[1] <= 1.102\\ngini = 0.48\\nsamples = 5\\nvalue = [3, 2]'),\n",
       " Text(503.16096440872565, 111.53172413793106, 'gini = 0.0\\nsamples = 3\\nvalue = [3, 0]'),\n",
       " Text(506.23605051664754, 111.53172413793106, 'gini = 0.0\\nsamples = 2\\nvalue = [0, 2]'),\n",
       " Text(507.7735935706085, 124.65310344827586, 'gini = 0.0\\nsamples = 8\\nvalue = [0, 8]'),\n",
       " Text(507.7735935706085, 150.89586206896553, 'gini = 0.0\\nsamples = 2\\nvalue = [2, 0]'),\n",
       " Text(470.0557405281286, 216.50275862068966, 'gini = 0.0\\nsamples = 19\\nvalue = [0, 19]'),\n",
       " Text(493.5513203214696, 295.2310344827586, 'X[0] <= 0.848\\ngini = 0.459\\nsamples = 28\\nvalue = [18, 10]'),\n",
       " Text(492.01377726750866, 282.1096551724138, 'gini = 0.0\\nsamples = 8\\nvalue = [8, 0]'),\n",
       " Text(495.08886337543055, 282.1096551724138, 'X[1] <= 0.254\\ngini = 0.5\\nsamples = 20\\nvalue = [10, 10]'),\n",
       " Text(493.5513203214696, 268.988275862069, 'gini = 0.0\\nsamples = 3\\nvalue = [0, 3]'),\n",
       " Text(496.6264064293915, 268.988275862069, 'X[1] <= 0.436\\ngini = 0.484\\nsamples = 17\\nvalue = [10, 7]'),\n",
       " Text(495.08886337543055, 255.86689655172412, 'gini = 0.0\\nsamples = 4\\nvalue = [4, 0]'),\n",
       " Text(498.1639494833525, 255.86689655172412, 'X[1] <= 1.358\\ngini = 0.497\\nsamples = 13\\nvalue = [6, 7]'),\n",
       " Text(496.6264064293915, 242.7455172413793, 'X[1] <= 0.937\\ngini = 0.463\\nsamples = 11\\nvalue = [4, 7]'),\n",
       " Text(493.5513203214696, 229.62413793103448, 'X[1] <= 0.481\\ngini = 0.48\\nsamples = 5\\nvalue = [3, 2]'),\n",
       " Text(492.01377726750866, 216.50275862068966, 'gini = 0.0\\nsamples = 1\\nvalue = [0, 1]'),\n",
       " Text(495.08886337543055, 216.50275862068966, 'X[1] <= 0.669\\ngini = 0.375\\nsamples = 4\\nvalue = [3, 1]'),\n",
       " Text(493.5513203214696, 203.3813793103448, 'gini = 0.0\\nsamples = 2\\nvalue = [2, 0]'),\n",
       " Text(496.6264064293915, 203.3813793103448, 'X[1] <= 0.744\\ngini = 0.5\\nsamples = 2\\nvalue = [1, 1]'),\n",
       " Text(495.08886337543055, 190.26, 'gini = 0.0\\nsamples = 1\\nvalue = [0, 1]'),\n",
       " Text(498.1639494833525, 190.26, 'gini = 0.0\\nsamples = 1\\nvalue = [1, 0]'),\n",
       " Text(499.70149253731347, 229.62413793103448, 'X[1] <= 1.238\\ngini = 0.278\\nsamples = 6\\nvalue = [1, 5]'),\n",
       " Text(498.1639494833525, 216.50275862068966, 'gini = 0.0\\nsamples = 4\\nvalue = [0, 4]'),\n",
       " Text(501.23903559127444, 216.50275862068966, 'X[1] <= 1.322\\ngini = 0.5\\nsamples = 2\\nvalue = [1, 1]'),\n",
       " Text(499.70149253731347, 203.3813793103448, 'gini = 0.0\\nsamples = 1\\nvalue = [1, 0]'),\n",
       " Text(502.77657864523536, 203.3813793103448, 'gini = 0.0\\nsamples = 1\\nvalue = [0, 1]'),\n",
       " Text(499.70149253731347, 242.7455172413793, 'gini = 0.0\\nsamples = 2\\nvalue = [2, 0]'),\n",
       " Text(532.1190262629162, 308.35241379310344, 'X[0] <= 1.108\\ngini = 0.268\\nsamples = 313\\nvalue = [50, 263]'),\n",
       " Text(514.9928386911596, 295.2310344827586, 'X[0] <= 0.978\\ngini = 0.04\\nsamples = 49\\nvalue = [1, 48]'),\n",
       " Text(513.4552956371987, 282.1096551724138, 'X[0] <= 0.962\\ngini = 0.32\\nsamples = 5\\nvalue = [1, 4]'),\n",
       " Text(511.9177525832377, 268.988275862069, 'gini = 0.0\\nsamples = 4\\nvalue = [0, 4]'),\n",
       " Text(514.9928386911596, 268.988275862069, 'gini = 0.0\\nsamples = 1\\nvalue = [1, 0]'),\n",
       " Text(516.5303817451206, 282.1096551724138, 'gini = 0.0\\nsamples = 44\\nvalue = [0, 44]'),\n",
       " Text(549.2452138346728, 295.2310344827586, 'X[0] <= 1.145\\ngini = 0.302\\nsamples = 264\\nvalue = [49, 215]'),\n",
       " Text(547.7076707807119, 282.1096551724138, 'gini = 0.0\\nsamples = 6\\nvalue = [6, 0]'),\n",
       " Text(550.7827568886338, 282.1096551724138, 'X[1] <= 1.278\\ngini = 0.278\\nsamples = 258\\nvalue = [43, 215]'),\n",
       " Text(518.0679247990815, 268.988275862069, 'X[0] <= 1.311\\ngini = 0.254\\nsamples = 234\\nvalue = [35, 199]'),\n",
       " Text(505.8516647531573, 255.86689655172412, 'X[0] <= 1.243\\ngini = 0.413\\nsamples = 24\\nvalue = [7, 17]'),\n",
       " Text(504.31412169919633, 242.7455172413793, 'gini = 0.0\\nsamples = 15\\nvalue = [0, 15]'),\n",
       " Text(507.3892078071183, 242.7455172413793, 'X[1] <= 1.193\\ngini = 0.346\\nsamples = 9\\nvalue = [7, 2]'),\n",
       " Text(505.8516647531573, 229.62413793103448, 'X[1] <= 0.536\\ngini = 0.219\\nsamples = 8\\nvalue = [7, 1]'),\n",
       " Text(504.31412169919633, 216.50275862068966, 'gini = 0.0\\nsamples = 5\\nvalue = [5, 0]'),\n",
       " Text(507.3892078071183, 216.50275862068966, 'X[0] <= 1.264\\ngini = 0.444\\nsamples = 3\\nvalue = [2, 1]'),\n",
       " Text(505.8516647531573, 203.3813793103448, 'gini = 0.0\\nsamples = 1\\nvalue = [0, 1]'),\n",
       " Text(508.92675086107926, 203.3813793103448, 'gini = 0.0\\nsamples = 2\\nvalue = [2, 0]'),\n",
       " Text(508.92675086107926, 229.62413793103448, 'gini = 0.0\\nsamples = 1\\nvalue = [0, 1]'),\n",
       " Text(530.2841848450057, 255.86689655172412, 'X[0] <= 1.446\\ngini = 0.231\\nsamples = 210\\nvalue = [28, 182]'),\n",
       " Text(516.614466130884, 242.7455172413793, 'X[1] <= 0.721\\ngini = 0.065\\nsamples = 59\\nvalue = [2, 57]'),\n",
       " Text(515.0769230769231, 229.62413793103448, 'X[1] <= 0.65\\ngini = 0.117\\nsamples = 32\\nvalue = [2, 30]'),\n",
       " Text(513.5393800229622, 216.50275862068966, 'X[1] <= 0.133\\ngini = 0.062\\nsamples = 31\\nvalue = [1, 30]'),\n",
       " Text(512.0018369690011, 203.3813793103448, 'gini = 0.0\\nsamples = 21\\nvalue = [0, 21]'),\n",
       " Text(515.0769230769231, 203.3813793103448, 'X[1] <= 0.152\\ngini = 0.18\\nsamples = 10\\nvalue = [1, 9]'),\n",
       " Text(513.5393800229622, 190.26, 'gini = 0.0\\nsamples = 1\\nvalue = [1, 0]'),\n",
       " Text(516.614466130884, 190.26, 'gini = 0.0\\nsamples = 9\\nvalue = [0, 9]'),\n",
       " Text(516.614466130884, 216.50275862068966, 'gini = 0.0\\nsamples = 1\\nvalue = [1, 0]'),\n",
       " Text(518.152009184845, 229.62413793103448, 'gini = 0.0\\nsamples = 27\\nvalue = [0, 27]'),\n",
       " Text(543.9539035591274, 242.7455172413793, 'X[0] <= 1.55\\ngini = 0.285\\nsamples = 151\\nvalue = [26, 125]'),\n",
       " Text(533.911825487945, 229.62413793103448, 'X[0] <= 1.514\\ngini = 0.427\\nsamples = 42\\nvalue = [13, 29]'),\n",
       " Text(528.1460390355913, 216.50275862068966, 'X[1] <= 0.902\\ngini = 0.388\\nsamples = 38\\nvalue = [10, 28]'),\n",
       " Text(521.227095292767, 203.3813793103448, 'X[1] <= 0.029\\ngini = 0.302\\nsamples = 27\\nvalue = [5, 22]'),\n",
       " Text(519.689552238806, 190.26, 'gini = 0.0\\nsamples = 6\\nvalue = [0, 6]'),\n",
       " Text(522.7646383467279, 190.26, 'X[1] <= 0.182\\ngini = 0.363\\nsamples = 21\\nvalue = [5, 16]'),\n",
       " Text(519.689552238806, 177.13862068965517, 'X[1] <= 0.105\\ngini = 0.375\\nsamples = 4\\nvalue = [3, 1]'),\n",
       " Text(518.152009184845, 164.01724137931035, 'gini = 0.0\\nsamples = 2\\nvalue = [2, 0]'),\n",
       " Text(521.227095292767, 164.01724137931035, 'X[1] <= 0.135\\ngini = 0.5\\nsamples = 2\\nvalue = [1, 1]'),\n",
       " Text(519.689552238806, 150.89586206896553, 'gini = 0.0\\nsamples = 1\\nvalue = [0, 1]'),\n",
       " Text(522.7646383467279, 150.89586206896553, 'gini = 0.0\\nsamples = 1\\nvalue = [1, 0]'),\n",
       " Text(525.8397244546499, 177.13862068965517, 'X[1] <= 0.573\\ngini = 0.208\\nsamples = 17\\nvalue = [2, 15]'),\n",
       " Text(524.3021814006889, 164.01724137931035, 'gini = 0.0\\nsamples = 10\\nvalue = [0, 10]'),\n",
       " Text(527.3772675086108, 164.01724137931035, 'X[1] <= 0.808\\ngini = 0.408\\nsamples = 7\\nvalue = [2, 5]'),\n",
       " Text(525.8397244546499, 150.89586206896553, 'X[1] <= 0.625\\ngini = 0.444\\nsamples = 3\\nvalue = [2, 1]'),\n",
       " Text(524.3021814006889, 137.7744827586207, 'gini = 0.0\\nsamples = 1\\nvalue = [1, 0]'),\n",
       " Text(527.3772675086108, 137.7744827586207, 'X[1] <= 0.734\\ngini = 0.5\\nsamples = 2\\nvalue = [1, 1]'),\n",
       " Text(525.8397244546499, 124.65310344827586, 'gini = 0.0\\nsamples = 1\\nvalue = [0, 1]'),\n",
       " Text(528.9148105625718, 124.65310344827586, 'gini = 0.0\\nsamples = 1\\nvalue = [1, 0]'),\n",
       " Text(528.9148105625718, 150.89586206896553, 'gini = 0.0\\nsamples = 4\\nvalue = [0, 4]'),\n",
       " Text(535.0649827784156, 203.3813793103448, 'X[1] <= 1.218\\ngini = 0.496\\nsamples = 11\\nvalue = [5, 6]'),\n",
       " Text(533.5274397244547, 190.26, 'X[1] <= 1.174\\ngini = 0.469\\nsamples = 8\\nvalue = [5, 3]'),\n",
       " Text(531.9898966704937, 177.13862068965517, 'X[1] <= 0.96\\ngini = 0.48\\nsamples = 5\\nvalue = [2, 3]'),\n",
       " Text(530.4523536165327, 164.01724137931035, 'gini = 0.0\\nsamples = 2\\nvalue = [2, 0]'),\n",
       " Text(533.5274397244547, 164.01724137931035, 'gini = 0.0\\nsamples = 3\\nvalue = [0, 3]'),\n",
       " Text(535.0649827784156, 177.13862068965517, 'gini = 0.0\\nsamples = 3\\nvalue = [3, 0]'),\n",
       " Text(536.6025258323766, 190.26, 'gini = 0.0\\nsamples = 3\\nvalue = [0, 3]'),\n",
       " Text(539.6776119402986, 216.50275862068966, 'X[1] <= 0.305\\ngini = 0.375\\nsamples = 4\\nvalue = [3, 1]'),\n",
       " Text(538.1400688863375, 203.3813793103448, 'gini = 0.5\\nsamples = 2\\nvalue = [1, 1]'),\n",
       " Text(541.2151549942595, 203.3813793103448, 'gini = 0.0\\nsamples = 2\\nvalue = [2, 0]'),\n",
       " Text(553.99598163031, 229.62413793103448, 'X[0] <= 1.566\\ngini = 0.21\\nsamples = 109\\nvalue = [13, 96]'),\n",
       " Text(545.8277841561423, 216.50275862068966, 'X[1] <= 0.194\\ngini = 0.033\\nsamples = 59\\nvalue = [1, 58]'),\n",
       " Text(544.2902411021814, 203.3813793103448, 'X[1] <= 0.168\\ngini = 0.091\\nsamples = 21\\nvalue = [1, 20]'),\n",
       " Text(542.7526980482205, 190.26, 'gini = 0.0\\nsamples = 20\\nvalue = [0, 20]'),\n",
       " Text(545.8277841561423, 190.26, 'gini = 0.0\\nsamples = 1\\nvalue = [1, 0]'),\n",
       " Text(547.3653272101034, 203.3813793103448, 'gini = 0.0\\nsamples = 38\\nvalue = [0, 38]'),\n",
       " Text(562.1641791044776, 216.50275862068966, 'X[0] <= 1.582\\ngini = 0.365\\nsamples = 50\\nvalue = [12, 38]'),\n",
       " Text(553.8998851894374, 203.3813793103448, 'X[1] <= 0.151\\ngini = 0.499\\nsamples = 19\\nvalue = [9, 10]'),\n",
       " Text(548.9028702640643, 190.26, 'X[1] <= -0.127\\ngini = 0.444\\nsamples = 6\\nvalue = [4, 2]'),\n",
       " Text(547.3653272101034, 177.13862068965517, 'X[1] <= -0.242\\ngini = 0.444\\nsamples = 3\\nvalue = [1, 2]'),\n",
       " Text(545.8277841561423, 164.01724137931035, 'gini = 0.0\\nsamples = 1\\nvalue = [1, 0]'),\n",
       " Text(548.9028702640643, 164.01724137931035, 'gini = 0.0\\nsamples = 2\\nvalue = [0, 2]'),\n",
       " Text(550.4404133180253, 177.13862068965517, 'gini = 0.0\\nsamples = 3\\nvalue = [3, 0]'),\n",
       " Text(558.8969001148106, 190.26, 'X[1] <= 0.809\\ngini = 0.473\\nsamples = 13\\nvalue = [5, 8]'),\n",
       " Text(555.0530424799082, 177.13862068965517, 'X[1] <= 0.21\\ngini = 0.375\\nsamples = 8\\nvalue = [2, 6]'),\n",
       " Text(551.9779563719862, 164.01724137931035, 'X[1] <= 0.183\\ngini = 0.5\\nsamples = 2\\nvalue = [1, 1]'),\n",
       " Text(550.4404133180253, 150.89586206896553, 'gini = 0.0\\nsamples = 1\\nvalue = [0, 1]'),\n",
       " Text(553.5154994259472, 150.89586206896553, 'gini = 0.0\\nsamples = 1\\nvalue = [1, 0]'),\n",
       " Text(558.1281285878301, 164.01724137931035, 'X[1] <= 0.406\\ngini = 0.278\\nsamples = 6\\nvalue = [1, 5]'),\n",
       " Text(556.5905855338691, 150.89586206896553, 'gini = 0.0\\nsamples = 3\\nvalue = [0, 3]'),\n",
       " Text(559.665671641791, 150.89586206896553, 'X[1] <= 0.599\\ngini = 0.444\\nsamples = 3\\nvalue = [1, 2]'),\n",
       " Text(558.1281285878301, 137.7744827586207, 'gini = 0.5\\nsamples = 2\\nvalue = [1, 1]'),\n",
       " Text(561.2032146957521, 137.7744827586207, 'gini = 0.0\\nsamples = 1\\nvalue = [0, 1]'),\n",
       " Text(562.740757749713, 177.13862068965517, 'X[1] <= 0.915\\ngini = 0.48\\nsamples = 5\\nvalue = [3, 2]'),\n",
       " Text(561.2032146957521, 164.01724137931035, 'gini = 0.0\\nsamples = 2\\nvalue = [2, 0]'),\n",
       " Text(564.2783008036739, 164.01724137931035, 'X[1] <= 0.946\\ngini = 0.444\\nsamples = 3\\nvalue = [1, 2]'),\n",
       " Text(562.740757749713, 150.89586206896553, 'gini = 0.5\\nsamples = 2\\nvalue = [1, 1]'),\n",
       " Text(565.815843857635, 150.89586206896553, 'gini = 0.0\\nsamples = 1\\nvalue = [0, 1]'),\n",
       " Text(570.4284730195178, 203.3813793103448, 'X[0] <= 1.66\\ngini = 0.175\\nsamples = 31\\nvalue = [3, 28]'),\n",
       " Text(567.3533869115959, 190.26, 'X[0] <= 1.649\\ngini = 0.298\\nsamples = 11\\nvalue = [2, 9]'),\n",
       " Text(565.815843857635, 177.13862068965517, 'gini = 0.0\\nsamples = 9\\nvalue = [0, 9]'),\n",
       " Text(568.8909299655569, 177.13862068965517, 'gini = 0.0\\nsamples = 2\\nvalue = [2, 0]'),\n",
       " Text(573.5035591274398, 190.26, 'X[0] <= 1.67\\ngini = 0.095\\nsamples = 20\\nvalue = [1, 19]'),\n",
       " Text(571.9660160734787, 177.13862068965517, 'gini = 0.0\\nsamples = 15\\nvalue = [0, 15]'),\n",
       " Text(575.0411021814007, 177.13862068965517, 'X[0] <= 1.686\\ngini = 0.32\\nsamples = 5\\nvalue = [1, 4]'),\n",
       " Text(573.5035591274398, 164.01724137931035, 'gini = 0.0\\nsamples = 1\\nvalue = [1, 0]'),\n",
       " Text(576.5786452353617, 164.01724137931035, 'gini = 0.0\\nsamples = 4\\nvalue = [0, 4]'),\n",
       " Text(583.4975889781861, 268.988275862069, 'X[1] <= 1.287\\ngini = 0.444\\nsamples = 24\\nvalue = [8, 16]'),\n",
       " Text(581.960045924225, 255.86689655172412, 'gini = 0.0\\nsamples = 1\\nvalue = [1, 0]'),\n",
       " Text(585.035132032147, 255.86689655172412, 'X[1] <= 1.425\\ngini = 0.423\\nsamples = 23\\nvalue = [7, 16]'),\n",
       " Text(583.4975889781861, 242.7455172413793, 'X[1] <= 1.392\\ngini = 0.455\\nsamples = 20\\nvalue = [7, 13]'),\n",
       " Text(579.6537313432837, 229.62413793103448, 'X[0] <= 1.347\\ngini = 0.355\\nsamples = 13\\nvalue = [3, 10]'),\n",
       " Text(578.1161882893226, 216.50275862068966, 'gini = 0.0\\nsamples = 1\\nvalue = [1, 0]'),\n",
       " Text(581.1912743972446, 216.50275862068966, 'X[1] <= 1.297\\ngini = 0.278\\nsamples = 12\\nvalue = [2, 10]'),\n",
       " Text(578.1161882893226, 203.3813793103448, 'X[0] <= 1.561\\ngini = 0.5\\nsamples = 2\\nvalue = [1, 1]'),\n",
       " Text(576.5786452353617, 190.26, 'gini = 0.0\\nsamples = 1\\nvalue = [1, 0]'),\n",
       " Text(579.6537313432837, 190.26, 'gini = 0.0\\nsamples = 1\\nvalue = [0, 1]'),\n",
       " Text(584.2663605051665, 203.3813793103448, 'X[1] <= 1.352\\ngini = 0.18\\nsamples = 10\\nvalue = [1, 9]'),\n",
       " Text(582.7288174512055, 190.26, 'gini = 0.0\\nsamples = 5\\nvalue = [0, 5]'),\n",
       " Text(585.8039035591274, 190.26, 'X[1] <= 1.377\\ngini = 0.32\\nsamples = 5\\nvalue = [1, 4]'),\n",
       " Text(584.2663605051665, 177.13862068965517, 'gini = 0.0\\nsamples = 1\\nvalue = [1, 0]'),\n",
       " Text(587.3414466130885, 177.13862068965517, 'gini = 0.0\\nsamples = 4\\nvalue = [0, 4]'),\n",
       " Text(587.3414466130885, 229.62413793103448, 'X[0] <= 1.379\\ngini = 0.49\\nsamples = 7\\nvalue = [4, 3]'),\n",
       " Text(585.8039035591274, 216.50275862068966, 'gini = 0.0\\nsamples = 2\\nvalue = [0, 2]'),\n",
       " Text(588.8789896670494, 216.50275862068966, 'X[0] <= 1.566\\ngini = 0.32\\nsamples = 5\\nvalue = [4, 1]'),\n",
       " Text(587.3414466130885, 203.3813793103448, 'gini = 0.0\\nsamples = 3\\nvalue = [3, 0]'),\n",
       " Text(590.4165327210103, 203.3813793103448, 'gini = 0.5\\nsamples = 2\\nvalue = [1, 1]'),\n",
       " Text(586.5726750861079, 242.7455172413793, 'gini = 0.0\\nsamples = 3\\nvalue = [0, 3]'),\n",
       " Text(593.8760045924225, 334.5951724137931, 'X[1] <= 1.472\\ngini = 0.49\\nsamples = 70\\nvalue = [30, 40]'),\n",
       " Text(589.6477611940298, 321.47379310344826, 'X[1] <= 1.467\\ngini = 0.278\\nsamples = 30\\nvalue = [25, 5]'),\n",
       " Text(588.1102181400689, 308.35241379310344, 'X[1] <= 1.46\\ngini = 0.459\\nsamples = 14\\nvalue = [9, 5]'),\n",
       " Text(586.5726750861079, 295.2310344827586, 'X[0] <= -1.264\\ngini = 0.298\\nsamples = 11\\nvalue = [9, 2]'),\n",
       " Text(585.035132032147, 282.1096551724138, 'gini = 0.0\\nsamples = 1\\nvalue = [0, 1]'),\n",
       " Text(588.1102181400689, 282.1096551724138, 'X[1] <= 1.453\\ngini = 0.18\\nsamples = 10\\nvalue = [9, 1]'),\n",
       " Text(586.5726750861079, 268.988275862069, 'gini = 0.0\\nsamples = 8\\nvalue = [8, 0]'),\n",
       " Text(589.6477611940298, 268.988275862069, 'X[1] <= 1.458\\ngini = 0.5\\nsamples = 2\\nvalue = [1, 1]'),\n",
       " Text(588.1102181400689, 255.86689655172412, 'gini = 0.0\\nsamples = 1\\nvalue = [0, 1]'),\n",
       " Text(591.1853042479909, 255.86689655172412, 'gini = 0.0\\nsamples = 1\\nvalue = [1, 0]'),\n",
       " Text(589.6477611940298, 295.2310344827586, 'gini = 0.0\\nsamples = 3\\nvalue = [0, 3]'),\n",
       " Text(591.1853042479909, 308.35241379310344, 'gini = 0.0\\nsamples = 16\\nvalue = [16, 0]'),\n",
       " Text(598.1042479908152, 321.47379310344826, 'X[1] <= 1.506\\ngini = 0.219\\nsamples = 40\\nvalue = [5, 35]'),\n",
       " Text(594.2603903559128, 308.35241379310344, 'X[0] <= 1.566\\ngini = 0.083\\nsamples = 23\\nvalue = [1, 22]'),\n",
       " Text(592.7228473019518, 295.2310344827586, 'gini = 0.0\\nsamples = 21\\nvalue = [0, 21]'),\n",
       " Text(595.7979334098737, 295.2310344827586, 'gini = 0.5\\nsamples = 2\\nvalue = [1, 1]'),\n",
       " Text(601.9481056257176, 308.35241379310344, 'X[1] <= 1.509\\ngini = 0.36\\nsamples = 17\\nvalue = [4, 13]'),\n",
       " Text(598.8730195177957, 295.2310344827586, 'X[0] <= 1.124\\ngini = 0.444\\nsamples = 3\\nvalue = [2, 1]'),\n",
       " Text(597.3354764638347, 282.1096551724138, 'gini = 0.0\\nsamples = 2\\nvalue = [2, 0]'),\n",
       " Text(600.4105625717566, 282.1096551724138, 'gini = 0.0\\nsamples = 1\\nvalue = [0, 1]'),\n",
       " Text(605.0231917336395, 295.2310344827586, 'X[1] <= 1.518\\ngini = 0.245\\nsamples = 14\\nvalue = [2, 12]'),\n",
       " Text(603.4856486796785, 282.1096551724138, 'gini = 0.0\\nsamples = 5\\nvalue = [0, 5]'),\n",
       " Text(606.5607347876005, 282.1096551724138, 'X[1] <= 1.523\\ngini = 0.346\\nsamples = 9\\nvalue = [2, 7]'),\n",
       " Text(605.0231917336395, 268.988275862069, 'gini = 0.0\\nsamples = 1\\nvalue = [1, 0]'),\n",
       " Text(608.0982778415614, 268.988275862069, 'X[0] <= -0.203\\ngini = 0.219\\nsamples = 8\\nvalue = [1, 7]'),\n",
       " Text(606.5607347876005, 255.86689655172412, 'gini = 0.0\\nsamples = 5\\nvalue = [0, 5]'),\n",
       " Text(609.6358208955224, 255.86689655172412, 'X[1] <= 1.529\\ngini = 0.444\\nsamples = 3\\nvalue = [1, 2]'),\n",
       " Text(608.0982778415614, 242.7455172413793, 'gini = 0.0\\nsamples = 1\\nvalue = [1, 0]'),\n",
       " Text(611.1733639494834, 242.7455172413793, 'gini = 0.0\\nsamples = 2\\nvalue = [0, 2]'),\n",
       " Text(643.4617680826636, 360.8379310344827, 'X[1] <= 1.599\\ngini = 0.214\\nsamples = 451\\nvalue = [396, 55]'),\n",
       " Text(628.4707233065442, 347.7165517241379, 'X[1] <= 1.597\\ngini = 0.105\\nsamples = 395\\nvalue = [373, 22]'),\n",
       " Text(621.1673938002297, 334.5951724137931, 'X[1] <= 1.566\\ngini = 0.424\\nsamples = 59\\nvalue = [41, 18]'),\n",
       " Text(615.7859931113662, 321.47379310344826, 'X[1] <= 1.556\\ngini = 0.236\\nsamples = 44\\nvalue = [38, 6]'),\n",
       " Text(612.7109070034444, 308.35241379310344, 'X[0] <= 0.952\\ngini = 0.444\\nsamples = 12\\nvalue = [8, 4]'),\n",
       " Text(611.1733639494834, 295.2310344827586, 'X[0] <= -0.52\\ngini = 0.5\\nsamples = 8\\nvalue = [4, 4]'),\n",
       " Text(609.6358208955224, 282.1096551724138, 'gini = 0.0\\nsamples = 3\\nvalue = [3, 0]'),\n",
       " Text(612.7109070034444, 282.1096551724138, 'X[1] <= 1.55\\ngini = 0.32\\nsamples = 5\\nvalue = [1, 4]'),\n",
       " Text(611.1733639494834, 268.988275862069, 'gini = 0.0\\nsamples = 3\\nvalue = [0, 3]'),\n",
       " Text(614.2484500574053, 268.988275862069, 'X[1] <= 1.553\\ngini = 0.5\\nsamples = 2\\nvalue = [1, 1]'),\n",
       " Text(612.7109070034444, 255.86689655172412, 'gini = 0.0\\nsamples = 1\\nvalue = [1, 0]'),\n",
       " Text(615.7859931113662, 255.86689655172412, 'gini = 0.0\\nsamples = 1\\nvalue = [0, 1]'),\n",
       " Text(614.2484500574053, 295.2310344827586, 'gini = 0.0\\nsamples = 4\\nvalue = [4, 0]'),\n",
       " Text(618.8610792192882, 308.35241379310344, 'X[0] <= -0.749\\ngini = 0.117\\nsamples = 32\\nvalue = [30, 2]'),\n",
       " Text(617.3235361653273, 295.2310344827586, 'gini = 0.0\\nsamples = 14\\nvalue = [14, 0]'),\n",
       " Text(620.3986222732492, 295.2310344827586, 'X[0] <= -0.551\\ngini = 0.198\\nsamples = 18\\nvalue = [16, 2]'),\n",
       " Text(618.8610792192882, 282.1096551724138, 'gini = 0.0\\nsamples = 1\\nvalue = [0, 1]'),\n",
       " Text(621.9361653272101, 282.1096551724138, 'X[1] <= 1.563\\ngini = 0.111\\nsamples = 17\\nvalue = [16, 1]'),\n",
       " Text(620.3986222732492, 268.988275862069, 'X[0] <= 0.91\\ngini = 0.375\\nsamples = 4\\nvalue = [3, 1]'),\n",
       " Text(618.8610792192882, 255.86689655172412, 'X[1] <= 1.559\\ngini = 0.5\\nsamples = 2\\nvalue = [1, 1]'),\n",
       " ...]"
      ]
     },
     "execution_count": 31,
     "metadata": {},
     "output_type": "execute_result"
    },
    {
     "data": {
      "image/png": "[encoded data removed]",
      "text/plain": [
       "<Figure size 864x504 with 1 Axes>"
      ]
     },
     "metadata": {},
     "output_type": "display_data"
    }
   ],
   "source": [
    "from sklearn import tree\n",
    "plt.figure(figsize=(12,7))\n",
    "tree.plot_tree(ct, filled=True, fontsize=12)"
   ]
  },
  {
   "cell_type": "code",
   "execution_count": 32,
   "id": "5db00114",
   "metadata": {},
   "outputs": [],
   "source": [
    "from sklearn.ensemble import RandomForestClassifier\n",
    "from sklearn.metrics import mean_absolute_error"
   ]
  },
  {
   "cell_type": "code",
   "execution_count": 33,
   "id": "9e0588ef",
   "metadata": {},
   "outputs": [
    {
     "name": "stderr",
     "output_type": "stream",
     "text": [
      "/var/folders/j1/dtchj8_j3vvdkl3k52_qz2ym0000gn/T/ipykernel_26780/716668125.py:2: DataConversionWarning: A column-vector y was passed when a 1d array was expected. Please change the shape of y to (n_samples,), for example using ravel().\n",
      "  clf.fit(X_train, Y_train)\n"
     ]
    },
    {
     "data": {
      "text/plain": [
       "RandomForestClassifier()"
      ]
     },
     "execution_count": 33,
     "metadata": {},
     "output_type": "execute_result"
    }
   ],
   "source": [
    "clf=RandomForestClassifier(n_estimators=100)\n",
    "clf.fit(X_train, Y_train)"
   ]
  },
  {
   "cell_type": "code",
   "execution_count": 34,
   "id": "6ec63093",
   "metadata": {},
   "outputs": [
    {
     "name": "stdout",
     "output_type": "stream",
     "text": [
      "[1 1 1 ... 1 0 1]\n",
      "MAE: 0.134\n"
     ]
    }
   ],
   "source": [
    "Yhat = clf.predict(X_test)\n",
    "print (Yhat)\n",
    "# evaluate predictions\n",
    "mae = mean_absolute_error(Y_test, Yhat)\n",
    "print('MAE: %.3f' % mae)"
   ]
  },
  {
   "cell_type": "code",
   "execution_count": 35,
   "id": "7af9a595",
   "metadata": {},
   "outputs": [
    {
     "data": {
      "text/plain": [
       "0.8521560574948666"
      ]
     },
     "execution_count": 35,
     "metadata": {},
     "output_type": "execute_result"
    }
   ],
   "source": [
    "accuracy_score(Y_test, Y_pred)"
   ]
  },
  {
   "cell_type": "code",
   "execution_count": 36,
   "id": "007cd2b5",
   "metadata": {},
   "outputs": [
    {
     "data": {
      "text/plain": [
       "source    0.659345\n",
       "author    0.340655\n",
       "dtype: float64"
      ]
     },
     "execution_count": 36,
     "metadata": {},
     "output_type": "execute_result"
    }
   ],
   "source": [
    "import pandas as pd\n",
    "feature_imp = pd.Series(clf.feature_importances_,index =['author','source']).sort_values(ascending=False)\n",
    "feature_imp"
   ]
  },
  {
   "cell_type": "code",
   "execution_count": 37,
   "id": "fc0483e9",
   "metadata": {},
   "outputs": [
    {
     "data": {
      "text/plain": [
       "<AxesSubplot:>"
      ]
     },
     "execution_count": 37,
     "metadata": {},
     "output_type": "execute_result"
    },
    {
     "data": {
      "text/plain": [
       "Text(0.5, 0, 'Feature Importance Score')"
      ]
     },
     "execution_count": 37,
     "metadata": {},
     "output_type": "execute_result"
    },
    {
     "data": {
      "text/plain": [
       "Text(0, 0.5, 'Features')"
      ]
     },
     "execution_count": 37,
     "metadata": {},
     "output_type": "execute_result"
    },
    {
     "data": {
      "text/plain": [
       "Text(0.5, 1.0, 'Visualizing Important Features')"
      ]
     },
     "execution_count": 37,
     "metadata": {},
     "output_type": "execute_result"
    },
    {
     "name": "stderr",
     "output_type": "stream",
     "text": [
      "No handles with labels found to put in legend.\n"
     ]
    },
    {
     "data": {
      "text/plain": [
       "<matplotlib.legend.Legend at 0x7fca5bdc5b80>"
      ]
     },
     "execution_count": 37,
     "metadata": {},
     "output_type": "execute_result"
    },
    {
     "data": {
      "image/png": "[encoded data removed]",
      "text/plain": [
       "<Figure size 432x288 with 1 Axes>"
      ]
     },
     "metadata": {
      "needs_background": "light"
     },
     "output_type": "display_data"
    }
   ],
   "source": [
    "import matplotlib.pyplot as plt\n",
    "import seaborn as sns\n",
    "%matplotlib inline\n",
    "# Creating a bar plot\n",
    "sns.barplot(x=feature_imp, y=feature_imp.index)\n",
    "# Add labels to your graph\n",
    "plt.xlabel('Feature Importance Score')\n",
    "plt.ylabel('Features')\n",
    "plt.title(\"Visualizing Important Features\")\n",
    "plt.legend()\n",
    "plt.show()"
   ]
  },
  {
   "cell_type": "code",
   "execution_count": null,
   "id": "909e437c",
   "metadata": {},
   "outputs": [],
   "source": []
  }
 ],
 "metadata": {
  "kernelspec": {
   "display_name": "Python 3 (ipykernel)",
   "language": "python",
   "name": "python3"
  },
  "language_info": {
   "codemirror_mode": {
    "name": "ipython",
    "version": 3
   },
   "file_extension": ".py",
   "mimetype": "text/x-python",
   "name": "python",
   "nbconvert_exporter": "python",
   "pygments_lexer": "ipython3",
   "version": "3.9.7"
  }
 },
 "nbformat": 4,
 "nbformat_minor": 5
}
