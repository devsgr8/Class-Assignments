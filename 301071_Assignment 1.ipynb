{
 "cells": [
  {
   "cell_type": "code",
   "execution_count": 1,
   "id": "f638780a",
   "metadata": {},
   "outputs": [],
   "source": [
    "import numpy as np\n",
    "import pandas as pd\n",
    "import matplotlib.pyplot as plt\n",
    "from sklearn.metrics import confusion_matrix\n",
    "from sklearn.neighbors import KNeighborsClassifier\n",
    "from sklearn.preprocessing import LabelEncoder\n",
    "from sklearn.model_selection import train_test_split\n",
    "import seaborn as sns\n",
    "%matplotlib inline"
   ]
  },
  {
   "cell_type": "code",
   "execution_count": 2,
   "id": "0937230c",
   "metadata": {},
   "outputs": [],
   "source": [
    "df  = pd.read_csv(\"/Users/devrajdutta/Downloads/MLP Files/bank_cleaned.csv\")"
   ]
  },
  {
   "cell_type": "code",
   "execution_count": 3,
   "id": "bb07be65",
   "metadata": {},
   "outputs": [
    {
     "data": {
      "text/plain": [
       "<bound method NDFrame.head of        Unnamed: 0  age           job   marital  education default  balance  \\\n",
       "0               0   58    management   married   tertiary      no     2143   \n",
       "1               1   44    technician    single  secondary      no       29   \n",
       "2               2   33  entrepreneur   married  secondary      no        2   \n",
       "3               5   35    management   married   tertiary      no      231   \n",
       "4               6   28    management    single   tertiary      no      447   \n",
       "...           ...  ...           ...       ...        ...     ...      ...   \n",
       "40836       45205   25    technician    single  secondary      no      505   \n",
       "40837       45206   51    technician   married   tertiary      no      825   \n",
       "40838       45207   71       retired  divorced    primary      no     1729   \n",
       "40839       45208   72       retired   married  secondary      no     5715   \n",
       "40840       45209   57   blue-collar   married  secondary      no      668   \n",
       "\n",
       "      housing loan  day month  duration  campaign  pdays  previous poutcome  \\\n",
       "0         yes   no    5   may      4.35         1     -1         0  unknown   \n",
       "1         yes   no    5   may      2.52         1     -1         0  unknown   \n",
       "2         yes  yes    5   may      1.27         1     -1         0  unknown   \n",
       "3         yes   no    5   may      2.32         1     -1         0  unknown   \n",
       "4         yes  yes    5   may      3.62         1     -1         0  unknown   \n",
       "...       ...  ...  ...   ...       ...       ...    ...       ...      ...   \n",
       "40836      no  yes   17   nov      6.43         2     -1         0  unknown   \n",
       "40837      no   no   17   nov     16.28         3     -1         0  unknown   \n",
       "40838      no   no   17   nov      7.60         2     -1         0  unknown   \n",
       "40839      no   no   17   nov     18.78         5    184         3  success   \n",
       "40840      no   no   17   nov      8.47         4     -1         0  unknown   \n",
       "\n",
       "      response  response_binary  \n",
       "0           no                0  \n",
       "1           no                0  \n",
       "2           no                0  \n",
       "3           no                0  \n",
       "4           no                0  \n",
       "...        ...              ...  \n",
       "40836      yes                1  \n",
       "40837      yes                1  \n",
       "40838      yes                1  \n",
       "40839      yes                1  \n",
       "40840       no                0  \n",
       "\n",
       "[40841 rows x 18 columns]>"
      ]
     },
     "execution_count": 3,
     "metadata": {},
     "output_type": "execute_result"
    }
   ],
   "source": [
    "df.head"
   ]
  },
  {
   "cell_type": "code",
   "execution_count": 4,
   "id": "94e2cc5a",
   "metadata": {},
   "outputs": [
    {
     "data": {
      "text/plain": [
       "<bound method NDFrame.tail of        Unnamed: 0  age           job   marital  education default  balance  \\\n",
       "0               0   58    management   married   tertiary      no     2143   \n",
       "1               1   44    technician    single  secondary      no       29   \n",
       "2               2   33  entrepreneur   married  secondary      no        2   \n",
       "3               5   35    management   married   tertiary      no      231   \n",
       "4               6   28    management    single   tertiary      no      447   \n",
       "...           ...  ...           ...       ...        ...     ...      ...   \n",
       "40836       45205   25    technician    single  secondary      no      505   \n",
       "40837       45206   51    technician   married   tertiary      no      825   \n",
       "40838       45207   71       retired  divorced    primary      no     1729   \n",
       "40839       45208   72       retired   married  secondary      no     5715   \n",
       "40840       45209   57   blue-collar   married  secondary      no      668   \n",
       "\n",
       "      housing loan  day month  duration  campaign  pdays  previous poutcome  \\\n",
       "0         yes   no    5   may      4.35         1     -1         0  unknown   \n",
       "1         yes   no    5   may      2.52         1     -1         0  unknown   \n",
       "2         yes  yes    5   may      1.27         1     -1         0  unknown   \n",
       "3         yes   no    5   may      2.32         1     -1         0  unknown   \n",
       "4         yes  yes    5   may      3.62         1     -1         0  unknown   \n",
       "...       ...  ...  ...   ...       ...       ...    ...       ...      ...   \n",
       "40836      no  yes   17   nov      6.43         2     -1         0  unknown   \n",
       "40837      no   no   17   nov     16.28         3     -1         0  unknown   \n",
       "40838      no   no   17   nov      7.60         2     -1         0  unknown   \n",
       "40839      no   no   17   nov     18.78         5    184         3  success   \n",
       "40840      no   no   17   nov      8.47         4     -1         0  unknown   \n",
       "\n",
       "      response  response_binary  \n",
       "0           no                0  \n",
       "1           no                0  \n",
       "2           no                0  \n",
       "3           no                0  \n",
       "4           no                0  \n",
       "...        ...              ...  \n",
       "40836      yes                1  \n",
       "40837      yes                1  \n",
       "40838      yes                1  \n",
       "40839      yes                1  \n",
       "40840       no                0  \n",
       "\n",
       "[40841 rows x 18 columns]>"
      ]
     },
     "execution_count": 4,
     "metadata": {},
     "output_type": "execute_result"
    }
   ],
   "source": [
    "df.tail"
   ]
  },
  {
   "cell_type": "code",
   "execution_count": 5,
   "id": "b2fb42b7",
   "metadata": {},
   "outputs": [
    {
     "data": {
      "text/html": [
       "<div>\n",
       "<style scoped>\n",
       "    .dataframe tbody tr th:only-of-type {\n",
       "        vertical-align: middle;\n",
       "    }\n",
       "\n",
       "    .dataframe tbody tr th {\n",
       "        vertical-align: top;\n",
       "    }\n",
       "\n",
       "    .dataframe thead th {\n",
       "        text-align: right;\n",
       "    }\n",
       "</style>\n",
       "<table border=\"1\" class=\"dataframe\">\n",
       "  <thead>\n",
       "    <tr style=\"text-align: right;\">\n",
       "      <th></th>\n",
       "      <th>Unnamed: 0</th>\n",
       "      <th>age</th>\n",
       "      <th>job</th>\n",
       "      <th>marital</th>\n",
       "      <th>education</th>\n",
       "      <th>default</th>\n",
       "      <th>balance</th>\n",
       "      <th>housing</th>\n",
       "      <th>loan</th>\n",
       "      <th>day</th>\n",
       "      <th>month</th>\n",
       "      <th>duration</th>\n",
       "      <th>campaign</th>\n",
       "      <th>pdays</th>\n",
       "      <th>previous</th>\n",
       "      <th>poutcome</th>\n",
       "      <th>response</th>\n",
       "      <th>response_binary</th>\n",
       "    </tr>\n",
       "  </thead>\n",
       "  <tbody>\n",
       "    <tr>\n",
       "      <th>0</th>\n",
       "      <td>0</td>\n",
       "      <td>58</td>\n",
       "      <td>management</td>\n",
       "      <td>married</td>\n",
       "      <td>tertiary</td>\n",
       "      <td>no</td>\n",
       "      <td>2143</td>\n",
       "      <td>yes</td>\n",
       "      <td>no</td>\n",
       "      <td>5</td>\n",
       "      <td>may</td>\n",
       "      <td>4.35</td>\n",
       "      <td>1</td>\n",
       "      <td>-1</td>\n",
       "      <td>0</td>\n",
       "      <td>unknown</td>\n",
       "      <td>no</td>\n",
       "      <td>0</td>\n",
       "    </tr>\n",
       "    <tr>\n",
       "      <th>1</th>\n",
       "      <td>1</td>\n",
       "      <td>44</td>\n",
       "      <td>technician</td>\n",
       "      <td>single</td>\n",
       "      <td>secondary</td>\n",
       "      <td>no</td>\n",
       "      <td>29</td>\n",
       "      <td>yes</td>\n",
       "      <td>no</td>\n",
       "      <td>5</td>\n",
       "      <td>may</td>\n",
       "      <td>2.52</td>\n",
       "      <td>1</td>\n",
       "      <td>-1</td>\n",
       "      <td>0</td>\n",
       "      <td>unknown</td>\n",
       "      <td>no</td>\n",
       "      <td>0</td>\n",
       "    </tr>\n",
       "    <tr>\n",
       "      <th>2</th>\n",
       "      <td>2</td>\n",
       "      <td>33</td>\n",
       "      <td>entrepreneur</td>\n",
       "      <td>married</td>\n",
       "      <td>secondary</td>\n",
       "      <td>no</td>\n",
       "      <td>2</td>\n",
       "      <td>yes</td>\n",
       "      <td>yes</td>\n",
       "      <td>5</td>\n",
       "      <td>may</td>\n",
       "      <td>1.27</td>\n",
       "      <td>1</td>\n",
       "      <td>-1</td>\n",
       "      <td>0</td>\n",
       "      <td>unknown</td>\n",
       "      <td>no</td>\n",
       "      <td>0</td>\n",
       "    </tr>\n",
       "    <tr>\n",
       "      <th>3</th>\n",
       "      <td>5</td>\n",
       "      <td>35</td>\n",
       "      <td>management</td>\n",
       "      <td>married</td>\n",
       "      <td>tertiary</td>\n",
       "      <td>no</td>\n",
       "      <td>231</td>\n",
       "      <td>yes</td>\n",
       "      <td>no</td>\n",
       "      <td>5</td>\n",
       "      <td>may</td>\n",
       "      <td>2.32</td>\n",
       "      <td>1</td>\n",
       "      <td>-1</td>\n",
       "      <td>0</td>\n",
       "      <td>unknown</td>\n",
       "      <td>no</td>\n",
       "      <td>0</td>\n",
       "    </tr>\n",
       "    <tr>\n",
       "      <th>4</th>\n",
       "      <td>6</td>\n",
       "      <td>28</td>\n",
       "      <td>management</td>\n",
       "      <td>single</td>\n",
       "      <td>tertiary</td>\n",
       "      <td>no</td>\n",
       "      <td>447</td>\n",
       "      <td>yes</td>\n",
       "      <td>yes</td>\n",
       "      <td>5</td>\n",
       "      <td>may</td>\n",
       "      <td>3.62</td>\n",
       "      <td>1</td>\n",
       "      <td>-1</td>\n",
       "      <td>0</td>\n",
       "      <td>unknown</td>\n",
       "      <td>no</td>\n",
       "      <td>0</td>\n",
       "    </tr>\n",
       "    <tr>\n",
       "      <th>...</th>\n",
       "      <td>...</td>\n",
       "      <td>...</td>\n",
       "      <td>...</td>\n",
       "      <td>...</td>\n",
       "      <td>...</td>\n",
       "      <td>...</td>\n",
       "      <td>...</td>\n",
       "      <td>...</td>\n",
       "      <td>...</td>\n",
       "      <td>...</td>\n",
       "      <td>...</td>\n",
       "      <td>...</td>\n",
       "      <td>...</td>\n",
       "      <td>...</td>\n",
       "      <td>...</td>\n",
       "      <td>...</td>\n",
       "      <td>...</td>\n",
       "      <td>...</td>\n",
       "    </tr>\n",
       "    <tr>\n",
       "      <th>40836</th>\n",
       "      <td>45205</td>\n",
       "      <td>25</td>\n",
       "      <td>technician</td>\n",
       "      <td>single</td>\n",
       "      <td>secondary</td>\n",
       "      <td>no</td>\n",
       "      <td>505</td>\n",
       "      <td>no</td>\n",
       "      <td>yes</td>\n",
       "      <td>17</td>\n",
       "      <td>nov</td>\n",
       "      <td>6.43</td>\n",
       "      <td>2</td>\n",
       "      <td>-1</td>\n",
       "      <td>0</td>\n",
       "      <td>unknown</td>\n",
       "      <td>yes</td>\n",
       "      <td>1</td>\n",
       "    </tr>\n",
       "    <tr>\n",
       "      <th>40837</th>\n",
       "      <td>45206</td>\n",
       "      <td>51</td>\n",
       "      <td>technician</td>\n",
       "      <td>married</td>\n",
       "      <td>tertiary</td>\n",
       "      <td>no</td>\n",
       "      <td>825</td>\n",
       "      <td>no</td>\n",
       "      <td>no</td>\n",
       "      <td>17</td>\n",
       "      <td>nov</td>\n",
       "      <td>16.28</td>\n",
       "      <td>3</td>\n",
       "      <td>-1</td>\n",
       "      <td>0</td>\n",
       "      <td>unknown</td>\n",
       "      <td>yes</td>\n",
       "      <td>1</td>\n",
       "    </tr>\n",
       "    <tr>\n",
       "      <th>40838</th>\n",
       "      <td>45207</td>\n",
       "      <td>71</td>\n",
       "      <td>retired</td>\n",
       "      <td>divorced</td>\n",
       "      <td>primary</td>\n",
       "      <td>no</td>\n",
       "      <td>1729</td>\n",
       "      <td>no</td>\n",
       "      <td>no</td>\n",
       "      <td>17</td>\n",
       "      <td>nov</td>\n",
       "      <td>7.60</td>\n",
       "      <td>2</td>\n",
       "      <td>-1</td>\n",
       "      <td>0</td>\n",
       "      <td>unknown</td>\n",
       "      <td>yes</td>\n",
       "      <td>1</td>\n",
       "    </tr>\n",
       "    <tr>\n",
       "      <th>40839</th>\n",
       "      <td>45208</td>\n",
       "      <td>72</td>\n",
       "      <td>retired</td>\n",
       "      <td>married</td>\n",
       "      <td>secondary</td>\n",
       "      <td>no</td>\n",
       "      <td>5715</td>\n",
       "      <td>no</td>\n",
       "      <td>no</td>\n",
       "      <td>17</td>\n",
       "      <td>nov</td>\n",
       "      <td>18.78</td>\n",
       "      <td>5</td>\n",
       "      <td>184</td>\n",
       "      <td>3</td>\n",
       "      <td>success</td>\n",
       "      <td>yes</td>\n",
       "      <td>1</td>\n",
       "    </tr>\n",
       "    <tr>\n",
       "      <th>40840</th>\n",
       "      <td>45209</td>\n",
       "      <td>57</td>\n",
       "      <td>blue-collar</td>\n",
       "      <td>married</td>\n",
       "      <td>secondary</td>\n",
       "      <td>no</td>\n",
       "      <td>668</td>\n",
       "      <td>no</td>\n",
       "      <td>no</td>\n",
       "      <td>17</td>\n",
       "      <td>nov</td>\n",
       "      <td>8.47</td>\n",
       "      <td>4</td>\n",
       "      <td>-1</td>\n",
       "      <td>0</td>\n",
       "      <td>unknown</td>\n",
       "      <td>no</td>\n",
       "      <td>0</td>\n",
       "    </tr>\n",
       "  </tbody>\n",
       "</table>\n",
       "<p>40841 rows × 18 columns</p>\n",
       "</div>"
      ],
      "text/plain": [
       "       Unnamed: 0  age           job   marital  education default  balance  \\\n",
       "0               0   58    management   married   tertiary      no     2143   \n",
       "1               1   44    technician    single  secondary      no       29   \n",
       "2               2   33  entrepreneur   married  secondary      no        2   \n",
       "3               5   35    management   married   tertiary      no      231   \n",
       "4               6   28    management    single   tertiary      no      447   \n",
       "...           ...  ...           ...       ...        ...     ...      ...   \n",
       "40836       45205   25    technician    single  secondary      no      505   \n",
       "40837       45206   51    technician   married   tertiary      no      825   \n",
       "40838       45207   71       retired  divorced    primary      no     1729   \n",
       "40839       45208   72       retired   married  secondary      no     5715   \n",
       "40840       45209   57   blue-collar   married  secondary      no      668   \n",
       "\n",
       "      housing loan  day month  duration  campaign  pdays  previous poutcome  \\\n",
       "0         yes   no    5   may      4.35         1     -1         0  unknown   \n",
       "1         yes   no    5   may      2.52         1     -1         0  unknown   \n",
       "2         yes  yes    5   may      1.27         1     -1         0  unknown   \n",
       "3         yes   no    5   may      2.32         1     -1         0  unknown   \n",
       "4         yes  yes    5   may      3.62         1     -1         0  unknown   \n",
       "...       ...  ...  ...   ...       ...       ...    ...       ...      ...   \n",
       "40836      no  yes   17   nov      6.43         2     -1         0  unknown   \n",
       "40837      no   no   17   nov     16.28         3     -1         0  unknown   \n",
       "40838      no   no   17   nov      7.60         2     -1         0  unknown   \n",
       "40839      no   no   17   nov     18.78         5    184         3  success   \n",
       "40840      no   no   17   nov      8.47         4     -1         0  unknown   \n",
       "\n",
       "      response  response_binary  \n",
       "0           no                0  \n",
       "1           no                0  \n",
       "2           no                0  \n",
       "3           no                0  \n",
       "4           no                0  \n",
       "...        ...              ...  \n",
       "40836      yes                1  \n",
       "40837      yes                1  \n",
       "40838      yes                1  \n",
       "40839      yes                1  \n",
       "40840       no                0  \n",
       "\n",
       "[40841 rows x 18 columns]"
      ]
     },
     "execution_count": 5,
     "metadata": {},
     "output_type": "execute_result"
    }
   ],
   "source": [
    "df"
   ]
  },
  {
   "cell_type": "code",
   "execution_count": 6,
   "id": "9878c0ba",
   "metadata": {},
   "outputs": [
    {
     "data": {
      "text/plain": [
       "Index(['Unnamed: 0', 'age', 'job', 'marital', 'education', 'default',\n",
       "       'balance', 'housing', 'loan', 'day', 'month', 'duration', 'campaign',\n",
       "       'pdays', 'previous', 'poutcome', 'response', 'response_binary'],\n",
       "      dtype='object')"
      ]
     },
     "execution_count": 6,
     "metadata": {},
     "output_type": "execute_result"
    }
   ],
   "source": [
    "df.columns"
   ]
  },
  {
   "cell_type": "code",
   "execution_count": 7,
   "id": "0ec138fe",
   "metadata": {},
   "outputs": [
    {
     "name": "stdout",
     "output_type": "stream",
     "text": [
      "       Unnamed: 0  age  job  marital  education default  balance housing  \\\n",
      "0               0   58    4        1   tertiary      no     2143     yes   \n",
      "1               1   44   10        2  secondary      no       29     yes   \n",
      "2               2   33    2        1  secondary      no        2     yes   \n",
      "3               5   35    4        1   tertiary      no      231     yes   \n",
      "4               6   28    4        2   tertiary      no      447     yes   \n",
      "...           ...  ...  ...      ...        ...     ...      ...     ...   \n",
      "40836       45205   25   10        2  secondary      no      505      no   \n",
      "40837       45206   51   10        1   tertiary      no      825      no   \n",
      "40838       45207   71    6        0    primary      no     1729      no   \n",
      "40839       45208   72    6        1  secondary      no     5715      no   \n",
      "40840       45209   57    1        1  secondary      no      668      no   \n",
      "\n",
      "       loan  day month  duration  campaign  pdays  previous poutcome response  \\\n",
      "0         0    5   may      4.35         1     -1         0  unknown       no   \n",
      "1         0    5   may      2.52         1     -1         0  unknown       no   \n",
      "2         1    5   may      1.27         1     -1         0  unknown       no   \n",
      "3         0    5   may      2.32         1     -1         0  unknown       no   \n",
      "4         1    5   may      3.62         1     -1         0  unknown       no   \n",
      "...     ...  ...   ...       ...       ...    ...       ...      ...      ...   \n",
      "40836     1   17   nov      6.43         2     -1         0  unknown      yes   \n",
      "40837     0   17   nov     16.28         3     -1         0  unknown      yes   \n",
      "40838     0   17   nov      7.60         2     -1         0  unknown      yes   \n",
      "40839     0   17   nov     18.78         5    184         3  success      yes   \n",
      "40840     0   17   nov      8.47         4     -1         0  unknown       no   \n",
      "\n",
      "       response_binary  \n",
      "0                    0  \n",
      "1                    0  \n",
      "2                    0  \n",
      "3                    0  \n",
      "4                    0  \n",
      "...                ...  \n",
      "40836                1  \n",
      "40837                1  \n",
      "40838                1  \n",
      "40839                1  \n",
      "40840                0  \n",
      "\n",
      "[40841 rows x 18 columns]\n"
     ]
    }
   ],
   "source": [
    "df  = pd.read_csv(\"/Users/devrajdutta/Downloads/MLP Files/bank_cleaned.csv\")\n",
    "from sklearn.preprocessing import LabelEncoder\n",
    "le = LabelEncoder()\n",
    "df.job = le.fit_transform(df.job)\n",
    "df.marital = le.fit_transform(df.marital)\n",
    "df.loan = le.fit_transform(df.loan)\n",
    "\n",
    "print(df)"
   ]
  },
  {
   "cell_type": "code",
   "execution_count": 12,
   "id": "50120cef",
   "metadata": {},
   "outputs": [
    {
     "name": "stdout",
     "output_type": "stream",
     "text": [
      "Unnamed: 0         0\n",
      "age                0\n",
      "job                0\n",
      "marital            0\n",
      "education          0\n",
      "default            0\n",
      "balance            0\n",
      "housing            0\n",
      "loan               0\n",
      "day                0\n",
      "month              0\n",
      "duration           0\n",
      "campaign           0\n",
      "pdays              0\n",
      "previous           0\n",
      "poutcome           0\n",
      "response           0\n",
      "response_binary    0\n",
      "dtype: int64\n"
     ]
    }
   ],
   "source": [
    "print(df.isna().sum())\n",
    "missing_status=df.isna().sum()"
   ]
  },
  {
   "cell_type": "code",
   "execution_count": 13,
   "id": "b06a59cf",
   "metadata": {},
   "outputs": [
    {
     "data": {
      "text/html": [
       "<div>\n",
       "<style scoped>\n",
       "    .dataframe tbody tr th:only-of-type {\n",
       "        vertical-align: middle;\n",
       "    }\n",
       "\n",
       "    .dataframe tbody tr th {\n",
       "        vertical-align: top;\n",
       "    }\n",
       "\n",
       "    .dataframe thead th {\n",
       "        text-align: right;\n",
       "    }\n",
       "</style>\n",
       "<table border=\"1\" class=\"dataframe\">\n",
       "  <thead>\n",
       "    <tr style=\"text-align: right;\">\n",
       "      <th></th>\n",
       "      <th>Unnamed: 0</th>\n",
       "      <th>age</th>\n",
       "      <th>job</th>\n",
       "      <th>marital</th>\n",
       "      <th>education</th>\n",
       "      <th>default</th>\n",
       "      <th>balance</th>\n",
       "      <th>housing</th>\n",
       "      <th>loan</th>\n",
       "      <th>day</th>\n",
       "      <th>month</th>\n",
       "      <th>duration</th>\n",
       "      <th>campaign</th>\n",
       "      <th>pdays</th>\n",
       "      <th>previous</th>\n",
       "      <th>poutcome</th>\n",
       "      <th>response</th>\n",
       "      <th>response_binary</th>\n",
       "    </tr>\n",
       "  </thead>\n",
       "  <tbody>\n",
       "  </tbody>\n",
       "</table>\n",
       "</div>"
      ],
      "text/plain": [
       "Empty DataFrame\n",
       "Columns: [Unnamed: 0, age, job, marital, education, default, balance, housing, loan, day, month, duration, campaign, pdays, previous, poutcome, response, response_binary]\n",
       "Index: []"
      ]
     },
     "execution_count": 13,
     "metadata": {},
     "output_type": "execute_result"
    }
   ],
   "source": [
    "df[df.duplicated(keep = 'last')] "
   ]
  },
  {
   "cell_type": "code",
   "execution_count": 14,
   "id": "4fb7b08b",
   "metadata": {},
   "outputs": [
    {
     "data": {
      "text/plain": [
       "(40841, 18)"
      ]
     },
     "execution_count": 14,
     "metadata": {},
     "output_type": "execute_result"
    }
   ],
   "source": [
    "df.shape"
   ]
  },
  {
   "cell_type": "code",
   "execution_count": 15,
   "id": "d55ebafc",
   "metadata": {},
   "outputs": [
    {
     "data": {
      "text/plain": [
       "Unnamed: 0           int64\n",
       "age                  int64\n",
       "job                  int64\n",
       "marital              int64\n",
       "education           object\n",
       "default             object\n",
       "balance              int64\n",
       "housing             object\n",
       "loan                 int64\n",
       "day                  int64\n",
       "month               object\n",
       "duration           float64\n",
       "campaign             int64\n",
       "pdays                int64\n",
       "previous             int64\n",
       "poutcome            object\n",
       "response            object\n",
       "response_binary      int64\n",
       "dtype: object"
      ]
     },
     "execution_count": 15,
     "metadata": {},
     "output_type": "execute_result"
    }
   ],
   "source": [
    "df.dtypes"
   ]
  },
  {
   "cell_type": "code",
   "execution_count": 16,
   "id": "e7d77dd7",
   "metadata": {},
   "outputs": [
    {
     "data": {
      "text/plain": [
       "Index(['Unnamed: 0', 'age', 'job', 'marital', 'education', 'default',\n",
       "       'balance', 'housing', 'loan', 'day', 'month', 'duration', 'campaign',\n",
       "       'pdays', 'previous', 'poutcome', 'response', 'response_binary'],\n",
       "      dtype='object')"
      ]
     },
     "execution_count": 16,
     "metadata": {},
     "output_type": "execute_result"
    }
   ],
   "source": [
    "df.columns"
   ]
  },
  {
   "cell_type": "code",
   "execution_count": 17,
   "id": "0ed0f7c4",
   "metadata": {},
   "outputs": [
    {
     "data": {
      "text/html": [
       "<div>\n",
       "<style scoped>\n",
       "    .dataframe tbody tr th:only-of-type {\n",
       "        vertical-align: middle;\n",
       "    }\n",
       "\n",
       "    .dataframe tbody tr th {\n",
       "        vertical-align: top;\n",
       "    }\n",
       "\n",
       "    .dataframe thead th {\n",
       "        text-align: right;\n",
       "    }\n",
       "</style>\n",
       "<table border=\"1\" class=\"dataframe\">\n",
       "  <thead>\n",
       "    <tr style=\"text-align: right;\">\n",
       "      <th></th>\n",
       "      <th>Unnamed: 0</th>\n",
       "      <th>age</th>\n",
       "      <th>job</th>\n",
       "      <th>marital</th>\n",
       "      <th>education</th>\n",
       "      <th>default</th>\n",
       "      <th>balance</th>\n",
       "      <th>housing</th>\n",
       "      <th>loan</th>\n",
       "      <th>day</th>\n",
       "      <th>month</th>\n",
       "      <th>duration</th>\n",
       "      <th>campaign</th>\n",
       "      <th>pdays</th>\n",
       "      <th>previous</th>\n",
       "      <th>poutcome</th>\n",
       "      <th>response</th>\n",
       "      <th>response_binary</th>\n",
       "    </tr>\n",
       "  </thead>\n",
       "  <tbody>\n",
       "    <tr>\n",
       "      <th>4441</th>\n",
       "      <td>4737</td>\n",
       "      <td>30</td>\n",
       "      <td>11</td>\n",
       "      <td>1</td>\n",
       "      <td>secondary</td>\n",
       "      <td>no</td>\n",
       "      <td>142</td>\n",
       "      <td>yes</td>\n",
       "      <td>0</td>\n",
       "      <td>20</td>\n",
       "      <td>may</td>\n",
       "      <td>5.83</td>\n",
       "      <td>4</td>\n",
       "      <td>-1</td>\n",
       "      <td>0</td>\n",
       "      <td>unknown</td>\n",
       "      <td>no</td>\n",
       "      <td>0</td>\n",
       "    </tr>\n",
       "    <tr>\n",
       "      <th>36153</th>\n",
       "      <td>39505</td>\n",
       "      <td>36</td>\n",
       "      <td>0</td>\n",
       "      <td>1</td>\n",
       "      <td>secondary</td>\n",
       "      <td>no</td>\n",
       "      <td>1054</td>\n",
       "      <td>yes</td>\n",
       "      <td>0</td>\n",
       "      <td>25</td>\n",
       "      <td>may</td>\n",
       "      <td>3.57</td>\n",
       "      <td>1</td>\n",
       "      <td>-1</td>\n",
       "      <td>0</td>\n",
       "      <td>unknown</td>\n",
       "      <td>no</td>\n",
       "      <td>0</td>\n",
       "    </tr>\n",
       "    <tr>\n",
       "      <th>30946</th>\n",
       "      <td>33465</td>\n",
       "      <td>37</td>\n",
       "      <td>1</td>\n",
       "      <td>1</td>\n",
       "      <td>secondary</td>\n",
       "      <td>no</td>\n",
       "      <td>509</td>\n",
       "      <td>yes</td>\n",
       "      <td>0</td>\n",
       "      <td>20</td>\n",
       "      <td>apr</td>\n",
       "      <td>2.87</td>\n",
       "      <td>1</td>\n",
       "      <td>-1</td>\n",
       "      <td>0</td>\n",
       "      <td>unknown</td>\n",
       "      <td>no</td>\n",
       "      <td>0</td>\n",
       "    </tr>\n",
       "    <tr>\n",
       "      <th>7452</th>\n",
       "      <td>7909</td>\n",
       "      <td>56</td>\n",
       "      <td>0</td>\n",
       "      <td>1</td>\n",
       "      <td>secondary</td>\n",
       "      <td>no</td>\n",
       "      <td>346</td>\n",
       "      <td>yes</td>\n",
       "      <td>1</td>\n",
       "      <td>30</td>\n",
       "      <td>may</td>\n",
       "      <td>0.77</td>\n",
       "      <td>3</td>\n",
       "      <td>-1</td>\n",
       "      <td>0</td>\n",
       "      <td>unknown</td>\n",
       "      <td>no</td>\n",
       "      <td>0</td>\n",
       "    </tr>\n",
       "    <tr>\n",
       "      <th>16466</th>\n",
       "      <td>17462</td>\n",
       "      <td>60</td>\n",
       "      <td>7</td>\n",
       "      <td>1</td>\n",
       "      <td>secondary</td>\n",
       "      <td>no</td>\n",
       "      <td>3105</td>\n",
       "      <td>no</td>\n",
       "      <td>0</td>\n",
       "      <td>28</td>\n",
       "      <td>jul</td>\n",
       "      <td>2.97</td>\n",
       "      <td>4</td>\n",
       "      <td>-1</td>\n",
       "      <td>0</td>\n",
       "      <td>unknown</td>\n",
       "      <td>no</td>\n",
       "      <td>0</td>\n",
       "    </tr>\n",
       "    <tr>\n",
       "      <th>14711</th>\n",
       "      <td>15654</td>\n",
       "      <td>38</td>\n",
       "      <td>11</td>\n",
       "      <td>0</td>\n",
       "      <td>secondary</td>\n",
       "      <td>no</td>\n",
       "      <td>189</td>\n",
       "      <td>yes</td>\n",
       "      <td>1</td>\n",
       "      <td>21</td>\n",
       "      <td>jul</td>\n",
       "      <td>1.75</td>\n",
       "      <td>2</td>\n",
       "      <td>-1</td>\n",
       "      <td>0</td>\n",
       "      <td>unknown</td>\n",
       "      <td>no</td>\n",
       "      <td>0</td>\n",
       "    </tr>\n",
       "    <tr>\n",
       "      <th>28157</th>\n",
       "      <td>30259</td>\n",
       "      <td>42</td>\n",
       "      <td>1</td>\n",
       "      <td>2</td>\n",
       "      <td>primary</td>\n",
       "      <td>no</td>\n",
       "      <td>1628</td>\n",
       "      <td>yes</td>\n",
       "      <td>0</td>\n",
       "      <td>5</td>\n",
       "      <td>feb</td>\n",
       "      <td>1.98</td>\n",
       "      <td>1</td>\n",
       "      <td>195</td>\n",
       "      <td>8</td>\n",
       "      <td>success</td>\n",
       "      <td>no</td>\n",
       "      <td>0</td>\n",
       "    </tr>\n",
       "    <tr>\n",
       "      <th>22068</th>\n",
       "      <td>23353</td>\n",
       "      <td>31</td>\n",
       "      <td>4</td>\n",
       "      <td>1</td>\n",
       "      <td>tertiary</td>\n",
       "      <td>no</td>\n",
       "      <td>382</td>\n",
       "      <td>no</td>\n",
       "      <td>0</td>\n",
       "      <td>27</td>\n",
       "      <td>aug</td>\n",
       "      <td>0.72</td>\n",
       "      <td>19</td>\n",
       "      <td>-1</td>\n",
       "      <td>0</td>\n",
       "      <td>unknown</td>\n",
       "      <td>no</td>\n",
       "      <td>0</td>\n",
       "    </tr>\n",
       "    <tr>\n",
       "      <th>29697</th>\n",
       "      <td>32034</td>\n",
       "      <td>31</td>\n",
       "      <td>1</td>\n",
       "      <td>2</td>\n",
       "      <td>secondary</td>\n",
       "      <td>no</td>\n",
       "      <td>609</td>\n",
       "      <td>yes</td>\n",
       "      <td>0</td>\n",
       "      <td>14</td>\n",
       "      <td>apr</td>\n",
       "      <td>18.77</td>\n",
       "      <td>1</td>\n",
       "      <td>335</td>\n",
       "      <td>1</td>\n",
       "      <td>failure</td>\n",
       "      <td>no</td>\n",
       "      <td>0</td>\n",
       "    </tr>\n",
       "    <tr>\n",
       "      <th>13421</th>\n",
       "      <td>14324</td>\n",
       "      <td>33</td>\n",
       "      <td>2</td>\n",
       "      <td>2</td>\n",
       "      <td>tertiary</td>\n",
       "      <td>no</td>\n",
       "      <td>75</td>\n",
       "      <td>yes</td>\n",
       "      <td>0</td>\n",
       "      <td>14</td>\n",
       "      <td>jul</td>\n",
       "      <td>2.10</td>\n",
       "      <td>3</td>\n",
       "      <td>-1</td>\n",
       "      <td>0</td>\n",
       "      <td>unknown</td>\n",
       "      <td>no</td>\n",
       "      <td>0</td>\n",
       "    </tr>\n",
       "  </tbody>\n",
       "</table>\n",
       "</div>"
      ],
      "text/plain": [
       "       Unnamed: 0  age  job  marital  education default  balance housing  \\\n",
       "4441         4737   30   11        1  secondary      no      142     yes   \n",
       "36153       39505   36    0        1  secondary      no     1054     yes   \n",
       "30946       33465   37    1        1  secondary      no      509     yes   \n",
       "7452         7909   56    0        1  secondary      no      346     yes   \n",
       "16466       17462   60    7        1  secondary      no     3105      no   \n",
       "14711       15654   38   11        0  secondary      no      189     yes   \n",
       "28157       30259   42    1        2    primary      no     1628     yes   \n",
       "22068       23353   31    4        1   tertiary      no      382      no   \n",
       "29697       32034   31    1        2  secondary      no      609     yes   \n",
       "13421       14324   33    2        2   tertiary      no       75     yes   \n",
       "\n",
       "       loan  day month  duration  campaign  pdays  previous poutcome response  \\\n",
       "4441      0   20   may      5.83         4     -1         0  unknown       no   \n",
       "36153     0   25   may      3.57         1     -1         0  unknown       no   \n",
       "30946     0   20   apr      2.87         1     -1         0  unknown       no   \n",
       "7452      1   30   may      0.77         3     -1         0  unknown       no   \n",
       "16466     0   28   jul      2.97         4     -1         0  unknown       no   \n",
       "14711     1   21   jul      1.75         2     -1         0  unknown       no   \n",
       "28157     0    5   feb      1.98         1    195         8  success       no   \n",
       "22068     0   27   aug      0.72        19     -1         0  unknown       no   \n",
       "29697     0   14   apr     18.77         1    335         1  failure       no   \n",
       "13421     0   14   jul      2.10         3     -1         0  unknown       no   \n",
       "\n",
       "       response_binary  \n",
       "4441                 0  \n",
       "36153                0  \n",
       "30946                0  \n",
       "7452                 0  \n",
       "16466                0  \n",
       "14711                0  \n",
       "28157                0  \n",
       "22068                0  \n",
       "29697                0  \n",
       "13421                0  "
      ]
     },
     "execution_count": 17,
     "metadata": {},
     "output_type": "execute_result"
    }
   ],
   "source": [
    "df.sample(n=10)"
   ]
  },
  {
   "cell_type": "code",
   "execution_count": 18,
   "id": "37dcdd43",
   "metadata": {},
   "outputs": [
    {
     "data": {
      "text/html": [
       "<div>\n",
       "<style scoped>\n",
       "    .dataframe tbody tr th:only-of-type {\n",
       "        vertical-align: middle;\n",
       "    }\n",
       "\n",
       "    .dataframe tbody tr th {\n",
       "        vertical-align: top;\n",
       "    }\n",
       "\n",
       "    .dataframe thead th {\n",
       "        text-align: right;\n",
       "    }\n",
       "</style>\n",
       "<table border=\"1\" class=\"dataframe\">\n",
       "  <thead>\n",
       "    <tr style=\"text-align: right;\">\n",
       "      <th></th>\n",
       "      <th>Unnamed: 0</th>\n",
       "      <th>age</th>\n",
       "      <th>job</th>\n",
       "      <th>marital</th>\n",
       "      <th>education</th>\n",
       "      <th>default</th>\n",
       "      <th>balance</th>\n",
       "      <th>housing</th>\n",
       "      <th>loan</th>\n",
       "      <th>day</th>\n",
       "      <th>month</th>\n",
       "      <th>duration</th>\n",
       "      <th>campaign</th>\n",
       "      <th>pdays</th>\n",
       "      <th>previous</th>\n",
       "      <th>poutcome</th>\n",
       "      <th>response</th>\n",
       "      <th>response_binary</th>\n",
       "    </tr>\n",
       "  </thead>\n",
       "  <tbody>\n",
       "    <tr>\n",
       "      <th>0</th>\n",
       "      <td>0</td>\n",
       "      <td>58</td>\n",
       "      <td>4</td>\n",
       "      <td>1</td>\n",
       "      <td>tertiary</td>\n",
       "      <td>no</td>\n",
       "      <td>2143</td>\n",
       "      <td>yes</td>\n",
       "      <td>0</td>\n",
       "      <td>5</td>\n",
       "      <td>may</td>\n",
       "      <td>4.35</td>\n",
       "      <td>1</td>\n",
       "      <td>-1</td>\n",
       "      <td>0</td>\n",
       "      <td>unknown</td>\n",
       "      <td>no</td>\n",
       "      <td>0</td>\n",
       "    </tr>\n",
       "    <tr>\n",
       "      <th>1</th>\n",
       "      <td>1</td>\n",
       "      <td>44</td>\n",
       "      <td>10</td>\n",
       "      <td>2</td>\n",
       "      <td>secondary</td>\n",
       "      <td>no</td>\n",
       "      <td>29</td>\n",
       "      <td>yes</td>\n",
       "      <td>0</td>\n",
       "      <td>5</td>\n",
       "      <td>may</td>\n",
       "      <td>2.52</td>\n",
       "      <td>1</td>\n",
       "      <td>-1</td>\n",
       "      <td>0</td>\n",
       "      <td>unknown</td>\n",
       "      <td>no</td>\n",
       "      <td>0</td>\n",
       "    </tr>\n",
       "    <tr>\n",
       "      <th>2</th>\n",
       "      <td>2</td>\n",
       "      <td>33</td>\n",
       "      <td>2</td>\n",
       "      <td>1</td>\n",
       "      <td>secondary</td>\n",
       "      <td>no</td>\n",
       "      <td>2</td>\n",
       "      <td>yes</td>\n",
       "      <td>1</td>\n",
       "      <td>5</td>\n",
       "      <td>may</td>\n",
       "      <td>1.27</td>\n",
       "      <td>1</td>\n",
       "      <td>-1</td>\n",
       "      <td>0</td>\n",
       "      <td>unknown</td>\n",
       "      <td>no</td>\n",
       "      <td>0</td>\n",
       "    </tr>\n",
       "    <tr>\n",
       "      <th>3</th>\n",
       "      <td>5</td>\n",
       "      <td>35</td>\n",
       "      <td>4</td>\n",
       "      <td>1</td>\n",
       "      <td>tertiary</td>\n",
       "      <td>no</td>\n",
       "      <td>231</td>\n",
       "      <td>yes</td>\n",
       "      <td>0</td>\n",
       "      <td>5</td>\n",
       "      <td>may</td>\n",
       "      <td>2.32</td>\n",
       "      <td>1</td>\n",
       "      <td>-1</td>\n",
       "      <td>0</td>\n",
       "      <td>unknown</td>\n",
       "      <td>no</td>\n",
       "      <td>0</td>\n",
       "    </tr>\n",
       "    <tr>\n",
       "      <th>4</th>\n",
       "      <td>6</td>\n",
       "      <td>28</td>\n",
       "      <td>4</td>\n",
       "      <td>2</td>\n",
       "      <td>tertiary</td>\n",
       "      <td>no</td>\n",
       "      <td>447</td>\n",
       "      <td>yes</td>\n",
       "      <td>1</td>\n",
       "      <td>5</td>\n",
       "      <td>may</td>\n",
       "      <td>3.62</td>\n",
       "      <td>1</td>\n",
       "      <td>-1</td>\n",
       "      <td>0</td>\n",
       "      <td>unknown</td>\n",
       "      <td>no</td>\n",
       "      <td>0</td>\n",
       "    </tr>\n",
       "  </tbody>\n",
       "</table>\n",
       "</div>"
      ],
      "text/plain": [
       "   Unnamed: 0  age  job  marital  education default  balance housing  loan  \\\n",
       "0           0   58    4        1   tertiary      no     2143     yes     0   \n",
       "1           1   44   10        2  secondary      no       29     yes     0   \n",
       "2           2   33    2        1  secondary      no        2     yes     1   \n",
       "3           5   35    4        1   tertiary      no      231     yes     0   \n",
       "4           6   28    4        2   tertiary      no      447     yes     1   \n",
       "\n",
       "   day month  duration  campaign  pdays  previous poutcome response  \\\n",
       "0    5   may      4.35         1     -1         0  unknown       no   \n",
       "1    5   may      2.52         1     -1         0  unknown       no   \n",
       "2    5   may      1.27         1     -1         0  unknown       no   \n",
       "3    5   may      2.32         1     -1         0  unknown       no   \n",
       "4    5   may      3.62         1     -1         0  unknown       no   \n",
       "\n",
       "   response_binary  \n",
       "0                0  \n",
       "1                0  \n",
       "2                0  \n",
       "3                0  \n",
       "4                0  "
      ]
     },
     "execution_count": 18,
     "metadata": {},
     "output_type": "execute_result"
    }
   ],
   "source": [
    "from sklearn.preprocessing import LabelEncoder\n",
    "le = LabelEncoder()\n",
    "df.job = le.fit_transform(df.job)\n",
    "df.marital = le.fit_transform(df.marital)\n",
    "df.loan = le.fit_transform(df.loan)\n",
    "df.head(5)"
   ]
  },
  {
   "cell_type": "code",
   "execution_count": 19,
   "id": "9bfd5612",
   "metadata": {},
   "outputs": [],
   "source": [
    "df = df.fillna(0)"
   ]
  },
  {
   "cell_type": "code",
   "execution_count": 20,
   "id": "c4b7b3e4",
   "metadata": {},
   "outputs": [
    {
     "data": {
      "text/html": [
       "<div>\n",
       "<style scoped>\n",
       "    .dataframe tbody tr th:only-of-type {\n",
       "        vertical-align: middle;\n",
       "    }\n",
       "\n",
       "    .dataframe tbody tr th {\n",
       "        vertical-align: top;\n",
       "    }\n",
       "\n",
       "    .dataframe thead th {\n",
       "        text-align: right;\n",
       "    }\n",
       "</style>\n",
       "<table border=\"1\" class=\"dataframe\">\n",
       "  <thead>\n",
       "    <tr style=\"text-align: right;\">\n",
       "      <th></th>\n",
       "      <th>loan</th>\n",
       "    </tr>\n",
       "  </thead>\n",
       "  <tbody>\n",
       "    <tr>\n",
       "      <th>29058</th>\n",
       "      <td>0</td>\n",
       "    </tr>\n",
       "    <tr>\n",
       "      <th>38366</th>\n",
       "      <td>0</td>\n",
       "    </tr>\n",
       "    <tr>\n",
       "      <th>28620</th>\n",
       "      <td>0</td>\n",
       "    </tr>\n",
       "    <tr>\n",
       "      <th>22002</th>\n",
       "      <td>0</td>\n",
       "    </tr>\n",
       "    <tr>\n",
       "      <th>34113</th>\n",
       "      <td>0</td>\n",
       "    </tr>\n",
       "  </tbody>\n",
       "</table>\n",
       "</div>"
      ],
      "text/plain": [
       "       loan\n",
       "29058     0\n",
       "38366     0\n",
       "28620     0\n",
       "22002     0\n",
       "34113     0"
      ]
     },
     "execution_count": 20,
     "metadata": {},
     "output_type": "execute_result"
    }
   ],
   "source": [
    "from sklearn.model_selection import train_test_split\n",
    "from sklearn.metrics import confusion_matrix\n",
    "from sklearn.neighbors import KNeighborsClassifier\n",
    "from sklearn.preprocessing import StandardScaler\n",
    "\n",
    "x= df[['job','marital']]\n",
    "y = df[['loan']]\n",
    "x_train, x_test, y_train, y_test = train_test_split(x, y, random_state=1)\n",
    "y_train.head()"
   ]
  },
  {
   "cell_type": "code",
   "execution_count": 21,
   "id": "2c7b1ab1",
   "metadata": {},
   "outputs": [
    {
     "data": {
      "text/html": [
       "<div>\n",
       "<style scoped>\n",
       "    .dataframe tbody tr th:only-of-type {\n",
       "        vertical-align: middle;\n",
       "    }\n",
       "\n",
       "    .dataframe tbody tr th {\n",
       "        vertical-align: top;\n",
       "    }\n",
       "\n",
       "    .dataframe thead th {\n",
       "        text-align: right;\n",
       "    }\n",
       "</style>\n",
       "<table border=\"1\" class=\"dataframe\">\n",
       "  <thead>\n",
       "    <tr style=\"text-align: right;\">\n",
       "      <th></th>\n",
       "      <th>loan</th>\n",
       "    </tr>\n",
       "  </thead>\n",
       "  <tbody>\n",
       "    <tr>\n",
       "      <th>11616</th>\n",
       "      <td>1</td>\n",
       "    </tr>\n",
       "    <tr>\n",
       "      <th>38206</th>\n",
       "      <td>1</td>\n",
       "    </tr>\n",
       "    <tr>\n",
       "      <th>28205</th>\n",
       "      <td>0</td>\n",
       "    </tr>\n",
       "    <tr>\n",
       "      <th>7192</th>\n",
       "      <td>0</td>\n",
       "    </tr>\n",
       "    <tr>\n",
       "      <th>13375</th>\n",
       "      <td>0</td>\n",
       "    </tr>\n",
       "  </tbody>\n",
       "</table>\n",
       "</div>"
      ],
      "text/plain": [
       "       loan\n",
       "11616     1\n",
       "38206     1\n",
       "28205     0\n",
       "7192      0\n",
       "13375     0"
      ]
     },
     "execution_count": 21,
     "metadata": {},
     "output_type": "execute_result"
    }
   ],
   "source": [
    "st_x= StandardScaler()    \n",
    "x_train= st_x.fit_transform(x_train)    \n",
    "x_test= st_x.transform(x_test)  \n",
    "y_test.head(5)"
   ]
  },
  {
   "cell_type": "code",
   "execution_count": 22,
   "id": "59bad9b8",
   "metadata": {},
   "outputs": [
    {
     "name": "stderr",
     "output_type": "stream",
     "text": [
      "/Users/devrajdutta/opt/anaconda3/lib/python3.9/site-packages/sklearn/neighbors/_classification.py:179: DataConversionWarning: A column-vector y was passed when a 1d array was expected. Please change the shape of y to (n_samples,), for example using ravel().\n",
      "  return self._fit(X, y)\n"
     ]
    },
    {
     "data": {
      "text/plain": [
       "KNeighborsClassifier(metric='euclidean')"
      ]
     },
     "execution_count": 22,
     "metadata": {},
     "output_type": "execute_result"
    }
   ],
   "source": [
    "knn = KNeighborsClassifier(n_neighbors=5, metric='euclidean')\n",
    "knn.fit(x_train, y_train)"
   ]
  },
  {
   "cell_type": "code",
   "execution_count": 23,
   "id": "a1ea0303",
   "metadata": {},
   "outputs": [],
   "source": [
    "y_pred = knn.predict(x_test)"
   ]
  },
  {
   "cell_type": "code",
   "execution_count": 24,
   "id": "bad2d93a",
   "metadata": {},
   "outputs": [
    {
     "data": {
      "text/plain": [
       "array([[7019, 1475],\n",
       "       [1399,  318]])"
      ]
     },
     "execution_count": 24,
     "metadata": {},
     "output_type": "execute_result"
    }
   ],
   "source": [
    "confusion_matrix(y_test, y_pred)"
   ]
  },
  {
   "cell_type": "code",
   "execution_count": 25,
   "id": "7355654b",
   "metadata": {},
   "outputs": [],
   "source": [
    "from sklearn.metrics import accuracy_score"
   ]
  },
  {
   "cell_type": "code",
   "execution_count": 26,
   "id": "fa545ae0",
   "metadata": {},
   "outputs": [
    {
     "data": {
      "text/plain": [
       "0.7185388306728039"
      ]
     },
     "execution_count": 26,
     "metadata": {},
     "output_type": "execute_result"
    }
   ],
   "source": [
    "accuracy_score(y_test, y_pred)"
   ]
  },
  {
   "cell_type": "code",
   "execution_count": 27,
   "id": "fc76a0f7",
   "metadata": {},
   "outputs": [
    {
     "data": {
      "text/plain": [
       "(array([0.83380851, 0.17735639]),\n",
       " array([0.82634801, 0.18520676]),\n",
       " array([0.83006149, 0.18119658]),\n",
       " array([8494, 1717]))"
      ]
     },
     "execution_count": 27,
     "metadata": {},
     "output_type": "execute_result"
    }
   ],
   "source": [
    "from sklearn.metrics import precision_recall_fscore_support\n",
    "precision_recall_fscore_support(y_test, y_pred)"
   ]
  },
  {
   "cell_type": "code",
   "execution_count": 28,
   "id": "1eb87986",
   "metadata": {},
   "outputs": [
    {
     "name": "stderr",
     "output_type": "stream",
     "text": [
      "/Users/devrajdutta/opt/anaconda3/lib/python3.9/site-packages/sklearn/neighbors/_classification.py:179: DataConversionWarning: A column-vector y was passed when a 1d array was expected. Please change the shape of y to (n_samples,), for example using ravel().\n",
      "  return self._fit(X, y)\n",
      "/Users/devrajdutta/opt/anaconda3/lib/python3.9/site-packages/sklearn/neighbors/_classification.py:179: DataConversionWarning: A column-vector y was passed when a 1d array was expected. Please change the shape of y to (n_samples,), for example using ravel().\n",
      "  return self._fit(X, y)\n",
      "/Users/devrajdutta/opt/anaconda3/lib/python3.9/site-packages/sklearn/neighbors/_classification.py:179: DataConversionWarning: A column-vector y was passed when a 1d array was expected. Please change the shape of y to (n_samples,), for example using ravel().\n",
      "  return self._fit(X, y)\n",
      "/Users/devrajdutta/opt/anaconda3/lib/python3.9/site-packages/sklearn/neighbors/_classification.py:179: DataConversionWarning: A column-vector y was passed when a 1d array was expected. Please change the shape of y to (n_samples,), for example using ravel().\n",
      "  return self._fit(X, y)\n",
      "/Users/devrajdutta/opt/anaconda3/lib/python3.9/site-packages/sklearn/neighbors/_classification.py:179: DataConversionWarning: A column-vector y was passed when a 1d array was expected. Please change the shape of y to (n_samples,), for example using ravel().\n",
      "  return self._fit(X, y)\n",
      "/Users/devrajdutta/opt/anaconda3/lib/python3.9/site-packages/sklearn/neighbors/_classification.py:179: DataConversionWarning: A column-vector y was passed when a 1d array was expected. Please change the shape of y to (n_samples,), for example using ravel().\n",
      "  return self._fit(X, y)\n",
      "/Users/devrajdutta/opt/anaconda3/lib/python3.9/site-packages/sklearn/neighbors/_classification.py:179: DataConversionWarning: A column-vector y was passed when a 1d array was expected. Please change the shape of y to (n_samples,), for example using ravel().\n",
      "  return self._fit(X, y)\n",
      "/Users/devrajdutta/opt/anaconda3/lib/python3.9/site-packages/sklearn/neighbors/_classification.py:179: DataConversionWarning: A column-vector y was passed when a 1d array was expected. Please change the shape of y to (n_samples,), for example using ravel().\n",
      "  return self._fit(X, y)\n",
      "/Users/devrajdutta/opt/anaconda3/lib/python3.9/site-packages/sklearn/neighbors/_classification.py:179: DataConversionWarning: A column-vector y was passed when a 1d array was expected. Please change the shape of y to (n_samples,), for example using ravel().\n",
      "  return self._fit(X, y)\n",
      "/Users/devrajdutta/opt/anaconda3/lib/python3.9/site-packages/sklearn/neighbors/_classification.py:179: DataConversionWarning: A column-vector y was passed when a 1d array was expected. Please change the shape of y to (n_samples,), for example using ravel().\n",
      "  return self._fit(X, y)\n",
      "/Users/devrajdutta/opt/anaconda3/lib/python3.9/site-packages/sklearn/neighbors/_classification.py:179: DataConversionWarning: A column-vector y was passed when a 1d array was expected. Please change the shape of y to (n_samples,), for example using ravel().\n",
      "  return self._fit(X, y)\n",
      "/Users/devrajdutta/opt/anaconda3/lib/python3.9/site-packages/sklearn/neighbors/_classification.py:179: DataConversionWarning: A column-vector y was passed when a 1d array was expected. Please change the shape of y to (n_samples,), for example using ravel().\n",
      "  return self._fit(X, y)\n",
      "/Users/devrajdutta/opt/anaconda3/lib/python3.9/site-packages/sklearn/neighbors/_classification.py:179: DataConversionWarning: A column-vector y was passed when a 1d array was expected. Please change the shape of y to (n_samples,), for example using ravel().\n",
      "  return self._fit(X, y)\n",
      "/Users/devrajdutta/opt/anaconda3/lib/python3.9/site-packages/sklearn/neighbors/_classification.py:179: DataConversionWarning: A column-vector y was passed when a 1d array was expected. Please change the shape of y to (n_samples,), for example using ravel().\n",
      "  return self._fit(X, y)\n",
      "/Users/devrajdutta/opt/anaconda3/lib/python3.9/site-packages/sklearn/neighbors/_classification.py:179: DataConversionWarning: A column-vector y was passed when a 1d array was expected. Please change the shape of y to (n_samples,), for example using ravel().\n",
      "  return self._fit(X, y)\n",
      "/Users/devrajdutta/opt/anaconda3/lib/python3.9/site-packages/sklearn/neighbors/_classification.py:179: DataConversionWarning: A column-vector y was passed when a 1d array was expected. Please change the shape of y to (n_samples,), for example using ravel().\n",
      "  return self._fit(X, y)\n",
      "/Users/devrajdutta/opt/anaconda3/lib/python3.9/site-packages/sklearn/neighbors/_classification.py:179: DataConversionWarning: A column-vector y was passed when a 1d array was expected. Please change the shape of y to (n_samples,), for example using ravel().\n",
      "  return self._fit(X, y)\n",
      "/Users/devrajdutta/opt/anaconda3/lib/python3.9/site-packages/sklearn/neighbors/_classification.py:179: DataConversionWarning: A column-vector y was passed when a 1d array was expected. Please change the shape of y to (n_samples,), for example using ravel().\n",
      "  return self._fit(X, y)\n",
      "/Users/devrajdutta/opt/anaconda3/lib/python3.9/site-packages/sklearn/neighbors/_classification.py:179: DataConversionWarning: A column-vector y was passed when a 1d array was expected. Please change the shape of y to (n_samples,), for example using ravel().\n",
      "  return self._fit(X, y)\n",
      "/Users/devrajdutta/opt/anaconda3/lib/python3.9/site-packages/sklearn/neighbors/_classification.py:179: DataConversionWarning: A column-vector y was passed when a 1d array was expected. Please change the shape of y to (n_samples,), for example using ravel().\n",
      "  return self._fit(X, y)\n",
      "/Users/devrajdutta/opt/anaconda3/lib/python3.9/site-packages/sklearn/neighbors/_classification.py:179: DataConversionWarning: A column-vector y was passed when a 1d array was expected. Please change the shape of y to (n_samples,), for example using ravel().\n",
      "  return self._fit(X, y)\n",
      "/Users/devrajdutta/opt/anaconda3/lib/python3.9/site-packages/sklearn/neighbors/_classification.py:179: DataConversionWarning: A column-vector y was passed when a 1d array was expected. Please change the shape of y to (n_samples,), for example using ravel().\n",
      "  return self._fit(X, y)\n",
      "/Users/devrajdutta/opt/anaconda3/lib/python3.9/site-packages/sklearn/neighbors/_classification.py:179: DataConversionWarning: A column-vector y was passed when a 1d array was expected. Please change the shape of y to (n_samples,), for example using ravel().\n",
      "  return self._fit(X, y)\n",
      "/Users/devrajdutta/opt/anaconda3/lib/python3.9/site-packages/sklearn/neighbors/_classification.py:179: DataConversionWarning: A column-vector y was passed when a 1d array was expected. Please change the shape of y to (n_samples,), for example using ravel().\n",
      "  return self._fit(X, y)\n",
      "/Users/devrajdutta/opt/anaconda3/lib/python3.9/site-packages/sklearn/neighbors/_classification.py:179: DataConversionWarning: A column-vector y was passed when a 1d array was expected. Please change the shape of y to (n_samples,), for example using ravel().\n",
      "  return self._fit(X, y)\n",
      "/Users/devrajdutta/opt/anaconda3/lib/python3.9/site-packages/sklearn/neighbors/_classification.py:179: DataConversionWarning: A column-vector y was passed when a 1d array was expected. Please change the shape of y to (n_samples,), for example using ravel().\n",
      "  return self._fit(X, y)\n",
      "/Users/devrajdutta/opt/anaconda3/lib/python3.9/site-packages/sklearn/neighbors/_classification.py:179: DataConversionWarning: A column-vector y was passed when a 1d array was expected. Please change the shape of y to (n_samples,), for example using ravel().\n",
      "  return self._fit(X, y)\n",
      "/Users/devrajdutta/opt/anaconda3/lib/python3.9/site-packages/sklearn/neighbors/_classification.py:179: DataConversionWarning: A column-vector y was passed when a 1d array was expected. Please change the shape of y to (n_samples,), for example using ravel().\n",
      "  return self._fit(X, y)\n",
      "/Users/devrajdutta/opt/anaconda3/lib/python3.9/site-packages/sklearn/neighbors/_classification.py:179: DataConversionWarning: A column-vector y was passed when a 1d array was expected. Please change the shape of y to (n_samples,), for example using ravel().\n",
      "  return self._fit(X, y)\n"
     ]
    },
    {
     "name": "stderr",
     "output_type": "stream",
     "text": [
      "/Users/devrajdutta/opt/anaconda3/lib/python3.9/site-packages/sklearn/neighbors/_classification.py:179: DataConversionWarning: A column-vector y was passed when a 1d array was expected. Please change the shape of y to (n_samples,), for example using ravel().\n",
      "  return self._fit(X, y)\n",
      "/Users/devrajdutta/opt/anaconda3/lib/python3.9/site-packages/sklearn/neighbors/_classification.py:179: DataConversionWarning: A column-vector y was passed when a 1d array was expected. Please change the shape of y to (n_samples,), for example using ravel().\n",
      "  return self._fit(X, y)\n",
      "/Users/devrajdutta/opt/anaconda3/lib/python3.9/site-packages/sklearn/neighbors/_classification.py:179: DataConversionWarning: A column-vector y was passed when a 1d array was expected. Please change the shape of y to (n_samples,), for example using ravel().\n",
      "  return self._fit(X, y)\n",
      "/Users/devrajdutta/opt/anaconda3/lib/python3.9/site-packages/sklearn/neighbors/_classification.py:179: DataConversionWarning: A column-vector y was passed when a 1d array was expected. Please change the shape of y to (n_samples,), for example using ravel().\n",
      "  return self._fit(X, y)\n",
      "/Users/devrajdutta/opt/anaconda3/lib/python3.9/site-packages/sklearn/neighbors/_classification.py:179: DataConversionWarning: A column-vector y was passed when a 1d array was expected. Please change the shape of y to (n_samples,), for example using ravel().\n",
      "  return self._fit(X, y)\n",
      "/Users/devrajdutta/opt/anaconda3/lib/python3.9/site-packages/sklearn/neighbors/_classification.py:179: DataConversionWarning: A column-vector y was passed when a 1d array was expected. Please change the shape of y to (n_samples,), for example using ravel().\n",
      "  return self._fit(X, y)\n",
      "/Users/devrajdutta/opt/anaconda3/lib/python3.9/site-packages/sklearn/neighbors/_classification.py:179: DataConversionWarning: A column-vector y was passed when a 1d array was expected. Please change the shape of y to (n_samples,), for example using ravel().\n",
      "  return self._fit(X, y)\n",
      "/Users/devrajdutta/opt/anaconda3/lib/python3.9/site-packages/sklearn/neighbors/_classification.py:179: DataConversionWarning: A column-vector y was passed when a 1d array was expected. Please change the shape of y to (n_samples,), for example using ravel().\n",
      "  return self._fit(X, y)\n",
      "/Users/devrajdutta/opt/anaconda3/lib/python3.9/site-packages/sklearn/neighbors/_classification.py:179: DataConversionWarning: A column-vector y was passed when a 1d array was expected. Please change the shape of y to (n_samples,), for example using ravel().\n",
      "  return self._fit(X, y)\n",
      "/Users/devrajdutta/opt/anaconda3/lib/python3.9/site-packages/sklearn/neighbors/_classification.py:179: DataConversionWarning: A column-vector y was passed when a 1d array was expected. Please change the shape of y to (n_samples,), for example using ravel().\n",
      "  return self._fit(X, y)\n"
     ]
    },
    {
     "data": {
      "image/png": "[encoded data removed]",
      "text/plain": [
       "<Figure size 720x432 with 1 Axes>"
      ]
     },
     "metadata": {
      "needs_background": "light"
     },
     "output_type": "display_data"
    },
    {
     "name": "stdout",
     "output_type": "stream",
     "text": [
      "Minimum error:- 0.1681519929487807 at K = 10\n"
     ]
    }
   ],
   "source": [
    "from matplotlib import pyplot as plt\n",
    "error_rate = []\n",
    "for i in range(1,40):\n",
    " knn = KNeighborsClassifier(n_neighbors=i)\n",
    " knn.fit(x_train,y_train)\n",
    " pred_i = knn.predict(x_test)\n",
    " #print (pred_i)\n",
    " #print (1-accuracy_score(y_test, pred_i))\n",
    " error_rate.append(1-accuracy_score(y_test, pred_i))\n",
    "\n",
    "plt.figure(figsize=(10,6))\n",
    "plt.plot(range(1,40),error_rate,color='blue', linestyle='dashed', \n",
    "         marker='o',markerfacecolor='red', markersize=10)\n",
    "plt.title('Error Rate vs. K Value')\n",
    "plt.xlabel('K')\n",
    "plt.ylabel('Error Rate')\n",
    "plt.show()\n",
    "print(\"Minimum error:-\",min(error_rate),\"at K =\",error_rate.index(min(error_rate))+1)"
   ]
  },
  {
   "cell_type": "code",
   "execution_count": 29,
   "id": "35c3a8c5",
   "metadata": {},
   "outputs": [
    {
     "name": "stderr",
     "output_type": "stream",
     "text": [
      "/Users/devrajdutta/opt/anaconda3/lib/python3.9/site-packages/sklearn/neighbors/_classification.py:179: DataConversionWarning: A column-vector y was passed when a 1d array was expected. Please change the shape of y to (n_samples,), for example using ravel().\n",
      "  return self._fit(X, y)\n"
     ]
    },
    {
     "data": {
      "text/plain": [
       "KNeighborsClassifier(metric='euclidean', n_neighbors=10)"
      ]
     },
     "execution_count": 29,
     "metadata": {},
     "output_type": "execute_result"
    }
   ],
   "source": [
    "knn = KNeighborsClassifier(n_neighbors=10, metric='euclidean')\n",
    "knn.fit(x_train, y_train)"
   ]
  },
  {
   "cell_type": "code",
   "execution_count": 30,
   "id": "e6c1832c",
   "metadata": {},
   "outputs": [],
   "source": [
    "y_pred = knn.predict(X_test)"
   ]
  },
  {
   "cell_type": "code",
   "execution_count": 31,
   "id": "7ccd178e",
   "metadata": {},
   "outputs": [
    {
     "data": {
      "text/plain": [
       "0.8318480070512193"
      ]
     },
     "execution_count": 31,
     "metadata": {},
     "output_type": "execute_result"
    }
   ],
   "source": [
    "y_pred = knn.predict(x_test)\n",
    "accuracy_score(y_test, y_pred)"
   ]
  },
  {
   "cell_type": "code",
   "execution_count": 32,
   "id": "ac89dcab",
   "metadata": {},
   "outputs": [],
   "source": [
    "import os\n",
    "from sklearn.compose import ColumnTransformer as ct\n",
    "from sklearn.preprocessing import StandardScaler as ss\n",
    "from sklearn.preprocessing import OneHotEncoder as ohe\n",
    "from sklearn.tree import DecisionTreeClassifier as dt"
   ]
  },
  {
   "cell_type": "code",
   "execution_count": 33,
   "id": "7dd4cf43",
   "metadata": {},
   "outputs": [],
   "source": [
    "X_train, X_test, Y_train, Y_test = train_test_split(x, y, test_size = 0.25, random_state = 0)"
   ]
  },
  {
   "cell_type": "code",
   "execution_count": 34,
   "id": "a1bf3500",
   "metadata": {},
   "outputs": [],
   "source": [
    "sc = ss()\n",
    "X_train = sc.fit_transform(X_train)\n",
    "X_test = sc.transform(X_test)"
   ]
  },
  {
   "cell_type": "code",
   "execution_count": 35,
   "id": "acb6dab7",
   "metadata": {},
   "outputs": [],
   "source": [
    "classifier = dt(criterion = 'entropy', random_state = 0)\n",
    "classifier.fit(X_train, Y_train)\n",
    "\n",
    "Y_pred = classifier.predict(X_test)"
   ]
  },
  {
   "cell_type": "code",
   "execution_count": 36,
   "id": "01905f42",
   "metadata": {},
   "outputs": [
    {
     "name": "stdout",
     "output_type": "stream",
     "text": [
      "Predicted Values :  [0 0 0 0 0 0 0 0 0 0 0 0 0 0 0 0 0 0 0 0 0 0 0 0 0 0 0 0 0 0 0 0 0 0 0 0 0\n",
      " 0 0 0 0 0 0 0 0 0 0 0 0 0 0 0 0 0 0 0 0 0 0]\n"
     ]
    }
   ],
   "source": [
    "print(\"Predicted Values : \",Y_pred[1:60])"
   ]
  },
  {
   "cell_type": "code",
   "execution_count": 37,
   "id": "ea51aa39",
   "metadata": {},
   "outputs": [
    {
     "name": "stdout",
     "output_type": "stream",
     "text": [
      "Accuracy: 0.8309666046420527\n"
     ]
    }
   ],
   "source": [
    "print(\"Accuracy:\",accuracy_score(Y_test, Y_pred))"
   ]
  },
  {
   "cell_type": "code",
   "execution_count": 38,
   "id": "79148ea7",
   "metadata": {},
   "outputs": [
    {
     "data": {
      "text/plain": [
       "[Text(409.4325, 359.38, 'X[1] <= 0.549\\nentropy = 0.648\\nsamples = 30630\\nvalue = [25557, 5073]'),\n",
       " Text(208.78500000000003, 317.09999999999997, 'X[0] <= -0.6\\nentropy = 0.679\\nsamples = 21995\\nvalue = [18044, 3951]'),\n",
       " Text(96.72, 274.82, 'X[0] <= -0.872\\nentropy = 0.72\\nsamples = 8415\\nvalue = [6742, 1673]'),\n",
       " Text(59.52, 232.53999999999996, 'X[0] <= -1.145\\nentropy = 0.713\\nsamples = 7572\\nvalue = [6090, 1482]'),\n",
       " Text(29.76, 190.26, 'X[1] <= -1.095\\nentropy = 0.745\\nsamples = 2378\\nvalue = [1874, 504]'),\n",
       " Text(14.88, 147.97999999999996, 'entropy = 0.786\\nsamples = 511\\nvalue = [391, 120]'),\n",
       " Text(44.64, 147.97999999999996, 'entropy = 0.733\\nsamples = 1867\\nvalue = [1483, 384]'),\n",
       " Text(89.28, 190.26, 'X[1] <= -1.095\\nentropy = 0.698\\nsamples = 5194\\nvalue = [4216, 978]'),\n",
       " Text(74.4, 147.97999999999996, 'entropy = 0.703\\nsamples = 509\\nvalue = [412, 97]'),\n",
       " Text(104.16000000000001, 147.97999999999996, 'entropy = 0.697\\nsamples = 4685\\nvalue = [3804, 881]'),\n",
       " Text(133.92000000000002, 232.53999999999996, 'X[1] <= -1.095\\nentropy = 0.772\\nsamples = 843\\nvalue = [652, 191]'),\n",
       " Text(119.04, 190.26, 'entropy = 0.725\\nsamples = 114\\nvalue = [91, 23]'),\n",
       " Text(148.8, 190.26, 'entropy = 0.779\\nsamples = 729\\nvalue = [561, 168]'),\n",
       " Text(320.85, 274.82, 'X[0] <= 0.488\\nentropy = 0.653\\nsamples = 13580\\nvalue = [11302, 2278]'),\n",
       " Text(215.76000000000002, 232.53999999999996, 'X[0] <= -0.328\\nentropy = 0.596\\nsamples = 6690\\nvalue = [5724, 966]'),\n",
       " Text(178.56, 190.26, 'X[1] <= -1.095\\nentropy = 0.562\\nsamples = 783\\nvalue = [680, 103]'),\n",
       " Text(163.68, 147.97999999999996, 'entropy = 0.365\\nsamples = 129\\nvalue = [120, 9]'),\n",
       " Text(193.44, 147.97999999999996, 'entropy = 0.594\\nsamples = 654\\nvalue = [560, 94]'),\n",
       " Text(252.96, 190.26, 'X[1] <= -1.095\\nentropy = 0.6\\nsamples = 5907\\nvalue = [5044, 863]'),\n",
       " Text(223.20000000000002, 147.97999999999996, 'X[0] <= -0.056\\nentropy = 0.636\\nsamples = 1038\\nvalue = [871, 167]'),\n",
       " Text(208.32000000000002, 105.69999999999999, 'entropy = 0.648\\nsamples = 741\\nvalue = [618, 123]'),\n",
       " Text(238.08, 105.69999999999999, 'X[0] <= 0.216\\nentropy = 0.605\\nsamples = 297\\nvalue = [253, 44]'),\n",
       " Text(223.20000000000002, 63.41999999999996, 'entropy = 0.0\\nsamples = 8\\nvalue = [8, 0]'),\n",
       " Text(252.96, 63.41999999999996, 'entropy = 0.615\\nsamples = 289\\nvalue = [245, 44]'),\n",
       " Text(282.72, 147.97999999999996, 'X[0] <= -0.056\\nentropy = 0.592\\nsamples = 4869\\nvalue = [4173, 696]'),\n",
       " Text(267.84000000000003, 105.69999999999999, 'entropy = 0.598\\nsamples = 3630\\nvalue = [3102, 528]'),\n",
       " Text(297.6, 105.69999999999999, 'X[0] <= 0.216\\nentropy = 0.573\\nsamples = 1239\\nvalue = [1071, 168]'),\n",
       " Text(282.72, 63.41999999999996, 'entropy = 0.0\\nsamples = 86\\nvalue = [86, 0]'),\n",
       " Text(312.48, 63.41999999999996, 'entropy = 0.599\\nsamples = 1153\\nvalue = [985, 168]'),\n",
       " Text(425.94, 232.53999999999996, 'X[0] <= 1.577\\nentropy = 0.702\\nsamples = 6890\\nvalue = [5578, 1312]'),\n",
       " Text(383.16, 190.26, 'X[0] <= 0.761\\nentropy = 0.719\\nsamples = 6244\\nvalue = [5003, 1241]'),\n",
       " Text(342.24, 147.97999999999996, 'X[1] <= -1.095\\nentropy = 0.658\\nsamples = 765\\nvalue = [635, 130]'),\n",
       " Text(327.36, 105.69999999999999, 'entropy = 0.709\\nsamples = 93\\nvalue = [75, 18]'),\n",
       " Text(357.12, 105.69999999999999, 'entropy = 0.65\\nsamples = 672\\nvalue = [560, 112]'),\n",
       " Text(424.08000000000004, 147.97999999999996, 'X[0] <= 1.033\\nentropy = 0.727\\nsamples = 5479\\nvalue = [4368, 1111]'),\n",
       " Text(386.88, 105.69999999999999, 'X[1] <= -1.095\\nentropy = 0.767\\nsamples = 2046\\nvalue = [1588, 458]'),\n",
       " Text(372.0, 63.41999999999996, 'entropy = 0.781\\nsamples = 375\\nvalue = [288, 87]'),\n",
       " Text(401.76000000000005, 63.41999999999996, 'entropy = 0.764\\nsamples = 1671\\nvalue = [1300, 371]'),\n",
       " Text(461.28000000000003, 105.69999999999999, 'X[0] <= 1.305\\nentropy = 0.702\\nsamples = 3433\\nvalue = [2780, 653]'),\n",
       " Text(431.52000000000004, 63.41999999999996, 'X[1] <= -1.095\\nentropy = 0.196\\nsamples = 33\\nvalue = [32, 1]'),\n",
       " Text(416.64000000000004, 21.139999999999986, 'entropy = 0.0\\nsamples = 4\\nvalue = [4, 0]'),\n",
       " Text(446.40000000000003, 21.139999999999986, 'entropy = 0.216\\nsamples = 29\\nvalue = [28, 1]'),\n",
       " Text(491.04, 63.41999999999996, 'X[1] <= -1.095\\nentropy = 0.705\\nsamples = 3400\\nvalue = [2748, 652]'),\n",
       " Text(476.16, 21.139999999999986, 'entropy = 0.749\\nsamples = 659\\nvalue = [518, 141]'),\n",
       " Text(505.92, 21.139999999999986, 'entropy = 0.694\\nsamples = 2741\\nvalue = [2230, 511]'),\n",
       " Text(468.72, 190.26, 'X[1] <= -1.095\\nentropy = 0.5\\nsamples = 646\\nvalue = [575, 71]'),\n",
       " Text(453.84000000000003, 147.97999999999996, 'entropy = 0.325\\nsamples = 118\\nvalue = [111, 7]'),\n",
       " Text(483.6, 147.97999999999996, 'entropy = 0.533\\nsamples = 528\\nvalue = [464, 64]'),\n",
       " Text(610.08, 317.09999999999997, 'X[0] <= -0.6\\nentropy = 0.557\\nsamples = 8635\\nvalue = [7513, 1122]'),\n",
       " Text(580.32, 274.82, 'X[0] <= -0.872\\nentropy = 0.644\\nsamples = 2667\\nvalue = [2229, 438]'),\n",
       " Text(565.44, 232.53999999999996, 'X[0] <= -1.145\\nentropy = 0.636\\nsamples = 2511\\nvalue = [2107, 404]'),\n",
       " Text(550.5600000000001, 190.26, 'entropy = 0.646\\nsamples = 1170\\nvalue = [977, 193]'),\n",
       " Text(580.32, 190.26, 'entropy = 0.628\\nsamples = 1341\\nvalue = [1130, 211]'),\n",
       " Text(595.2, 232.53999999999996, 'entropy = 0.756\\nsamples = 156\\nvalue = [122, 34]'),\n",
       " Text(639.84, 274.82, 'X[0] <= 1.577\\nentropy = 0.514\\nsamples = 5968\\nvalue = [5284, 684]'),\n",
       " Text(624.96, 232.53999999999996, 'X[0] <= 1.305\\nentropy = 0.523\\nsamples = 5677\\nvalue = [5009, 668]'),\n",
       " Text(610.08, 190.26, 'X[0] <= 1.033\\nentropy = 0.484\\nsamples = 3870\\nvalue = [3465, 405]'),\n",
       " Text(595.2, 147.97999999999996, 'X[0] <= 0.216\\nentropy = 0.525\\nsamples = 3373\\nvalue = [2973, 400]'),\n",
       " Text(565.44, 105.69999999999999, 'X[0] <= -0.056\\nentropy = 0.462\\nsamples = 2167\\nvalue = [1955, 212]'),\n",
       " Text(550.5600000000001, 63.41999999999996, 'X[0] <= -0.328\\nentropy = 0.466\\nsamples = 2139\\nvalue = [1927, 212]'),\n",
       " Text(535.6800000000001, 21.139999999999986, 'entropy = 0.34\\nsamples = 95\\nvalue = [89, 6]'),\n",
       " Text(565.44, 21.139999999999986, 'entropy = 0.471\\nsamples = 2044\\nvalue = [1838, 206]'),\n",
       " Text(580.32, 63.41999999999996, 'entropy = 0.0\\nsamples = 28\\nvalue = [28, 0]'),\n",
       " Text(624.96, 105.69999999999999, 'X[0] <= 0.761\\nentropy = 0.624\\nsamples = 1206\\nvalue = [1018, 188]'),\n",
       " Text(610.08, 63.41999999999996, 'X[0] <= 0.488\\nentropy = 0.559\\nsamples = 391\\nvalue = [340, 51]'),\n",
       " Text(595.2, 21.139999999999986, 'entropy = 0.631\\nsamples = 82\\nvalue = [69, 13]'),\n",
       " Text(624.96, 21.139999999999986, 'entropy = 0.538\\nsamples = 309\\nvalue = [271, 38]'),\n",
       " Text(639.84, 63.41999999999996, 'entropy = 0.653\\nsamples = 815\\nvalue = [678, 137]'),\n",
       " Text(624.96, 147.97999999999996, 'entropy = 0.081\\nsamples = 497\\nvalue = [492, 5]'),\n",
       " Text(639.84, 190.26, 'entropy = 0.599\\nsamples = 1807\\nvalue = [1544, 263]'),\n",
       " Text(654.72, 232.53999999999996, 'entropy = 0.307\\nsamples = 291\\nvalue = [275, 16]')]"
      ]
     },
     "execution_count": 38,
     "metadata": {},
     "output_type": "execute_result"
    },
    {
     "data": {
      "image/png": "[encoded data removed]",
      "text/plain": [
       "<Figure size 864x504 with 1 Axes>"
      ]
     },
     "metadata": {
      "needs_background": "light"
     },
     "output_type": "display_data"
    }
   ],
   "source": [
    "from sklearn import tree\n",
    "plt.figure(figsize=(12,7))\n",
    "tree.plot_tree(classifier, filled=True, fontsize=12)"
   ]
  },
  {
   "cell_type": "code",
   "execution_count": 39,
   "id": "3e8f5913",
   "metadata": {},
   "outputs": [
    {
     "data": {
      "image/png": "[encoded data removed]",
      "text/plain": [
       "<Figure size 1440x1440 with 2 Axes>"
      ]
     },
     "metadata": {
      "needs_background": "light"
     },
     "output_type": "display_data"
    }
   ],
   "source": [
    "import seaborn as sns\n",
    "plt.figure(figsize=(20,20))\n",
    "sns.heatmap(x.corr(), center=0, annot=True)\n",
    "plt.title(\"Corr Map\")\n",
    "plt.show()"
   ]
  },
  {
   "cell_type": "code",
   "execution_count": 40,
   "id": "c8db1297",
   "metadata": {},
   "outputs": [
    {
     "data": {
      "image/png": "[encoded data removed]",
      "text/plain": [
       "<Figure size 1440x1440 with 4 Axes>"
      ]
     },
     "metadata": {
      "needs_background": "light"
     },
     "output_type": "display_data"
    }
   ],
   "source": [
    "X_dataframe = x\n",
    "\n",
    "grr = pd.plotting.scatter_matrix(X_dataframe, figsize=(20, 20), marker='o', hist_kwds={'bins': 20}, s=10, alpha=.8)"
   ]
  },
  {
   "cell_type": "code",
   "execution_count": 41,
   "id": "4a427053",
   "metadata": {},
   "outputs": [
    {
     "name": "stdout",
     "output_type": "stream",
     "text": [
      "Accuracy: 0.8309666046420527\n"
     ]
    }
   ],
   "source": [
    "print(\"Accuracy:\",accuracy_score(Y_test, Y_pred))"
   ]
  },
  {
   "cell_type": "code",
   "execution_count": null,
   "id": "6ed8687c",
   "metadata": {},
   "outputs": [],
   "source": []
  }
 ],
 "metadata": {
  "kernelspec": {
   "display_name": "Python 3 (ipykernel)",
   "language": "python",
   "name": "python3"
  },
  "language_info": {
   "codemirror_mode": {
    "name": "ipython",
    "version": 3
   },
   "file_extension": ".py",
   "mimetype": "text/x-python",
   "name": "python",
   "nbconvert_exporter": "python",
   "pygments_lexer": "ipython3",
   "version": "3.9.7"
  }
 },
 "nbformat": 4,
 "nbformat_minor": 5
}
