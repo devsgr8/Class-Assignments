{
 "cells": [
  {
   "cell_type": "code",
   "execution_count": 47,
   "id": "46f40a4c",
   "metadata": {},
   "outputs": [],
   "source": [
    "import numpy as np\n",
    "import pandas as pd\n",
    "from matplotlib import pyplot as plt\n",
    "from sklearn.metrics import confusion_matrix\n",
    "from sklearn.neighbors import KNeighborsClassifier\n",
    "from sklearn.model_selection import train_test_split\n",
    "import seaborn as sns\n",
    "sns.set()"
   ]
  },
  {
   "cell_type": "code",
   "execution_count": 53,
   "id": "5cdb8821",
   "metadata": {},
   "outputs": [],
   "source": [
    "df  = pd.read_csv(\"/Users/devrajdutta/Downloads/MLP Files/german_credit_data.csv\")"
   ]
  },
  {
   "cell_type": "code",
   "execution_count": 54,
   "id": "3ef17daf",
   "metadata": {},
   "outputs": [
    {
     "data": {
      "text/html": [
       "<div>\n",
       "<style scoped>\n",
       "    .dataframe tbody tr th:only-of-type {\n",
       "        vertical-align: middle;\n",
       "    }\n",
       "\n",
       "    .dataframe tbody tr th {\n",
       "        vertical-align: top;\n",
       "    }\n",
       "\n",
       "    .dataframe thead th {\n",
       "        text-align: right;\n",
       "    }\n",
       "</style>\n",
       "<table border=\"1\" class=\"dataframe\">\n",
       "  <thead>\n",
       "    <tr style=\"text-align: right;\">\n",
       "      <th></th>\n",
       "      <th>Unnamed: 0</th>\n",
       "      <th>Age</th>\n",
       "      <th>Sex</th>\n",
       "      <th>Job</th>\n",
       "      <th>Housing</th>\n",
       "      <th>Savingaccounts</th>\n",
       "      <th>Checkingaccount</th>\n",
       "      <th>Creditamount</th>\n",
       "      <th>Duration</th>\n",
       "      <th>Purpose</th>\n",
       "      <th>Risk</th>\n",
       "    </tr>\n",
       "  </thead>\n",
       "  <tbody>\n",
       "    <tr>\n",
       "      <th>0</th>\n",
       "      <td>0</td>\n",
       "      <td>67</td>\n",
       "      <td>male</td>\n",
       "      <td>2</td>\n",
       "      <td>own</td>\n",
       "      <td>NaN</td>\n",
       "      <td>little</td>\n",
       "      <td>1169</td>\n",
       "      <td>6</td>\n",
       "      <td>radio/TV</td>\n",
       "      <td>good</td>\n",
       "    </tr>\n",
       "    <tr>\n",
       "      <th>1</th>\n",
       "      <td>1</td>\n",
       "      <td>22</td>\n",
       "      <td>female</td>\n",
       "      <td>2</td>\n",
       "      <td>own</td>\n",
       "      <td>little</td>\n",
       "      <td>moderate</td>\n",
       "      <td>5951</td>\n",
       "      <td>48</td>\n",
       "      <td>radio/TV</td>\n",
       "      <td>bad</td>\n",
       "    </tr>\n",
       "    <tr>\n",
       "      <th>2</th>\n",
       "      <td>2</td>\n",
       "      <td>49</td>\n",
       "      <td>male</td>\n",
       "      <td>1</td>\n",
       "      <td>own</td>\n",
       "      <td>little</td>\n",
       "      <td>NaN</td>\n",
       "      <td>2096</td>\n",
       "      <td>12</td>\n",
       "      <td>education</td>\n",
       "      <td>good</td>\n",
       "    </tr>\n",
       "  </tbody>\n",
       "</table>\n",
       "</div>"
      ],
      "text/plain": [
       "   Unnamed: 0  Age     Sex  Job Housing Savingaccounts Checkingaccount  \\\n",
       "0           0   67    male    2     own            NaN          little   \n",
       "1           1   22  female    2     own         little        moderate   \n",
       "2           2   49    male    1     own         little             NaN   \n",
       "\n",
       "   Creditamount  Duration    Purpose  Risk  \n",
       "0          1169         6   radio/TV  good  \n",
       "1          5951        48   radio/TV   bad  \n",
       "2          2096        12  education  good  "
      ]
     },
     "execution_count": 54,
     "metadata": {},
     "output_type": "execute_result"
    }
   ],
   "source": [
    "df.head(3)"
   ]
  },
  {
   "cell_type": "code",
   "execution_count": 55,
   "id": "178bb8b6",
   "metadata": {},
   "outputs": [
    {
     "name": "stdout",
     "output_type": "stream",
     "text": [
      "Unnamed: 0           0\n",
      "Age                  0\n",
      "Sex                  0\n",
      "Job                  0\n",
      "Housing              0\n",
      "Savingaccounts     183\n",
      "Checkingaccount    394\n",
      "Creditamount         0\n",
      "Duration             0\n",
      "Purpose              0\n",
      "Risk                 0\n",
      "dtype: int64\n"
     ]
    }
   ],
   "source": [
    "## DATA PRE-PROCESSING\n",
    "\n",
    "#Finding out missing values in each column\n",
    "print(df.isna().sum())\n",
    "missing_status=df.isna().sum()"
   ]
  },
  {
   "cell_type": "code",
   "execution_count": 56,
   "id": "49ead11c",
   "metadata": {},
   "outputs": [],
   "source": [
    "df.dropna(subset = [\"Savingaccounts\",\"Checkingaccount\"], inplace=True)"
   ]
  },
  {
   "cell_type": "code",
   "execution_count": 57,
   "id": "09010084",
   "metadata": {},
   "outputs": [
    {
     "data": {
      "text/html": [
       "<div>\n",
       "<style scoped>\n",
       "    .dataframe tbody tr th:only-of-type {\n",
       "        vertical-align: middle;\n",
       "    }\n",
       "\n",
       "    .dataframe tbody tr th {\n",
       "        vertical-align: top;\n",
       "    }\n",
       "\n",
       "    .dataframe thead th {\n",
       "        text-align: right;\n",
       "    }\n",
       "</style>\n",
       "<table border=\"1\" class=\"dataframe\">\n",
       "  <thead>\n",
       "    <tr style=\"text-align: right;\">\n",
       "      <th></th>\n",
       "      <th>Unnamed: 0</th>\n",
       "      <th>Age</th>\n",
       "      <th>Sex</th>\n",
       "      <th>Job</th>\n",
       "      <th>Housing</th>\n",
       "      <th>Savingaccounts</th>\n",
       "      <th>Checkingaccount</th>\n",
       "      <th>Creditamount</th>\n",
       "      <th>Duration</th>\n",
       "      <th>Purpose</th>\n",
       "      <th>Risk</th>\n",
       "    </tr>\n",
       "  </thead>\n",
       "  <tbody>\n",
       "    <tr>\n",
       "      <th>1</th>\n",
       "      <td>1</td>\n",
       "      <td>22</td>\n",
       "      <td>female</td>\n",
       "      <td>2</td>\n",
       "      <td>own</td>\n",
       "      <td>little</td>\n",
       "      <td>moderate</td>\n",
       "      <td>5951</td>\n",
       "      <td>48</td>\n",
       "      <td>radio/TV</td>\n",
       "      <td>bad</td>\n",
       "    </tr>\n",
       "    <tr>\n",
       "      <th>3</th>\n",
       "      <td>3</td>\n",
       "      <td>45</td>\n",
       "      <td>male</td>\n",
       "      <td>2</td>\n",
       "      <td>free</td>\n",
       "      <td>little</td>\n",
       "      <td>little</td>\n",
       "      <td>7882</td>\n",
       "      <td>42</td>\n",
       "      <td>furniture/equipment</td>\n",
       "      <td>good</td>\n",
       "    </tr>\n",
       "    <tr>\n",
       "      <th>4</th>\n",
       "      <td>4</td>\n",
       "      <td>53</td>\n",
       "      <td>male</td>\n",
       "      <td>2</td>\n",
       "      <td>free</td>\n",
       "      <td>little</td>\n",
       "      <td>little</td>\n",
       "      <td>4870</td>\n",
       "      <td>24</td>\n",
       "      <td>car</td>\n",
       "      <td>bad</td>\n",
       "    </tr>\n",
       "    <tr>\n",
       "      <th>7</th>\n",
       "      <td>7</td>\n",
       "      <td>35</td>\n",
       "      <td>male</td>\n",
       "      <td>3</td>\n",
       "      <td>rent</td>\n",
       "      <td>little</td>\n",
       "      <td>moderate</td>\n",
       "      <td>6948</td>\n",
       "      <td>36</td>\n",
       "      <td>car</td>\n",
       "      <td>good</td>\n",
       "    </tr>\n",
       "    <tr>\n",
       "      <th>9</th>\n",
       "      <td>9</td>\n",
       "      <td>28</td>\n",
       "      <td>male</td>\n",
       "      <td>3</td>\n",
       "      <td>own</td>\n",
       "      <td>little</td>\n",
       "      <td>moderate</td>\n",
       "      <td>5234</td>\n",
       "      <td>30</td>\n",
       "      <td>car</td>\n",
       "      <td>bad</td>\n",
       "    </tr>\n",
       "  </tbody>\n",
       "</table>\n",
       "</div>"
      ],
      "text/plain": [
       "   Unnamed: 0  Age     Sex  Job Housing Savingaccounts Checkingaccount  \\\n",
       "1           1   22  female    2     own         little        moderate   \n",
       "3           3   45    male    2    free         little          little   \n",
       "4           4   53    male    2    free         little          little   \n",
       "7           7   35    male    3    rent         little        moderate   \n",
       "9           9   28    male    3     own         little        moderate   \n",
       "\n",
       "   Creditamount  Duration              Purpose  Risk  \n",
       "1          5951        48             radio/TV   bad  \n",
       "3          7882        42  furniture/equipment  good  \n",
       "4          4870        24                  car   bad  \n",
       "7          6948        36                  car  good  \n",
       "9          5234        30                  car   bad  "
      ]
     },
     "execution_count": 57,
     "metadata": {},
     "output_type": "execute_result"
    }
   ],
   "source": [
    "df.head(5)"
   ]
  },
  {
   "cell_type": "code",
   "execution_count": 58,
   "id": "5763a980",
   "metadata": {},
   "outputs": [
    {
     "name": "stdout",
     "output_type": "stream",
     "text": [
      "Unnamed: 0         0\n",
      "Age                0\n",
      "Sex                0\n",
      "Job                0\n",
      "Housing            0\n",
      "Savingaccounts     0\n",
      "Checkingaccount    0\n",
      "Creditamount       0\n",
      "Duration           0\n",
      "Purpose            0\n",
      "Risk               0\n",
      "dtype: int64\n"
     ]
    }
   ],
   "source": [
    "print(df.isna().sum())\n",
    "missing_status=df.isna().sum()"
   ]
  },
  {
   "cell_type": "code",
   "execution_count": 59,
   "id": "09271a13",
   "metadata": {},
   "outputs": [
    {
     "data": {
      "text/plain": [
       "Index(['Unnamed: 0', 'Age', 'Sex', 'Job', 'Housing', 'Savingaccounts',\n",
       "       'Checkingaccount', 'Creditamount', 'Duration', 'Purpose', 'Risk'],\n",
       "      dtype='object')"
      ]
     },
     "execution_count": 59,
     "metadata": {},
     "output_type": "execute_result"
    }
   ],
   "source": [
    "df.columns"
   ]
  },
  {
   "cell_type": "code",
   "execution_count": 60,
   "id": "48ebba22",
   "metadata": {},
   "outputs": [
    {
     "data": {
      "text/html": [
       "<div>\n",
       "<style scoped>\n",
       "    .dataframe tbody tr th:only-of-type {\n",
       "        vertical-align: middle;\n",
       "    }\n",
       "\n",
       "    .dataframe tbody tr th {\n",
       "        vertical-align: top;\n",
       "    }\n",
       "\n",
       "    .dataframe thead th {\n",
       "        text-align: right;\n",
       "    }\n",
       "</style>\n",
       "<table border=\"1\" class=\"dataframe\">\n",
       "  <thead>\n",
       "    <tr style=\"text-align: right;\">\n",
       "      <th></th>\n",
       "      <th>Unnamed: 0</th>\n",
       "      <th>Age</th>\n",
       "      <th>Sex</th>\n",
       "      <th>Job</th>\n",
       "      <th>Housing</th>\n",
       "      <th>Savingaccounts</th>\n",
       "      <th>Checkingaccount</th>\n",
       "      <th>Creditamount</th>\n",
       "      <th>Duration</th>\n",
       "      <th>Purpose</th>\n",
       "      <th>Risk</th>\n",
       "    </tr>\n",
       "  </thead>\n",
       "  <tbody>\n",
       "    <tr>\n",
       "      <th>1</th>\n",
       "      <td>1</td>\n",
       "      <td>22</td>\n",
       "      <td>female</td>\n",
       "      <td>2</td>\n",
       "      <td>1</td>\n",
       "      <td>0</td>\n",
       "      <td>moderate</td>\n",
       "      <td>5951</td>\n",
       "      <td>48</td>\n",
       "      <td>radio/TV</td>\n",
       "      <td>0</td>\n",
       "    </tr>\n",
       "    <tr>\n",
       "      <th>3</th>\n",
       "      <td>3</td>\n",
       "      <td>45</td>\n",
       "      <td>male</td>\n",
       "      <td>2</td>\n",
       "      <td>0</td>\n",
       "      <td>0</td>\n",
       "      <td>little</td>\n",
       "      <td>7882</td>\n",
       "      <td>42</td>\n",
       "      <td>furniture/equipment</td>\n",
       "      <td>1</td>\n",
       "    </tr>\n",
       "    <tr>\n",
       "      <th>4</th>\n",
       "      <td>4</td>\n",
       "      <td>53</td>\n",
       "      <td>male</td>\n",
       "      <td>2</td>\n",
       "      <td>0</td>\n",
       "      <td>0</td>\n",
       "      <td>little</td>\n",
       "      <td>4870</td>\n",
       "      <td>24</td>\n",
       "      <td>car</td>\n",
       "      <td>0</td>\n",
       "    </tr>\n",
       "    <tr>\n",
       "      <th>7</th>\n",
       "      <td>7</td>\n",
       "      <td>35</td>\n",
       "      <td>male</td>\n",
       "      <td>3</td>\n",
       "      <td>2</td>\n",
       "      <td>0</td>\n",
       "      <td>moderate</td>\n",
       "      <td>6948</td>\n",
       "      <td>36</td>\n",
       "      <td>car</td>\n",
       "      <td>1</td>\n",
       "    </tr>\n",
       "    <tr>\n",
       "      <th>9</th>\n",
       "      <td>9</td>\n",
       "      <td>28</td>\n",
       "      <td>male</td>\n",
       "      <td>3</td>\n",
       "      <td>1</td>\n",
       "      <td>0</td>\n",
       "      <td>moderate</td>\n",
       "      <td>5234</td>\n",
       "      <td>30</td>\n",
       "      <td>car</td>\n",
       "      <td>0</td>\n",
       "    </tr>\n",
       "  </tbody>\n",
       "</table>\n",
       "</div>"
      ],
      "text/plain": [
       "   Unnamed: 0  Age     Sex  Job  Housing  Savingaccounts Checkingaccount  \\\n",
       "1           1   22  female    2        1               0        moderate   \n",
       "3           3   45    male    2        0               0          little   \n",
       "4           4   53    male    2        0               0          little   \n",
       "7           7   35    male    3        2               0        moderate   \n",
       "9           9   28    male    3        1               0        moderate   \n",
       "\n",
       "   Creditamount  Duration              Purpose  Risk  \n",
       "1          5951        48             radio/TV     0  \n",
       "3          7882        42  furniture/equipment     1  \n",
       "4          4870        24                  car     0  \n",
       "7          6948        36                  car     1  \n",
       "9          5234        30                  car     0  "
      ]
     },
     "execution_count": 60,
     "metadata": {},
     "output_type": "execute_result"
    }
   ],
   "source": [
    "from sklearn.preprocessing import LabelEncoder\n",
    "le = LabelEncoder()\n",
    "df.Housing = le.fit_transform(df.Housing)\n",
    "df.Savingaccounts = le.fit_transform(df.Savingaccounts)\n",
    "df.Risk = le.fit_transform(df.Risk)\n",
    "df.head(5)"
   ]
  },
  {
   "cell_type": "code",
   "execution_count": 61,
   "id": "99b8fd46",
   "metadata": {},
   "outputs": [],
   "source": [
    "X=df[['Job','Housing','Savingaccounts']]\n",
    "Y=df[['Risk']]"
   ]
  },
  {
   "cell_type": "code",
   "execution_count": 62,
   "id": "7ece76d4",
   "metadata": {},
   "outputs": [],
   "source": [
    "X_train, X_test, Y_train, Y_test = train_test_split(X, Y, random_state=1)"
   ]
  },
  {
   "cell_type": "code",
   "execution_count": 63,
   "id": "595b9e38",
   "metadata": {},
   "outputs": [
    {
     "name": "stderr",
     "output_type": "stream",
     "text": [
      "/Users/devrajdutta/opt/anaconda3/lib/python3.9/site-packages/sklearn/neighbors/_classification.py:179: DataConversionWarning: A column-vector y was passed when a 1d array was expected. Please change the shape of y to (n_samples,), for example using ravel().\n",
      "  return self._fit(X, y)\n"
     ]
    },
    {
     "data": {
      "text/plain": [
       "KNeighborsClassifier(metric='euclidean')"
      ]
     },
     "execution_count": 63,
     "metadata": {},
     "output_type": "execute_result"
    }
   ],
   "source": [
    "knn = KNeighborsClassifier(n_neighbors=5, metric='euclidean')\n",
    "knn.fit(X_train, Y_train)"
   ]
  },
  {
   "cell_type": "code",
   "execution_count": 64,
   "id": "016f53f7",
   "metadata": {},
   "outputs": [],
   "source": [
    "Y_pred = knn.predict(X_test)"
   ]
  },
  {
   "cell_type": "code",
   "execution_count": 65,
   "id": "f9a80276",
   "metadata": {},
   "outputs": [
    {
     "data": {
      "text/plain": [
       "array([[15, 38],\n",
       "       [23, 55]])"
      ]
     },
     "execution_count": 65,
     "metadata": {},
     "output_type": "execute_result"
    }
   ],
   "source": [
    "confusion_matrix(Y_test, Y_pred)"
   ]
  },
  {
   "cell_type": "code",
   "execution_count": 66,
   "id": "fc960f83",
   "metadata": {},
   "outputs": [
    {
     "data": {
      "text/plain": [
       "0.5343511450381679"
      ]
     },
     "execution_count": 66,
     "metadata": {},
     "output_type": "execute_result"
    }
   ],
   "source": [
    "from sklearn.metrics import accuracy_score\n",
    "accuracy_score(Y_test, Y_pred)"
   ]
  },
  {
   "cell_type": "code",
   "execution_count": 67,
   "id": "54deb747",
   "metadata": {},
   "outputs": [
    {
     "name": "stderr",
     "output_type": "stream",
     "text": [
      "/Users/devrajdutta/opt/anaconda3/lib/python3.9/site-packages/sklearn/neighbors/_classification.py:179: DataConversionWarning: A column-vector y was passed when a 1d array was expected. Please change the shape of y to (n_samples,), for example using ravel().\n",
      "  return self._fit(X, y)\n",
      "/Users/devrajdutta/opt/anaconda3/lib/python3.9/site-packages/sklearn/neighbors/_classification.py:179: DataConversionWarning: A column-vector y was passed when a 1d array was expected. Please change the shape of y to (n_samples,), for example using ravel().\n",
      "  return self._fit(X, y)\n",
      "/Users/devrajdutta/opt/anaconda3/lib/python3.9/site-packages/sklearn/neighbors/_classification.py:179: DataConversionWarning: A column-vector y was passed when a 1d array was expected. Please change the shape of y to (n_samples,), for example using ravel().\n",
      "  return self._fit(X, y)\n",
      "/Users/devrajdutta/opt/anaconda3/lib/python3.9/site-packages/sklearn/neighbors/_classification.py:179: DataConversionWarning: A column-vector y was passed when a 1d array was expected. Please change the shape of y to (n_samples,), for example using ravel().\n",
      "  return self._fit(X, y)\n",
      "/Users/devrajdutta/opt/anaconda3/lib/python3.9/site-packages/sklearn/neighbors/_classification.py:179: DataConversionWarning: A column-vector y was passed when a 1d array was expected. Please change the shape of y to (n_samples,), for example using ravel().\n",
      "  return self._fit(X, y)\n",
      "/Users/devrajdutta/opt/anaconda3/lib/python3.9/site-packages/sklearn/neighbors/_classification.py:179: DataConversionWarning: A column-vector y was passed when a 1d array was expected. Please change the shape of y to (n_samples,), for example using ravel().\n",
      "  return self._fit(X, y)\n",
      "/Users/devrajdutta/opt/anaconda3/lib/python3.9/site-packages/sklearn/neighbors/_classification.py:179: DataConversionWarning: A column-vector y was passed when a 1d array was expected. Please change the shape of y to (n_samples,), for example using ravel().\n",
      "  return self._fit(X, y)\n",
      "/Users/devrajdutta/opt/anaconda3/lib/python3.9/site-packages/sklearn/neighbors/_classification.py:179: DataConversionWarning: A column-vector y was passed when a 1d array was expected. Please change the shape of y to (n_samples,), for example using ravel().\n",
      "  return self._fit(X, y)\n",
      "/Users/devrajdutta/opt/anaconda3/lib/python3.9/site-packages/sklearn/neighbors/_classification.py:179: DataConversionWarning: A column-vector y was passed when a 1d array was expected. Please change the shape of y to (n_samples,), for example using ravel().\n",
      "  return self._fit(X, y)\n",
      "/Users/devrajdutta/opt/anaconda3/lib/python3.9/site-packages/sklearn/neighbors/_classification.py:179: DataConversionWarning: A column-vector y was passed when a 1d array was expected. Please change the shape of y to (n_samples,), for example using ravel().\n",
      "  return self._fit(X, y)\n",
      "/Users/devrajdutta/opt/anaconda3/lib/python3.9/site-packages/sklearn/neighbors/_classification.py:179: DataConversionWarning: A column-vector y was passed when a 1d array was expected. Please change the shape of y to (n_samples,), for example using ravel().\n",
      "  return self._fit(X, y)\n",
      "/Users/devrajdutta/opt/anaconda3/lib/python3.9/site-packages/sklearn/neighbors/_classification.py:179: DataConversionWarning: A column-vector y was passed when a 1d array was expected. Please change the shape of y to (n_samples,), for example using ravel().\n",
      "  return self._fit(X, y)\n",
      "/Users/devrajdutta/opt/anaconda3/lib/python3.9/site-packages/sklearn/neighbors/_classification.py:179: DataConversionWarning: A column-vector y was passed when a 1d array was expected. Please change the shape of y to (n_samples,), for example using ravel().\n",
      "  return self._fit(X, y)\n",
      "/Users/devrajdutta/opt/anaconda3/lib/python3.9/site-packages/sklearn/neighbors/_classification.py:179: DataConversionWarning: A column-vector y was passed when a 1d array was expected. Please change the shape of y to (n_samples,), for example using ravel().\n",
      "  return self._fit(X, y)\n",
      "/Users/devrajdutta/opt/anaconda3/lib/python3.9/site-packages/sklearn/neighbors/_classification.py:179: DataConversionWarning: A column-vector y was passed when a 1d array was expected. Please change the shape of y to (n_samples,), for example using ravel().\n",
      "  return self._fit(X, y)\n",
      "/Users/devrajdutta/opt/anaconda3/lib/python3.9/site-packages/sklearn/neighbors/_classification.py:179: DataConversionWarning: A column-vector y was passed when a 1d array was expected. Please change the shape of y to (n_samples,), for example using ravel().\n",
      "  return self._fit(X, y)\n",
      "/Users/devrajdutta/opt/anaconda3/lib/python3.9/site-packages/sklearn/neighbors/_classification.py:179: DataConversionWarning: A column-vector y was passed when a 1d array was expected. Please change the shape of y to (n_samples,), for example using ravel().\n",
      "  return self._fit(X, y)\n",
      "/Users/devrajdutta/opt/anaconda3/lib/python3.9/site-packages/sklearn/neighbors/_classification.py:179: DataConversionWarning: A column-vector y was passed when a 1d array was expected. Please change the shape of y to (n_samples,), for example using ravel().\n",
      "  return self._fit(X, y)\n",
      "/Users/devrajdutta/opt/anaconda3/lib/python3.9/site-packages/sklearn/neighbors/_classification.py:179: DataConversionWarning: A column-vector y was passed when a 1d array was expected. Please change the shape of y to (n_samples,), for example using ravel().\n",
      "  return self._fit(X, y)\n",
      "/Users/devrajdutta/opt/anaconda3/lib/python3.9/site-packages/sklearn/neighbors/_classification.py:179: DataConversionWarning: A column-vector y was passed when a 1d array was expected. Please change the shape of y to (n_samples,), for example using ravel().\n",
      "  return self._fit(X, y)\n",
      "/Users/devrajdutta/opt/anaconda3/lib/python3.9/site-packages/sklearn/neighbors/_classification.py:179: DataConversionWarning: A column-vector y was passed when a 1d array was expected. Please change the shape of y to (n_samples,), for example using ravel().\n",
      "  return self._fit(X, y)\n",
      "/Users/devrajdutta/opt/anaconda3/lib/python3.9/site-packages/sklearn/neighbors/_classification.py:179: DataConversionWarning: A column-vector y was passed when a 1d array was expected. Please change the shape of y to (n_samples,), for example using ravel().\n",
      "  return self._fit(X, y)\n",
      "/Users/devrajdutta/opt/anaconda3/lib/python3.9/site-packages/sklearn/neighbors/_classification.py:179: DataConversionWarning: A column-vector y was passed when a 1d array was expected. Please change the shape of y to (n_samples,), for example using ravel().\n",
      "  return self._fit(X, y)\n",
      "/Users/devrajdutta/opt/anaconda3/lib/python3.9/site-packages/sklearn/neighbors/_classification.py:179: DataConversionWarning: A column-vector y was passed when a 1d array was expected. Please change the shape of y to (n_samples,), for example using ravel().\n",
      "  return self._fit(X, y)\n",
      "/Users/devrajdutta/opt/anaconda3/lib/python3.9/site-packages/sklearn/neighbors/_classification.py:179: DataConversionWarning: A column-vector y was passed when a 1d array was expected. Please change the shape of y to (n_samples,), for example using ravel().\n",
      "  return self._fit(X, y)\n",
      "/Users/devrajdutta/opt/anaconda3/lib/python3.9/site-packages/sklearn/neighbors/_classification.py:179: DataConversionWarning: A column-vector y was passed when a 1d array was expected. Please change the shape of y to (n_samples,), for example using ravel().\n",
      "  return self._fit(X, y)\n",
      "/Users/devrajdutta/opt/anaconda3/lib/python3.9/site-packages/sklearn/neighbors/_classification.py:179: DataConversionWarning: A column-vector y was passed when a 1d array was expected. Please change the shape of y to (n_samples,), for example using ravel().\n",
      "  return self._fit(X, y)\n",
      "/Users/devrajdutta/opt/anaconda3/lib/python3.9/site-packages/sklearn/neighbors/_classification.py:179: DataConversionWarning: A column-vector y was passed when a 1d array was expected. Please change the shape of y to (n_samples,), for example using ravel().\n",
      "  return self._fit(X, y)\n",
      "/Users/devrajdutta/opt/anaconda3/lib/python3.9/site-packages/sklearn/neighbors/_classification.py:179: DataConversionWarning: A column-vector y was passed when a 1d array was expected. Please change the shape of y to (n_samples,), for example using ravel().\n",
      "  return self._fit(X, y)\n",
      "/Users/devrajdutta/opt/anaconda3/lib/python3.9/site-packages/sklearn/neighbors/_classification.py:179: DataConversionWarning: A column-vector y was passed when a 1d array was expected. Please change the shape of y to (n_samples,), for example using ravel().\n",
      "  return self._fit(X, y)\n",
      "/Users/devrajdutta/opt/anaconda3/lib/python3.9/site-packages/sklearn/neighbors/_classification.py:179: DataConversionWarning: A column-vector y was passed when a 1d array was expected. Please change the shape of y to (n_samples,), for example using ravel().\n",
      "  return self._fit(X, y)\n",
      "/Users/devrajdutta/opt/anaconda3/lib/python3.9/site-packages/sklearn/neighbors/_classification.py:179: DataConversionWarning: A column-vector y was passed when a 1d array was expected. Please change the shape of y to (n_samples,), for example using ravel().\n",
      "  return self._fit(X, y)\n",
      "/Users/devrajdutta/opt/anaconda3/lib/python3.9/site-packages/sklearn/neighbors/_classification.py:179: DataConversionWarning: A column-vector y was passed when a 1d array was expected. Please change the shape of y to (n_samples,), for example using ravel().\n",
      "  return self._fit(X, y)\n",
      "/Users/devrajdutta/opt/anaconda3/lib/python3.9/site-packages/sklearn/neighbors/_classification.py:179: DataConversionWarning: A column-vector y was passed when a 1d array was expected. Please change the shape of y to (n_samples,), for example using ravel().\n",
      "  return self._fit(X, y)\n",
      "/Users/devrajdutta/opt/anaconda3/lib/python3.9/site-packages/sklearn/neighbors/_classification.py:179: DataConversionWarning: A column-vector y was passed when a 1d array was expected. Please change the shape of y to (n_samples,), for example using ravel().\n",
      "  return self._fit(X, y)\n",
      "/Users/devrajdutta/opt/anaconda3/lib/python3.9/site-packages/sklearn/neighbors/_classification.py:179: DataConversionWarning: A column-vector y was passed when a 1d array was expected. Please change the shape of y to (n_samples,), for example using ravel().\n",
      "  return self._fit(X, y)\n",
      "/Users/devrajdutta/opt/anaconda3/lib/python3.9/site-packages/sklearn/neighbors/_classification.py:179: DataConversionWarning: A column-vector y was passed when a 1d array was expected. Please change the shape of y to (n_samples,), for example using ravel().\n",
      "  return self._fit(X, y)\n",
      "/Users/devrajdutta/opt/anaconda3/lib/python3.9/site-packages/sklearn/neighbors/_classification.py:179: DataConversionWarning: A column-vector y was passed when a 1d array was expected. Please change the shape of y to (n_samples,), for example using ravel().\n",
      "  return self._fit(X, y)\n",
      "/Users/devrajdutta/opt/anaconda3/lib/python3.9/site-packages/sklearn/neighbors/_classification.py:179: DataConversionWarning: A column-vector y was passed when a 1d array was expected. Please change the shape of y to (n_samples,), for example using ravel().\n",
      "  return self._fit(X, y)\n"
     ]
    },
    {
     "data": {
      "image/png": "[encoded data removed]",
      "text/plain": [
       "<Figure size 720x432 with 1 Axes>"
      ]
     },
     "metadata": {},
     "output_type": "display_data"
    },
    {
     "name": "stdout",
     "output_type": "stream",
     "text": [
      "Minimum error:- 0.40458015267175573 at K = 11\n"
     ]
    }
   ],
   "source": [
    "error_rate = []\n",
    "for i in range(1,40):\n",
    " knn = KNeighborsClassifier(n_neighbors=i)\n",
    " knn.fit(X_train,Y_train)\n",
    " pred_i = knn.predict(X_test)\n",
    " #print (pred_i)\n",
    " #print (1-accuracy_score(y_test, pred_i))\n",
    " error_rate.append(1-accuracy_score(Y_test, pred_i))\n",
    "\n",
    "plt.figure(figsize=(10,6))\n",
    "plt.plot(range(1,40),error_rate,color='blue', linestyle='dashed', \n",
    "         marker='o',markerfacecolor='red', markersize=10)\n",
    "plt.title('Error Rate vs. K Value')\n",
    "plt.xlabel('K')\n",
    "plt.ylabel('Error Rate')\n",
    "plt.show()\n",
    "print(\"Minimum error:-\",min(error_rate),\"at K =\",error_rate.index(min(error_rate))+1)"
   ]
  },
  {
   "cell_type": "code",
   "execution_count": 68,
   "id": "2f6167bf",
   "metadata": {},
   "outputs": [
    {
     "name": "stderr",
     "output_type": "stream",
     "text": [
      "/Users/devrajdutta/opt/anaconda3/lib/python3.9/site-packages/sklearn/neighbors/_classification.py:179: DataConversionWarning: A column-vector y was passed when a 1d array was expected. Please change the shape of y to (n_samples,), for example using ravel().\n",
      "  return self._fit(X, y)\n"
     ]
    },
    {
     "data": {
      "text/plain": [
       "KNeighborsClassifier(metric='euclidean', n_neighbors=11)"
      ]
     },
     "execution_count": 68,
     "metadata": {},
     "output_type": "execute_result"
    }
   ],
   "source": [
    "knn = KNeighborsClassifier(n_neighbors=11, metric='euclidean')\n",
    "knn.fit(X_train, Y_train)"
   ]
  },
  {
   "cell_type": "code",
   "execution_count": 69,
   "id": "a6d7fedd",
   "metadata": {},
   "outputs": [],
   "source": [
    "Y_pred = knn.predict(X_test)"
   ]
  },
  {
   "cell_type": "code",
   "execution_count": 70,
   "id": "94445110",
   "metadata": {},
   "outputs": [
    {
     "data": {
      "text/plain": [
       "0.5954198473282443"
      ]
     },
     "execution_count": 70,
     "metadata": {},
     "output_type": "execute_result"
    }
   ],
   "source": [
    "accuracy_score(Y_test, Y_pred)"
   ]
  },
  {
   "cell_type": "code",
   "execution_count": 71,
   "id": "85caeab5",
   "metadata": {},
   "outputs": [],
   "source": [
    "from sklearn.preprocessing import StandardScaler\n",
    "from sklearn.tree import DecisionTreeClassifier as dtree\n",
    "from sklearn.tree import export_graphviz\n",
    "import graphviz"
   ]
  },
  {
   "cell_type": "code",
   "execution_count": 72,
   "id": "03951d3f",
   "metadata": {},
   "outputs": [],
   "source": [
    "from IPython.core.interactiveshell import InteractiveShell\n",
    "InteractiveShell.ast_node_interactivity = \"all\""
   ]
  },
  {
   "cell_type": "code",
   "execution_count": 73,
   "id": "31e3ed7a",
   "metadata": {},
   "outputs": [],
   "source": [
    "X=df[['Job','Housing','Savingaccounts']]\n",
    "Y=df[['Risk']]"
   ]
  },
  {
   "cell_type": "code",
   "execution_count": 74,
   "id": "803565b2",
   "metadata": {},
   "outputs": [
    {
     "data": {
      "text/plain": [
       "StandardScaler()"
      ]
     },
     "execution_count": 74,
     "metadata": {},
     "output_type": "execute_result"
    }
   ],
   "source": [
    "ss = StandardScaler()\n",
    "ss.fit(X)\n",
    "X = ss.transform(X)"
   ]
  },
  {
   "cell_type": "code",
   "execution_count": 75,
   "id": "8639b761",
   "metadata": {},
   "outputs": [],
   "source": [
    "X_train, X_test, Y_train, Y_test = train_test_split(X, Y, test_size = 0.3, shuffle = True, stratify = Y)"
   ]
  },
  {
   "cell_type": "code",
   "execution_count": 76,
   "id": "7fc0ed2f",
   "metadata": {},
   "outputs": [
    {
     "data": {
      "text/plain": [
       "(365, 3)"
      ]
     },
     "execution_count": 76,
     "metadata": {},
     "output_type": "execute_result"
    },
    {
     "name": "stdout",
     "output_type": "stream",
     "text": [
      "\n"
     ]
    },
    {
     "data": {
      "text/plain": [
       "(157, 3)"
      ]
     },
     "execution_count": 76,
     "metadata": {},
     "output_type": "execute_result"
    },
    {
     "name": "stdout",
     "output_type": "stream",
     "text": [
      "\n"
     ]
    }
   ],
   "source": [
    "X_train.shape \n",
    "print()\n",
    "\n",
    "X_test.shape  \n",
    "print()"
   ]
  },
  {
   "cell_type": "code",
   "execution_count": 77,
   "id": "8cdffe42",
   "metadata": {},
   "outputs": [],
   "source": [
    "ct = dtree(criterion=\"gini\", max_depth=None)"
   ]
  },
  {
   "cell_type": "code",
   "execution_count": 78,
   "id": "a6dfba94",
   "metadata": {},
   "outputs": [
    {
     "data": {
      "text/plain": [
       "DecisionTreeClassifier()"
      ]
     },
     "execution_count": 78,
     "metadata": {},
     "output_type": "execute_result"
    }
   ],
   "source": [
    "ct.fit(X_train,Y_train)"
   ]
  },
  {
   "cell_type": "code",
   "execution_count": 79,
   "id": "373da59e",
   "metadata": {},
   "outputs": [],
   "source": [
    "Y_te = ct.predict(X_test)"
   ]
  },
  {
   "cell_type": "code",
   "execution_count": 80,
   "id": "edf05312",
   "metadata": {},
   "outputs": [],
   "source": [
    "Y_te = Y_te.reshape(157,1)"
   ]
  },
  {
   "cell_type": "code",
   "execution_count": 81,
   "id": "0faa8ecc",
   "metadata": {},
   "outputs": [
    {
     "data": {
      "text/plain": [
       "Risk    0.566879\n",
       "dtype: float64"
      ]
     },
     "execution_count": 81,
     "metadata": {},
     "output_type": "execute_result"
    }
   ],
   "source": [
    "np.sum((Y_test == Y_te))/Y_test.size"
   ]
  },
  {
   "cell_type": "code",
   "execution_count": 82,
   "id": "fa066afc",
   "metadata": {},
   "outputs": [
    {
     "data": {
      "text/plain": [
       "<Figure size 864x504 with 0 Axes>"
      ]
     },
     "execution_count": 82,
     "metadata": {},
     "output_type": "execute_result"
    },
    {
     "data": {
      "text/plain": [
       "[Text(407.45625, 356.73749999999995, 'X[1] <= 0.733\\ngini = 0.494\\nsamples = 365\\nvalue = [162, 203]'),\n",
       " Text(238.31250000000003, 309.1725, 'X[1] <= -1.022\\ngini = 0.485\\nsamples = 296\\nvalue = [122, 174]'),\n",
       " Text(120.9, 261.60749999999996, 'X[0] <= 0.916\\ngini = 0.494\\nsamples = 47\\nvalue = [26, 21]'),\n",
       " Text(74.4, 214.0425, 'X[2] <= 1.522\\ngini = 0.403\\nsamples = 25\\nvalue = [18, 7]'),\n",
       " Text(37.2, 166.4775, 'X[0] <= -0.55\\ngini = 0.386\\nsamples = 23\\nvalue = [17, 6]'),\n",
       " Text(18.6, 118.91250000000002, 'gini = 0.0\\nsamples = 4\\nvalue = [4, 0]'),\n",
       " Text(55.800000000000004, 118.91250000000002, 'X[2] <= 0.207\\ngini = 0.432\\nsamples = 19\\nvalue = [13, 6]'),\n",
       " Text(37.2, 71.34749999999997, 'gini = 0.415\\nsamples = 17\\nvalue = [12, 5]'),\n",
       " Text(74.4, 71.34749999999997, 'gini = 0.5\\nsamples = 2\\nvalue = [1, 1]'),\n",
       " Text(111.60000000000001, 166.4775, 'X[0] <= -1.283\\ngini = 0.5\\nsamples = 2\\nvalue = [1, 1]'),\n",
       " Text(93.0, 118.91250000000002, 'gini = 0.0\\nsamples = 1\\nvalue = [0, 1]'),\n",
       " Text(130.20000000000002, 118.91250000000002, 'gini = 0.0\\nsamples = 1\\nvalue = [1, 0]'),\n",
       " Text(167.4, 214.0425, 'X[2] <= 0.207\\ngini = 0.463\\nsamples = 22\\nvalue = [8, 14]'),\n",
       " Text(148.8, 166.4775, 'gini = 0.472\\nsamples = 21\\nvalue = [8, 13]'),\n",
       " Text(186.0, 166.4775, 'gini = 0.0\\nsamples = 1\\nvalue = [0, 1]'),\n",
       " Text(355.725, 261.60749999999996, 'X[2] <= 2.838\\ngini = 0.474\\nsamples = 249\\nvalue = [96, 153]'),\n",
       " Text(292.95000000000005, 214.0425, 'X[0] <= -0.55\\ngini = 0.478\\nsamples = 240\\nvalue = [95, 145]'),\n",
       " Text(223.20000000000002, 166.4775, 'X[0] <= -2.016\\ngini = 0.438\\nsamples = 71\\nvalue = [23, 48]'),\n",
       " Text(204.60000000000002, 118.91250000000002, 'gini = 0.375\\nsamples = 4\\nvalue = [3, 1]'),\n",
       " Text(241.8, 118.91250000000002, 'X[2] <= 1.522\\ngini = 0.419\\nsamples = 67\\nvalue = [20, 47]'),\n",
       " Text(223.20000000000002, 71.34749999999997, 'X[2] <= 0.207\\ngini = 0.404\\nsamples = 64\\nvalue = [18, 46]'),\n",
       " Text(204.60000000000002, 23.782500000000027, 'gini = 0.4\\nsamples = 58\\nvalue = [16, 42]'),\n",
       " Text(241.8, 23.782500000000027, 'gini = 0.444\\nsamples = 6\\nvalue = [2, 4]'),\n",
       " Text(260.40000000000003, 71.34749999999997, 'gini = 0.444\\nsamples = 3\\nvalue = [2, 1]'),\n",
       " Text(362.70000000000005, 166.4775, 'X[2] <= 0.207\\ngini = 0.489\\nsamples = 169\\nvalue = [72, 97]'),\n",
       " Text(316.20000000000005, 118.91250000000002, 'X[0] <= 0.916\\ngini = 0.496\\nsamples = 131\\nvalue = [60, 71]'),\n",
       " Text(297.6, 71.34749999999997, 'gini = 0.494\\nsamples = 108\\nvalue = [48, 60]'),\n",
       " Text(334.8, 71.34749999999997, 'gini = 0.499\\nsamples = 23\\nvalue = [12, 11]'),\n",
       " Text(409.20000000000005, 118.91250000000002, 'X[2] <= 1.522\\ngini = 0.432\\nsamples = 38\\nvalue = [12, 26]'),\n",
       " Text(372.0, 71.34749999999997, 'X[0] <= 0.916\\ngini = 0.459\\nsamples = 28\\nvalue = [10, 18]'),\n",
       " Text(353.40000000000003, 23.782500000000027, 'gini = 0.444\\nsamples = 24\\nvalue = [8, 16]'),\n",
       " Text(390.6, 23.782500000000027, 'gini = 0.5\\nsamples = 4\\nvalue = [2, 2]'),\n",
       " Text(446.40000000000003, 71.34749999999997, 'X[0] <= 0.916\\ngini = 0.32\\nsamples = 10\\nvalue = [2, 8]'),\n",
       " Text(427.8, 23.782500000000027, 'gini = 0.346\\nsamples = 9\\nvalue = [2, 7]'),\n",
       " Text(465.00000000000006, 23.782500000000027, 'gini = 0.0\\nsamples = 1\\nvalue = [0, 1]'),\n",
       " Text(418.50000000000006, 214.0425, 'X[0] <= -0.55\\ngini = 0.198\\nsamples = 9\\nvalue = [1, 8]'),\n",
       " Text(399.90000000000003, 166.4775, 'gini = 0.0\\nsamples = 1\\nvalue = [0, 1]'),\n",
       " Text(437.1, 166.4775, 'gini = 0.219\\nsamples = 8\\nvalue = [1, 7]'),\n",
       " Text(576.6, 309.1725, 'X[2] <= 1.522\\ngini = 0.487\\nsamples = 69\\nvalue = [40, 29]'),\n",
       " Text(539.4000000000001, 261.60749999999996, 'X[0] <= -2.016\\ngini = 0.476\\nsamples = 64\\nvalue = [39, 25]'),\n",
       " Text(520.8000000000001, 214.0425, 'gini = 0.0\\nsamples = 2\\nvalue = [2, 0]'),\n",
       " Text(558.0, 214.0425, 'X[0] <= 0.916\\ngini = 0.481\\nsamples = 62\\nvalue = [37, 25]'),\n",
       " Text(539.4000000000001, 166.4775, 'X[2] <= 0.207\\ngini = 0.472\\nsamples = 55\\nvalue = [34, 21]'),\n",
       " Text(502.20000000000005, 118.91250000000002, 'X[0] <= -0.55\\ngini = 0.466\\nsamples = 46\\nvalue = [29, 17]'),\n",
       " Text(483.6, 71.34749999999997, 'gini = 0.444\\nsamples = 6\\nvalue = [4, 2]'),\n",
       " Text(520.8000000000001, 71.34749999999997, 'gini = 0.469\\nsamples = 40\\nvalue = [25, 15]'),\n",
       " Text(576.6, 118.91250000000002, 'X[0] <= -0.55\\ngini = 0.494\\nsamples = 9\\nvalue = [5, 4]'),\n",
       " Text(558.0, 71.34749999999997, 'gini = 0.5\\nsamples = 2\\nvalue = [1, 1]'),\n",
       " Text(595.2, 71.34749999999997, 'gini = 0.49\\nsamples = 7\\nvalue = [4, 3]'),\n",
       " Text(576.6, 166.4775, 'gini = 0.49\\nsamples = 7\\nvalue = [3, 4]'),\n",
       " Text(613.8000000000001, 261.60749999999996, 'X[0] <= -0.55\\ngini = 0.32\\nsamples = 5\\nvalue = [1, 4]'),\n",
       " Text(595.2, 214.0425, 'gini = 0.0\\nsamples = 1\\nvalue = [0, 1]'),\n",
       " Text(632.4000000000001, 214.0425, 'X[2] <= 2.838\\ngini = 0.375\\nsamples = 4\\nvalue = [1, 3]'),\n",
       " Text(613.8000000000001, 166.4775, 'gini = 0.0\\nsamples = 1\\nvalue = [0, 1]'),\n",
       " Text(651.0, 166.4775, 'gini = 0.444\\nsamples = 3\\nvalue = [1, 2]')]"
      ]
     },
     "execution_count": 82,
     "metadata": {},
     "output_type": "execute_result"
    },
    {
     "data": {
      "image/png": "[encoded data removed]",
      "text/plain": [
       "<Figure size 864x504 with 1 Axes>"
      ]
     },
     "metadata": {},
     "output_type": "display_data"
    }
   ],
   "source": [
    "from sklearn import tree\n",
    "plt.figure(figsize=(12,7))\n",
    "tree.plot_tree(ct, filled=True, fontsize=12)"
   ]
  },
  {
   "cell_type": "code",
   "execution_count": 83,
   "id": "e79ff0a1",
   "metadata": {},
   "outputs": [],
   "source": [
    "from sklearn.ensemble import RandomForestRegressor\n",
    "from sklearn.metrics import mean_absolute_error"
   ]
  },
  {
   "cell_type": "code",
   "execution_count": 84,
   "id": "d29e4a67",
   "metadata": {},
   "outputs": [
    {
     "name": "stderr",
     "output_type": "stream",
     "text": [
      "/var/folders/j1/dtchj8_j3vvdkl3k52_qz2ym0000gn/T/ipykernel_26889/1616795480.py:2: DataConversionWarning: A column-vector y was passed when a 1d array was expected. Please change the shape of y to (n_samples,), for example using ravel().\n",
      "  model.fit(X_train, Y_train)\n"
     ]
    },
    {
     "data": {
      "text/plain": [
       "RandomForestRegressor(random_state=1)"
      ]
     },
     "execution_count": 84,
     "metadata": {},
     "output_type": "execute_result"
    }
   ],
   "source": [
    "model = RandomForestRegressor(random_state=1)\n",
    "model.fit(X_train, Y_train)"
   ]
  },
  {
   "cell_type": "code",
   "execution_count": 85,
   "id": "d7c3f079",
   "metadata": {},
   "outputs": [
    {
     "name": "stdout",
     "output_type": "stream",
     "text": [
      "[0.55698698 0.57272039 0.72286283 0.72286283 0.55698698 0.48484084\n",
      " 0.55698698 0.31409359 0.36475795 0.85722181 0.72286283 0.51078571\n",
      " 0.72286283 0.55698698 0.55698698 0.55698698 0.48484084 0.55698698\n",
      " 0.48484084 0.55698698 0.32905808 0.78536973 0.55698698 0.55698698\n",
      " 0.55698698 0.48484084 0.48484084 0.55698698 0.72286283 0.45752237\n",
      " 0.72286283 0.55632171 0.32905808 0.5248499  0.55698698 0.55698698\n",
      " 0.31409359 0.55698698 0.55698698 0.31758333 0.48140584 0.57272039\n",
      " 0.61304107 0.32905808 0.55698698 0.1580119  0.72286283 0.48484084\n",
      " 0.72286283 0.55559524 0.48484084 0.55698698 0.55698698 0.31409359\n",
      " 0.66602056 0.55698698 0.55698698 0.31409359 0.73890179 0.55698698\n",
      " 0.57272039 0.55698698 0.36475795 0.55698698 0.55698698 0.36475795\n",
      " 0.72286283 0.55698698 0.31409359 0.71688492 0.66071327 0.66071327\n",
      " 0.66602056 0.78536973 0.85722181 0.55698698 0.72286283 0.04869851\n",
      " 0.55698698 0.48484084 0.61304107 0.31409359 0.36475795 0.36475795\n",
      " 0.36475795 0.55698698 0.55698698 0.85722181 0.66071327 0.32905808\n",
      " 0.72286283 0.32905808 0.55698698 0.81895022 0.72286283 0.5248499\n",
      " 0.55698698 0.85722181 0.31409359 0.55698698 0.55698698 0.55698698\n",
      " 0.55698698 0.55698698 0.86350541 0.06152381 0.32905808 0.55559524\n",
      " 0.32905808 0.55698698 0.32905808 0.32905808 0.51078571 0.55698698\n",
      " 0.32905808 0.36475795 0.55698698 0.72286283 0.72286283 0.36475795\n",
      " 0.55698698 0.24151587 0.55698698 0.48484084 0.48484084 0.32905808\n",
      " 0.72286283 0.86350541 0.55698698 0.55698698 0.61304107 0.72286283\n",
      " 0.55698698 0.55698698 0.7026627  0.55698698 0.72286283 0.36475795\n",
      " 0.72286283 0.8899881  0.45752237 0.55698698 0.55698698 0.36475795\n",
      " 0.55698698 0.50371429 0.55632171 0.36475795 0.85722181 0.55698698\n",
      " 0.51078571 0.55698698 0.36475795 0.55698698 0.36475795 0.24151587\n",
      " 0.36475795]\n",
      "MAE: 0.483\n"
     ]
    }
   ],
   "source": [
    "Yhat = model.predict(X_test)\n",
    "print (Yhat)\n",
    "# evaluate predictions\n",
    "mae = mean_absolute_error(Y_test, Yhat)\n",
    "print('MAE: %.3f' % mae)"
   ]
  },
  {
   "cell_type": "code",
   "execution_count": 86,
   "id": "176a5e2c",
   "metadata": {},
   "outputs": [
    {
     "name": "stderr",
     "output_type": "stream",
     "text": [
      "/var/folders/j1/dtchj8_j3vvdkl3k52_qz2ym0000gn/T/ipykernel_26889/117644506.py:8: DataConversionWarning: A column-vector y was passed when a 1d array was expected. Please change the shape of y to (n_samples,), for example using ravel().\n",
      "  clf.fit(X_train,Y_train)\n"
     ]
    },
    {
     "data": {
      "text/plain": [
       "RandomForestClassifier()"
      ]
     },
     "execution_count": 86,
     "metadata": {},
     "output_type": "execute_result"
    }
   ],
   "source": [
    "#Import Random Forest Model\n",
    "from sklearn.ensemble import RandomForestClassifier\n",
    "\n",
    "#Create a Gaussian Classifier\n",
    "clf=RandomForestClassifier(n_estimators=100)\n",
    "\n",
    "#Train the model using the training sets y_pred=clf.predict(X_test)\n",
    "clf.fit(X_train,Y_train)\n",
    "\n",
    "y_pred=clf.predict(X_test)"
   ]
  },
  {
   "cell_type": "code",
   "execution_count": 97,
   "id": "6c41f620",
   "metadata": {},
   "outputs": [],
   "source": [
    "import sklearn.metrics as metrics"
   ]
  },
  {
   "cell_type": "code",
   "execution_count": 87,
   "id": "d3ed94fc",
   "metadata": {},
   "outputs": [],
   "source": [
    "from sklearn.metrics import accuracy_score"
   ]
  },
  {
   "cell_type": "code",
   "execution_count": 88,
   "id": "9419255f",
   "metadata": {},
   "outputs": [
    {
     "data": {
      "text/plain": [
       "157"
      ]
     },
     "execution_count": 88,
     "metadata": {},
     "output_type": "execute_result"
    }
   ],
   "source": [
    "len(Y_test)"
   ]
  },
  {
   "cell_type": "code",
   "execution_count": 89,
   "id": "8cd7162b",
   "metadata": {},
   "outputs": [
    {
     "data": {
      "text/plain": [
       "131"
      ]
     },
     "execution_count": 89,
     "metadata": {},
     "output_type": "execute_result"
    }
   ],
   "source": [
    "len(Y_pred)"
   ]
  },
  {
   "cell_type": "code",
   "execution_count": 94,
   "id": "cdb99f78",
   "metadata": {},
   "outputs": [],
   "source": [
    "Y_testing = Y_test[0:131]"
   ]
  },
  {
   "cell_type": "code",
   "execution_count": 95,
   "id": "9f00ef9c",
   "metadata": {},
   "outputs": [
    {
     "data": {
      "text/plain": [
       "0.5648854961832062"
      ]
     },
     "execution_count": 95,
     "metadata": {},
     "output_type": "execute_result"
    }
   ],
   "source": [
    "accuracy_score(Y_testing, Y_pred)"
   ]
  },
  {
   "cell_type": "code",
   "execution_count": 98,
   "id": "de464ba9",
   "metadata": {},
   "outputs": [
    {
     "data": {
      "text/plain": [
       "array([[14, 45],\n",
       "       [12, 60]])"
      ]
     },
     "execution_count": 98,
     "metadata": {},
     "output_type": "execute_result"
    }
   ],
   "source": [
    "metrics.confusion_matrix(Y_testing, Y_pred)"
   ]
  },
  {
   "cell_type": "code",
   "execution_count": 99,
   "id": "fb5b71de",
   "metadata": {},
   "outputs": [
    {
     "data": {
      "text/plain": [
       "Index(['Unnamed: 0', 'Age', 'Sex', 'Job', 'Housing', 'Savingaccounts',\n",
       "       'Checkingaccount', 'Creditamount', 'Duration', 'Purpose', 'Risk'],\n",
       "      dtype='object')"
      ]
     },
     "execution_count": 99,
     "metadata": {},
     "output_type": "execute_result"
    }
   ],
   "source": [
    "df.columns"
   ]
  },
  {
   "cell_type": "code",
   "execution_count": 100,
   "id": "82c271fd",
   "metadata": {},
   "outputs": [
    {
     "data": {
      "text/plain": [
       "Job               0.362498\n",
       "Housing           0.346596\n",
       "Savingaccounts    0.290906\n",
       "dtype: float64"
      ]
     },
     "execution_count": 100,
     "metadata": {},
     "output_type": "execute_result"
    }
   ],
   "source": [
    "import pandas as pd\n",
    "feature_imp = pd.Series(clf.feature_importances_,index =['Job','Housing','Savingaccounts']).sort_values(ascending=False)\n",
    "feature_imp"
   ]
  },
  {
   "cell_type": "code",
   "execution_count": 101,
   "id": "e9775d9b",
   "metadata": {},
   "outputs": [
    {
     "data": {
      "text/plain": [
       "<AxesSubplot:>"
      ]
     },
     "execution_count": 101,
     "metadata": {},
     "output_type": "execute_result"
    },
    {
     "data": {
      "text/plain": [
       "Text(0.5, 0, 'Feature Importance Score')"
      ]
     },
     "execution_count": 101,
     "metadata": {},
     "output_type": "execute_result"
    },
    {
     "data": {
      "text/plain": [
       "Text(0, 0.5, 'Features')"
      ]
     },
     "execution_count": 101,
     "metadata": {},
     "output_type": "execute_result"
    },
    {
     "data": {
      "text/plain": [
       "Text(0.5, 1.0, 'Visualizing Important Features')"
      ]
     },
     "execution_count": 101,
     "metadata": {},
     "output_type": "execute_result"
    },
    {
     "name": "stderr",
     "output_type": "stream",
     "text": [
      "No handles with labels found to put in legend.\n"
     ]
    },
    {
     "data": {
      "text/plain": [
       "<matplotlib.legend.Legend at 0x7fe1f91559d0>"
      ]
     },
     "execution_count": 101,
     "metadata": {},
     "output_type": "execute_result"
    },
    {
     "data": {
      "image/png": "[encoded data removed]",
      "text/plain": [
       "<Figure size 432x288 with 1 Axes>"
      ]
     },
     "metadata": {
      "needs_background": "light"
     },
     "output_type": "display_data"
    }
   ],
   "source": [
    "import matplotlib.pyplot as plt\n",
    "import seaborn as sns\n",
    "%matplotlib inline\n",
    "# Creating a bar plot\n",
    "sns.barplot(x=feature_imp, y=feature_imp.index)\n",
    "# Add labels to your graph\n",
    "plt.xlabel('Feature Importance Score')\n",
    "plt.ylabel('Features')\n",
    "plt.title(\"Visualizing Important Features\")\n",
    "plt.legend()\n",
    "plt.show()"
   ]
  },
  {
   "cell_type": "code",
   "execution_count": null,
   "id": "61cdb378",
   "metadata": {},
   "outputs": [],
   "source": []
  }
 ],
 "metadata": {
  "kernelspec": {
   "display_name": "Python 3 (ipykernel)",
   "language": "python",
   "name": "python3"
  },
  "language_info": {
   "codemirror_mode": {
    "name": "ipython",
    "version": 3
   },
   "file_extension": ".py",
   "mimetype": "text/x-python",
   "name": "python",
   "nbconvert_exporter": "python",
   "pygments_lexer": "ipython3",
   "version": "3.9.7"
  }
 },
 "nbformat": 4,
 "nbformat_minor": 5
}
